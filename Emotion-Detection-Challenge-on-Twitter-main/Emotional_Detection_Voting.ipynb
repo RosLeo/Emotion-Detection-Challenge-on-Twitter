{
  "nbformat": 4,
  "nbformat_minor": 0,
  "metadata": {
    "colab": {
      "provenance": []
    },
    "kernelspec": {
      "name": "python3",
      "display_name": "Python 3"
    },
    "language_info": {
      "name": "python"
    },
    "widgets": {
      "application/vnd.jupyter.widget-state+json": {
        "969bb2323a3c4404befeb8b0727380bd": {
          "model_module": "@jupyter-widgets/controls",
          "model_name": "HBoxModel",
          "model_module_version": "1.5.0",
          "state": {
            "_dom_classes": [],
            "_model_module": "@jupyter-widgets/controls",
            "_model_module_version": "1.5.0",
            "_model_name": "HBoxModel",
            "_view_count": null,
            "_view_module": "@jupyter-widgets/controls",
            "_view_module_version": "1.5.0",
            "_view_name": "HBoxView",
            "box_style": "",
            "children": [
              "IPY_MODEL_274690cbef344beabf79d5e4ab12e0a7",
              "IPY_MODEL_726a332bb18d49948046f46b7f76a2d6",
              "IPY_MODEL_013a7b04a1e942d3917316edbf2b8724"
            ],
            "layout": "IPY_MODEL_4b2f1149041646c3ab48cb1f42aa5d88"
          }
        },
        "274690cbef344beabf79d5e4ab12e0a7": {
          "model_module": "@jupyter-widgets/controls",
          "model_name": "HTMLModel",
          "model_module_version": "1.5.0",
          "state": {
            "_dom_classes": [],
            "_model_module": "@jupyter-widgets/controls",
            "_model_module_version": "1.5.0",
            "_model_name": "HTMLModel",
            "_view_count": null,
            "_view_module": "@jupyter-widgets/controls",
            "_view_module_version": "1.5.0",
            "_view_name": "HTMLView",
            "description": "",
            "description_tooltip": null,
            "layout": "IPY_MODEL_d55f97bff0364ec1b94c09dccab7d71d",
            "placeholder": "​",
            "style": "IPY_MODEL_c40a054c247f47c1a506abfce1c1e851",
            "value": "tokenizer_config.json: 100%"
          }
        },
        "726a332bb18d49948046f46b7f76a2d6": {
          "model_module": "@jupyter-widgets/controls",
          "model_name": "FloatProgressModel",
          "model_module_version": "1.5.0",
          "state": {
            "_dom_classes": [],
            "_model_module": "@jupyter-widgets/controls",
            "_model_module_version": "1.5.0",
            "_model_name": "FloatProgressModel",
            "_view_count": null,
            "_view_module": "@jupyter-widgets/controls",
            "_view_module_version": "1.5.0",
            "_view_name": "ProgressView",
            "bar_style": "success",
            "description": "",
            "description_tooltip": null,
            "layout": "IPY_MODEL_9c001662242e443ca0af19e7bbc08202",
            "max": 48,
            "min": 0,
            "orientation": "horizontal",
            "style": "IPY_MODEL_bc8d16bc57d4490b8475490ebb4eadfc",
            "value": 48
          }
        },
        "013a7b04a1e942d3917316edbf2b8724": {
          "model_module": "@jupyter-widgets/controls",
          "model_name": "HTMLModel",
          "model_module_version": "1.5.0",
          "state": {
            "_dom_classes": [],
            "_model_module": "@jupyter-widgets/controls",
            "_model_module_version": "1.5.0",
            "_model_name": "HTMLModel",
            "_view_count": null,
            "_view_module": "@jupyter-widgets/controls",
            "_view_module_version": "1.5.0",
            "_view_name": "HTMLView",
            "description": "",
            "description_tooltip": null,
            "layout": "IPY_MODEL_b0ec7c3f0da94d9c8d6d8036b253664e",
            "placeholder": "​",
            "style": "IPY_MODEL_69f4fef413074cab91cd89b273369ace",
            "value": " 48.0/48.0 [00:00&lt;00:00, 704B/s]"
          }
        },
        "4b2f1149041646c3ab48cb1f42aa5d88": {
          "model_module": "@jupyter-widgets/base",
          "model_name": "LayoutModel",
          "model_module_version": "1.2.0",
          "state": {
            "_model_module": "@jupyter-widgets/base",
            "_model_module_version": "1.2.0",
            "_model_name": "LayoutModel",
            "_view_count": null,
            "_view_module": "@jupyter-widgets/base",
            "_view_module_version": "1.2.0",
            "_view_name": "LayoutView",
            "align_content": null,
            "align_items": null,
            "align_self": null,
            "border": null,
            "bottom": null,
            "display": null,
            "flex": null,
            "flex_flow": null,
            "grid_area": null,
            "grid_auto_columns": null,
            "grid_auto_flow": null,
            "grid_auto_rows": null,
            "grid_column": null,
            "grid_gap": null,
            "grid_row": null,
            "grid_template_areas": null,
            "grid_template_columns": null,
            "grid_template_rows": null,
            "height": null,
            "justify_content": null,
            "justify_items": null,
            "left": null,
            "margin": null,
            "max_height": null,
            "max_width": null,
            "min_height": null,
            "min_width": null,
            "object_fit": null,
            "object_position": null,
            "order": null,
            "overflow": null,
            "overflow_x": null,
            "overflow_y": null,
            "padding": null,
            "right": null,
            "top": null,
            "visibility": null,
            "width": null
          }
        },
        "d55f97bff0364ec1b94c09dccab7d71d": {
          "model_module": "@jupyter-widgets/base",
          "model_name": "LayoutModel",
          "model_module_version": "1.2.0",
          "state": {
            "_model_module": "@jupyter-widgets/base",
            "_model_module_version": "1.2.0",
            "_model_name": "LayoutModel",
            "_view_count": null,
            "_view_module": "@jupyter-widgets/base",
            "_view_module_version": "1.2.0",
            "_view_name": "LayoutView",
            "align_content": null,
            "align_items": null,
            "align_self": null,
            "border": null,
            "bottom": null,
            "display": null,
            "flex": null,
            "flex_flow": null,
            "grid_area": null,
            "grid_auto_columns": null,
            "grid_auto_flow": null,
            "grid_auto_rows": null,
            "grid_column": null,
            "grid_gap": null,
            "grid_row": null,
            "grid_template_areas": null,
            "grid_template_columns": null,
            "grid_template_rows": null,
            "height": null,
            "justify_content": null,
            "justify_items": null,
            "left": null,
            "margin": null,
            "max_height": null,
            "max_width": null,
            "min_height": null,
            "min_width": null,
            "object_fit": null,
            "object_position": null,
            "order": null,
            "overflow": null,
            "overflow_x": null,
            "overflow_y": null,
            "padding": null,
            "right": null,
            "top": null,
            "visibility": null,
            "width": null
          }
        },
        "c40a054c247f47c1a506abfce1c1e851": {
          "model_module": "@jupyter-widgets/controls",
          "model_name": "DescriptionStyleModel",
          "model_module_version": "1.5.0",
          "state": {
            "_model_module": "@jupyter-widgets/controls",
            "_model_module_version": "1.5.0",
            "_model_name": "DescriptionStyleModel",
            "_view_count": null,
            "_view_module": "@jupyter-widgets/base",
            "_view_module_version": "1.2.0",
            "_view_name": "StyleView",
            "description_width": ""
          }
        },
        "9c001662242e443ca0af19e7bbc08202": {
          "model_module": "@jupyter-widgets/base",
          "model_name": "LayoutModel",
          "model_module_version": "1.2.0",
          "state": {
            "_model_module": "@jupyter-widgets/base",
            "_model_module_version": "1.2.0",
            "_model_name": "LayoutModel",
            "_view_count": null,
            "_view_module": "@jupyter-widgets/base",
            "_view_module_version": "1.2.0",
            "_view_name": "LayoutView",
            "align_content": null,
            "align_items": null,
            "align_self": null,
            "border": null,
            "bottom": null,
            "display": null,
            "flex": null,
            "flex_flow": null,
            "grid_area": null,
            "grid_auto_columns": null,
            "grid_auto_flow": null,
            "grid_auto_rows": null,
            "grid_column": null,
            "grid_gap": null,
            "grid_row": null,
            "grid_template_areas": null,
            "grid_template_columns": null,
            "grid_template_rows": null,
            "height": null,
            "justify_content": null,
            "justify_items": null,
            "left": null,
            "margin": null,
            "max_height": null,
            "max_width": null,
            "min_height": null,
            "min_width": null,
            "object_fit": null,
            "object_position": null,
            "order": null,
            "overflow": null,
            "overflow_x": null,
            "overflow_y": null,
            "padding": null,
            "right": null,
            "top": null,
            "visibility": null,
            "width": null
          }
        },
        "bc8d16bc57d4490b8475490ebb4eadfc": {
          "model_module": "@jupyter-widgets/controls",
          "model_name": "ProgressStyleModel",
          "model_module_version": "1.5.0",
          "state": {
            "_model_module": "@jupyter-widgets/controls",
            "_model_module_version": "1.5.0",
            "_model_name": "ProgressStyleModel",
            "_view_count": null,
            "_view_module": "@jupyter-widgets/base",
            "_view_module_version": "1.2.0",
            "_view_name": "StyleView",
            "bar_color": null,
            "description_width": ""
          }
        },
        "b0ec7c3f0da94d9c8d6d8036b253664e": {
          "model_module": "@jupyter-widgets/base",
          "model_name": "LayoutModel",
          "model_module_version": "1.2.0",
          "state": {
            "_model_module": "@jupyter-widgets/base",
            "_model_module_version": "1.2.0",
            "_model_name": "LayoutModel",
            "_view_count": null,
            "_view_module": "@jupyter-widgets/base",
            "_view_module_version": "1.2.0",
            "_view_name": "LayoutView",
            "align_content": null,
            "align_items": null,
            "align_self": null,
            "border": null,
            "bottom": null,
            "display": null,
            "flex": null,
            "flex_flow": null,
            "grid_area": null,
            "grid_auto_columns": null,
            "grid_auto_flow": null,
            "grid_auto_rows": null,
            "grid_column": null,
            "grid_gap": null,
            "grid_row": null,
            "grid_template_areas": null,
            "grid_template_columns": null,
            "grid_template_rows": null,
            "height": null,
            "justify_content": null,
            "justify_items": null,
            "left": null,
            "margin": null,
            "max_height": null,
            "max_width": null,
            "min_height": null,
            "min_width": null,
            "object_fit": null,
            "object_position": null,
            "order": null,
            "overflow": null,
            "overflow_x": null,
            "overflow_y": null,
            "padding": null,
            "right": null,
            "top": null,
            "visibility": null,
            "width": null
          }
        },
        "69f4fef413074cab91cd89b273369ace": {
          "model_module": "@jupyter-widgets/controls",
          "model_name": "DescriptionStyleModel",
          "model_module_version": "1.5.0",
          "state": {
            "_model_module": "@jupyter-widgets/controls",
            "_model_module_version": "1.5.0",
            "_model_name": "DescriptionStyleModel",
            "_view_count": null,
            "_view_module": "@jupyter-widgets/base",
            "_view_module_version": "1.2.0",
            "_view_name": "StyleView",
            "description_width": ""
          }
        },
        "fc55f43646a7461895fb4b8f467e5904": {
          "model_module": "@jupyter-widgets/controls",
          "model_name": "HBoxModel",
          "model_module_version": "1.5.0",
          "state": {
            "_dom_classes": [],
            "_model_module": "@jupyter-widgets/controls",
            "_model_module_version": "1.5.0",
            "_model_name": "HBoxModel",
            "_view_count": null,
            "_view_module": "@jupyter-widgets/controls",
            "_view_module_version": "1.5.0",
            "_view_name": "HBoxView",
            "box_style": "",
            "children": [
              "IPY_MODEL_4c4f9f0da4a94e108e3f4e39b3f2162e",
              "IPY_MODEL_7ed6a7069d9c4a529228af18903ea54e",
              "IPY_MODEL_fc5ece1ae1124dbbb3eecc027769e9b4"
            ],
            "layout": "IPY_MODEL_1e2a51f2a64b4230ab1e94154bb3095d"
          }
        },
        "4c4f9f0da4a94e108e3f4e39b3f2162e": {
          "model_module": "@jupyter-widgets/controls",
          "model_name": "HTMLModel",
          "model_module_version": "1.5.0",
          "state": {
            "_dom_classes": [],
            "_model_module": "@jupyter-widgets/controls",
            "_model_module_version": "1.5.0",
            "_model_name": "HTMLModel",
            "_view_count": null,
            "_view_module": "@jupyter-widgets/controls",
            "_view_module_version": "1.5.0",
            "_view_name": "HTMLView",
            "description": "",
            "description_tooltip": null,
            "layout": "IPY_MODEL_b939c7379bfe453b85cf0259eb6bb6c7",
            "placeholder": "​",
            "style": "IPY_MODEL_86d5e672b91c4cea9f11134252b6470d",
            "value": "config.json: 100%"
          }
        },
        "7ed6a7069d9c4a529228af18903ea54e": {
          "model_module": "@jupyter-widgets/controls",
          "model_name": "FloatProgressModel",
          "model_module_version": "1.5.0",
          "state": {
            "_dom_classes": [],
            "_model_module": "@jupyter-widgets/controls",
            "_model_module_version": "1.5.0",
            "_model_name": "FloatProgressModel",
            "_view_count": null,
            "_view_module": "@jupyter-widgets/controls",
            "_view_module_version": "1.5.0",
            "_view_name": "ProgressView",
            "bar_style": "success",
            "description": "",
            "description_tooltip": null,
            "layout": "IPY_MODEL_eb993e8a8242404887fcdcce51877284",
            "max": 483,
            "min": 0,
            "orientation": "horizontal",
            "style": "IPY_MODEL_6542646a92904f9cbdb15cc761447e21",
            "value": 483
          }
        },
        "fc5ece1ae1124dbbb3eecc027769e9b4": {
          "model_module": "@jupyter-widgets/controls",
          "model_name": "HTMLModel",
          "model_module_version": "1.5.0",
          "state": {
            "_dom_classes": [],
            "_model_module": "@jupyter-widgets/controls",
            "_model_module_version": "1.5.0",
            "_model_name": "HTMLModel",
            "_view_count": null,
            "_view_module": "@jupyter-widgets/controls",
            "_view_module_version": "1.5.0",
            "_view_name": "HTMLView",
            "description": "",
            "description_tooltip": null,
            "layout": "IPY_MODEL_682e390aa14a440a8c8656168c443751",
            "placeholder": "​",
            "style": "IPY_MODEL_b0885763bccc426ab40990aa6d811da0",
            "value": " 483/483 [00:00&lt;00:00, 9.80kB/s]"
          }
        },
        "1e2a51f2a64b4230ab1e94154bb3095d": {
          "model_module": "@jupyter-widgets/base",
          "model_name": "LayoutModel",
          "model_module_version": "1.2.0",
          "state": {
            "_model_module": "@jupyter-widgets/base",
            "_model_module_version": "1.2.0",
            "_model_name": "LayoutModel",
            "_view_count": null,
            "_view_module": "@jupyter-widgets/base",
            "_view_module_version": "1.2.0",
            "_view_name": "LayoutView",
            "align_content": null,
            "align_items": null,
            "align_self": null,
            "border": null,
            "bottom": null,
            "display": null,
            "flex": null,
            "flex_flow": null,
            "grid_area": null,
            "grid_auto_columns": null,
            "grid_auto_flow": null,
            "grid_auto_rows": null,
            "grid_column": null,
            "grid_gap": null,
            "grid_row": null,
            "grid_template_areas": null,
            "grid_template_columns": null,
            "grid_template_rows": null,
            "height": null,
            "justify_content": null,
            "justify_items": null,
            "left": null,
            "margin": null,
            "max_height": null,
            "max_width": null,
            "min_height": null,
            "min_width": null,
            "object_fit": null,
            "object_position": null,
            "order": null,
            "overflow": null,
            "overflow_x": null,
            "overflow_y": null,
            "padding": null,
            "right": null,
            "top": null,
            "visibility": null,
            "width": null
          }
        },
        "b939c7379bfe453b85cf0259eb6bb6c7": {
          "model_module": "@jupyter-widgets/base",
          "model_name": "LayoutModel",
          "model_module_version": "1.2.0",
          "state": {
            "_model_module": "@jupyter-widgets/base",
            "_model_module_version": "1.2.0",
            "_model_name": "LayoutModel",
            "_view_count": null,
            "_view_module": "@jupyter-widgets/base",
            "_view_module_version": "1.2.0",
            "_view_name": "LayoutView",
            "align_content": null,
            "align_items": null,
            "align_self": null,
            "border": null,
            "bottom": null,
            "display": null,
            "flex": null,
            "flex_flow": null,
            "grid_area": null,
            "grid_auto_columns": null,
            "grid_auto_flow": null,
            "grid_auto_rows": null,
            "grid_column": null,
            "grid_gap": null,
            "grid_row": null,
            "grid_template_areas": null,
            "grid_template_columns": null,
            "grid_template_rows": null,
            "height": null,
            "justify_content": null,
            "justify_items": null,
            "left": null,
            "margin": null,
            "max_height": null,
            "max_width": null,
            "min_height": null,
            "min_width": null,
            "object_fit": null,
            "object_position": null,
            "order": null,
            "overflow": null,
            "overflow_x": null,
            "overflow_y": null,
            "padding": null,
            "right": null,
            "top": null,
            "visibility": null,
            "width": null
          }
        },
        "86d5e672b91c4cea9f11134252b6470d": {
          "model_module": "@jupyter-widgets/controls",
          "model_name": "DescriptionStyleModel",
          "model_module_version": "1.5.0",
          "state": {
            "_model_module": "@jupyter-widgets/controls",
            "_model_module_version": "1.5.0",
            "_model_name": "DescriptionStyleModel",
            "_view_count": null,
            "_view_module": "@jupyter-widgets/base",
            "_view_module_version": "1.2.0",
            "_view_name": "StyleView",
            "description_width": ""
          }
        },
        "eb993e8a8242404887fcdcce51877284": {
          "model_module": "@jupyter-widgets/base",
          "model_name": "LayoutModel",
          "model_module_version": "1.2.0",
          "state": {
            "_model_module": "@jupyter-widgets/base",
            "_model_module_version": "1.2.0",
            "_model_name": "LayoutModel",
            "_view_count": null,
            "_view_module": "@jupyter-widgets/base",
            "_view_module_version": "1.2.0",
            "_view_name": "LayoutView",
            "align_content": null,
            "align_items": null,
            "align_self": null,
            "border": null,
            "bottom": null,
            "display": null,
            "flex": null,
            "flex_flow": null,
            "grid_area": null,
            "grid_auto_columns": null,
            "grid_auto_flow": null,
            "grid_auto_rows": null,
            "grid_column": null,
            "grid_gap": null,
            "grid_row": null,
            "grid_template_areas": null,
            "grid_template_columns": null,
            "grid_template_rows": null,
            "height": null,
            "justify_content": null,
            "justify_items": null,
            "left": null,
            "margin": null,
            "max_height": null,
            "max_width": null,
            "min_height": null,
            "min_width": null,
            "object_fit": null,
            "object_position": null,
            "order": null,
            "overflow": null,
            "overflow_x": null,
            "overflow_y": null,
            "padding": null,
            "right": null,
            "top": null,
            "visibility": null,
            "width": null
          }
        },
        "6542646a92904f9cbdb15cc761447e21": {
          "model_module": "@jupyter-widgets/controls",
          "model_name": "ProgressStyleModel",
          "model_module_version": "1.5.0",
          "state": {
            "_model_module": "@jupyter-widgets/controls",
            "_model_module_version": "1.5.0",
            "_model_name": "ProgressStyleModel",
            "_view_count": null,
            "_view_module": "@jupyter-widgets/base",
            "_view_module_version": "1.2.0",
            "_view_name": "StyleView",
            "bar_color": null,
            "description_width": ""
          }
        },
        "682e390aa14a440a8c8656168c443751": {
          "model_module": "@jupyter-widgets/base",
          "model_name": "LayoutModel",
          "model_module_version": "1.2.0",
          "state": {
            "_model_module": "@jupyter-widgets/base",
            "_model_module_version": "1.2.0",
            "_model_name": "LayoutModel",
            "_view_count": null,
            "_view_module": "@jupyter-widgets/base",
            "_view_module_version": "1.2.0",
            "_view_name": "LayoutView",
            "align_content": null,
            "align_items": null,
            "align_self": null,
            "border": null,
            "bottom": null,
            "display": null,
            "flex": null,
            "flex_flow": null,
            "grid_area": null,
            "grid_auto_columns": null,
            "grid_auto_flow": null,
            "grid_auto_rows": null,
            "grid_column": null,
            "grid_gap": null,
            "grid_row": null,
            "grid_template_areas": null,
            "grid_template_columns": null,
            "grid_template_rows": null,
            "height": null,
            "justify_content": null,
            "justify_items": null,
            "left": null,
            "margin": null,
            "max_height": null,
            "max_width": null,
            "min_height": null,
            "min_width": null,
            "object_fit": null,
            "object_position": null,
            "order": null,
            "overflow": null,
            "overflow_x": null,
            "overflow_y": null,
            "padding": null,
            "right": null,
            "top": null,
            "visibility": null,
            "width": null
          }
        },
        "b0885763bccc426ab40990aa6d811da0": {
          "model_module": "@jupyter-widgets/controls",
          "model_name": "DescriptionStyleModel",
          "model_module_version": "1.5.0",
          "state": {
            "_model_module": "@jupyter-widgets/controls",
            "_model_module_version": "1.5.0",
            "_model_name": "DescriptionStyleModel",
            "_view_count": null,
            "_view_module": "@jupyter-widgets/base",
            "_view_module_version": "1.2.0",
            "_view_name": "StyleView",
            "description_width": ""
          }
        },
        "b876fcce89d14255a40002b988315b5e": {
          "model_module": "@jupyter-widgets/controls",
          "model_name": "HBoxModel",
          "model_module_version": "1.5.0",
          "state": {
            "_dom_classes": [],
            "_model_module": "@jupyter-widgets/controls",
            "_model_module_version": "1.5.0",
            "_model_name": "HBoxModel",
            "_view_count": null,
            "_view_module": "@jupyter-widgets/controls",
            "_view_module_version": "1.5.0",
            "_view_name": "HBoxView",
            "box_style": "",
            "children": [
              "IPY_MODEL_151e368ac01346948c9e302c55e0f3f9",
              "IPY_MODEL_b32ec7dfc1694ead89173bd77447774a",
              "IPY_MODEL_40f792c32096479096505bc0582c2236"
            ],
            "layout": "IPY_MODEL_f0d34c4280e54c598d07e2aece9a819e"
          }
        },
        "151e368ac01346948c9e302c55e0f3f9": {
          "model_module": "@jupyter-widgets/controls",
          "model_name": "HTMLModel",
          "model_module_version": "1.5.0",
          "state": {
            "_dom_classes": [],
            "_model_module": "@jupyter-widgets/controls",
            "_model_module_version": "1.5.0",
            "_model_name": "HTMLModel",
            "_view_count": null,
            "_view_module": "@jupyter-widgets/controls",
            "_view_module_version": "1.5.0",
            "_view_name": "HTMLView",
            "description": "",
            "description_tooltip": null,
            "layout": "IPY_MODEL_e0c5e04eba9543db970c2ec6574e197d",
            "placeholder": "​",
            "style": "IPY_MODEL_929b93002b5b42749aa0aa2d794634f9",
            "value": "vocab.txt: 100%"
          }
        },
        "b32ec7dfc1694ead89173bd77447774a": {
          "model_module": "@jupyter-widgets/controls",
          "model_name": "FloatProgressModel",
          "model_module_version": "1.5.0",
          "state": {
            "_dom_classes": [],
            "_model_module": "@jupyter-widgets/controls",
            "_model_module_version": "1.5.0",
            "_model_name": "FloatProgressModel",
            "_view_count": null,
            "_view_module": "@jupyter-widgets/controls",
            "_view_module_version": "1.5.0",
            "_view_name": "ProgressView",
            "bar_style": "success",
            "description": "",
            "description_tooltip": null,
            "layout": "IPY_MODEL_4d42490724334a5ca68659d7d054de03",
            "max": 231508,
            "min": 0,
            "orientation": "horizontal",
            "style": "IPY_MODEL_60ed34e2d4ca4b86aa66b9e256b2efc2",
            "value": 231508
          }
        },
        "40f792c32096479096505bc0582c2236": {
          "model_module": "@jupyter-widgets/controls",
          "model_name": "HTMLModel",
          "model_module_version": "1.5.0",
          "state": {
            "_dom_classes": [],
            "_model_module": "@jupyter-widgets/controls",
            "_model_module_version": "1.5.0",
            "_model_name": "HTMLModel",
            "_view_count": null,
            "_view_module": "@jupyter-widgets/controls",
            "_view_module_version": "1.5.0",
            "_view_name": "HTMLView",
            "description": "",
            "description_tooltip": null,
            "layout": "IPY_MODEL_8849e63bf9ec4f8b9d86ec363747b620",
            "placeholder": "​",
            "style": "IPY_MODEL_2756447c79d34e12aa234a67ccbdeb6c",
            "value": " 232k/232k [00:00&lt;00:00, 2.92MB/s]"
          }
        },
        "f0d34c4280e54c598d07e2aece9a819e": {
          "model_module": "@jupyter-widgets/base",
          "model_name": "LayoutModel",
          "model_module_version": "1.2.0",
          "state": {
            "_model_module": "@jupyter-widgets/base",
            "_model_module_version": "1.2.0",
            "_model_name": "LayoutModel",
            "_view_count": null,
            "_view_module": "@jupyter-widgets/base",
            "_view_module_version": "1.2.0",
            "_view_name": "LayoutView",
            "align_content": null,
            "align_items": null,
            "align_self": null,
            "border": null,
            "bottom": null,
            "display": null,
            "flex": null,
            "flex_flow": null,
            "grid_area": null,
            "grid_auto_columns": null,
            "grid_auto_flow": null,
            "grid_auto_rows": null,
            "grid_column": null,
            "grid_gap": null,
            "grid_row": null,
            "grid_template_areas": null,
            "grid_template_columns": null,
            "grid_template_rows": null,
            "height": null,
            "justify_content": null,
            "justify_items": null,
            "left": null,
            "margin": null,
            "max_height": null,
            "max_width": null,
            "min_height": null,
            "min_width": null,
            "object_fit": null,
            "object_position": null,
            "order": null,
            "overflow": null,
            "overflow_x": null,
            "overflow_y": null,
            "padding": null,
            "right": null,
            "top": null,
            "visibility": null,
            "width": null
          }
        },
        "e0c5e04eba9543db970c2ec6574e197d": {
          "model_module": "@jupyter-widgets/base",
          "model_name": "LayoutModel",
          "model_module_version": "1.2.0",
          "state": {
            "_model_module": "@jupyter-widgets/base",
            "_model_module_version": "1.2.0",
            "_model_name": "LayoutModel",
            "_view_count": null,
            "_view_module": "@jupyter-widgets/base",
            "_view_module_version": "1.2.0",
            "_view_name": "LayoutView",
            "align_content": null,
            "align_items": null,
            "align_self": null,
            "border": null,
            "bottom": null,
            "display": null,
            "flex": null,
            "flex_flow": null,
            "grid_area": null,
            "grid_auto_columns": null,
            "grid_auto_flow": null,
            "grid_auto_rows": null,
            "grid_column": null,
            "grid_gap": null,
            "grid_row": null,
            "grid_template_areas": null,
            "grid_template_columns": null,
            "grid_template_rows": null,
            "height": null,
            "justify_content": null,
            "justify_items": null,
            "left": null,
            "margin": null,
            "max_height": null,
            "max_width": null,
            "min_height": null,
            "min_width": null,
            "object_fit": null,
            "object_position": null,
            "order": null,
            "overflow": null,
            "overflow_x": null,
            "overflow_y": null,
            "padding": null,
            "right": null,
            "top": null,
            "visibility": null,
            "width": null
          }
        },
        "929b93002b5b42749aa0aa2d794634f9": {
          "model_module": "@jupyter-widgets/controls",
          "model_name": "DescriptionStyleModel",
          "model_module_version": "1.5.0",
          "state": {
            "_model_module": "@jupyter-widgets/controls",
            "_model_module_version": "1.5.0",
            "_model_name": "DescriptionStyleModel",
            "_view_count": null,
            "_view_module": "@jupyter-widgets/base",
            "_view_module_version": "1.2.0",
            "_view_name": "StyleView",
            "description_width": ""
          }
        },
        "4d42490724334a5ca68659d7d054de03": {
          "model_module": "@jupyter-widgets/base",
          "model_name": "LayoutModel",
          "model_module_version": "1.2.0",
          "state": {
            "_model_module": "@jupyter-widgets/base",
            "_model_module_version": "1.2.0",
            "_model_name": "LayoutModel",
            "_view_count": null,
            "_view_module": "@jupyter-widgets/base",
            "_view_module_version": "1.2.0",
            "_view_name": "LayoutView",
            "align_content": null,
            "align_items": null,
            "align_self": null,
            "border": null,
            "bottom": null,
            "display": null,
            "flex": null,
            "flex_flow": null,
            "grid_area": null,
            "grid_auto_columns": null,
            "grid_auto_flow": null,
            "grid_auto_rows": null,
            "grid_column": null,
            "grid_gap": null,
            "grid_row": null,
            "grid_template_areas": null,
            "grid_template_columns": null,
            "grid_template_rows": null,
            "height": null,
            "justify_content": null,
            "justify_items": null,
            "left": null,
            "margin": null,
            "max_height": null,
            "max_width": null,
            "min_height": null,
            "min_width": null,
            "object_fit": null,
            "object_position": null,
            "order": null,
            "overflow": null,
            "overflow_x": null,
            "overflow_y": null,
            "padding": null,
            "right": null,
            "top": null,
            "visibility": null,
            "width": null
          }
        },
        "60ed34e2d4ca4b86aa66b9e256b2efc2": {
          "model_module": "@jupyter-widgets/controls",
          "model_name": "ProgressStyleModel",
          "model_module_version": "1.5.0",
          "state": {
            "_model_module": "@jupyter-widgets/controls",
            "_model_module_version": "1.5.0",
            "_model_name": "ProgressStyleModel",
            "_view_count": null,
            "_view_module": "@jupyter-widgets/base",
            "_view_module_version": "1.2.0",
            "_view_name": "StyleView",
            "bar_color": null,
            "description_width": ""
          }
        },
        "8849e63bf9ec4f8b9d86ec363747b620": {
          "model_module": "@jupyter-widgets/base",
          "model_name": "LayoutModel",
          "model_module_version": "1.2.0",
          "state": {
            "_model_module": "@jupyter-widgets/base",
            "_model_module_version": "1.2.0",
            "_model_name": "LayoutModel",
            "_view_count": null,
            "_view_module": "@jupyter-widgets/base",
            "_view_module_version": "1.2.0",
            "_view_name": "LayoutView",
            "align_content": null,
            "align_items": null,
            "align_self": null,
            "border": null,
            "bottom": null,
            "display": null,
            "flex": null,
            "flex_flow": null,
            "grid_area": null,
            "grid_auto_columns": null,
            "grid_auto_flow": null,
            "grid_auto_rows": null,
            "grid_column": null,
            "grid_gap": null,
            "grid_row": null,
            "grid_template_areas": null,
            "grid_template_columns": null,
            "grid_template_rows": null,
            "height": null,
            "justify_content": null,
            "justify_items": null,
            "left": null,
            "margin": null,
            "max_height": null,
            "max_width": null,
            "min_height": null,
            "min_width": null,
            "object_fit": null,
            "object_position": null,
            "order": null,
            "overflow": null,
            "overflow_x": null,
            "overflow_y": null,
            "padding": null,
            "right": null,
            "top": null,
            "visibility": null,
            "width": null
          }
        },
        "2756447c79d34e12aa234a67ccbdeb6c": {
          "model_module": "@jupyter-widgets/controls",
          "model_name": "DescriptionStyleModel",
          "model_module_version": "1.5.0",
          "state": {
            "_model_module": "@jupyter-widgets/controls",
            "_model_module_version": "1.5.0",
            "_model_name": "DescriptionStyleModel",
            "_view_count": null,
            "_view_module": "@jupyter-widgets/base",
            "_view_module_version": "1.2.0",
            "_view_name": "StyleView",
            "description_width": ""
          }
        },
        "9dac28c83d7e43be9a2c119e75beed23": {
          "model_module": "@jupyter-widgets/controls",
          "model_name": "HBoxModel",
          "model_module_version": "1.5.0",
          "state": {
            "_dom_classes": [],
            "_model_module": "@jupyter-widgets/controls",
            "_model_module_version": "1.5.0",
            "_model_name": "HBoxModel",
            "_view_count": null,
            "_view_module": "@jupyter-widgets/controls",
            "_view_module_version": "1.5.0",
            "_view_name": "HBoxView",
            "box_style": "",
            "children": [
              "IPY_MODEL_3313c2913ba04e758d86ebc9de3c9a77",
              "IPY_MODEL_3855e28aa34d4886b9a76c49a9acd0cf",
              "IPY_MODEL_7bb1ce4578e140958a8d63f7e9fea909"
            ],
            "layout": "IPY_MODEL_e50106e6a14a46e291711a52c9b794a3"
          }
        },
        "3313c2913ba04e758d86ebc9de3c9a77": {
          "model_module": "@jupyter-widgets/controls",
          "model_name": "HTMLModel",
          "model_module_version": "1.5.0",
          "state": {
            "_dom_classes": [],
            "_model_module": "@jupyter-widgets/controls",
            "_model_module_version": "1.5.0",
            "_model_name": "HTMLModel",
            "_view_count": null,
            "_view_module": "@jupyter-widgets/controls",
            "_view_module_version": "1.5.0",
            "_view_name": "HTMLView",
            "description": "",
            "description_tooltip": null,
            "layout": "IPY_MODEL_ab56059eed46411b9bac259d0bcc1c93",
            "placeholder": "​",
            "style": "IPY_MODEL_81d7a18ab359441e9a404232e7f7706a",
            "value": "tokenizer.json: 100%"
          }
        },
        "3855e28aa34d4886b9a76c49a9acd0cf": {
          "model_module": "@jupyter-widgets/controls",
          "model_name": "FloatProgressModel",
          "model_module_version": "1.5.0",
          "state": {
            "_dom_classes": [],
            "_model_module": "@jupyter-widgets/controls",
            "_model_module_version": "1.5.0",
            "_model_name": "FloatProgressModel",
            "_view_count": null,
            "_view_module": "@jupyter-widgets/controls",
            "_view_module_version": "1.5.0",
            "_view_name": "ProgressView",
            "bar_style": "success",
            "description": "",
            "description_tooltip": null,
            "layout": "IPY_MODEL_41461172d2bb474ea1cfe14718e698a8",
            "max": 466062,
            "min": 0,
            "orientation": "horizontal",
            "style": "IPY_MODEL_a729b23be1b5429e8325f6d6c6fb82fc",
            "value": 466062
          }
        },
        "7bb1ce4578e140958a8d63f7e9fea909": {
          "model_module": "@jupyter-widgets/controls",
          "model_name": "HTMLModel",
          "model_module_version": "1.5.0",
          "state": {
            "_dom_classes": [],
            "_model_module": "@jupyter-widgets/controls",
            "_model_module_version": "1.5.0",
            "_model_name": "HTMLModel",
            "_view_count": null,
            "_view_module": "@jupyter-widgets/controls",
            "_view_module_version": "1.5.0",
            "_view_name": "HTMLView",
            "description": "",
            "description_tooltip": null,
            "layout": "IPY_MODEL_b26727d759324335aba17e2288d82a6d",
            "placeholder": "​",
            "style": "IPY_MODEL_07cf92a1d9404b7282f9510704326f03",
            "value": " 466k/466k [00:00&lt;00:00, 2.47MB/s]"
          }
        },
        "e50106e6a14a46e291711a52c9b794a3": {
          "model_module": "@jupyter-widgets/base",
          "model_name": "LayoutModel",
          "model_module_version": "1.2.0",
          "state": {
            "_model_module": "@jupyter-widgets/base",
            "_model_module_version": "1.2.0",
            "_model_name": "LayoutModel",
            "_view_count": null,
            "_view_module": "@jupyter-widgets/base",
            "_view_module_version": "1.2.0",
            "_view_name": "LayoutView",
            "align_content": null,
            "align_items": null,
            "align_self": null,
            "border": null,
            "bottom": null,
            "display": null,
            "flex": null,
            "flex_flow": null,
            "grid_area": null,
            "grid_auto_columns": null,
            "grid_auto_flow": null,
            "grid_auto_rows": null,
            "grid_column": null,
            "grid_gap": null,
            "grid_row": null,
            "grid_template_areas": null,
            "grid_template_columns": null,
            "grid_template_rows": null,
            "height": null,
            "justify_content": null,
            "justify_items": null,
            "left": null,
            "margin": null,
            "max_height": null,
            "max_width": null,
            "min_height": null,
            "min_width": null,
            "object_fit": null,
            "object_position": null,
            "order": null,
            "overflow": null,
            "overflow_x": null,
            "overflow_y": null,
            "padding": null,
            "right": null,
            "top": null,
            "visibility": null,
            "width": null
          }
        },
        "ab56059eed46411b9bac259d0bcc1c93": {
          "model_module": "@jupyter-widgets/base",
          "model_name": "LayoutModel",
          "model_module_version": "1.2.0",
          "state": {
            "_model_module": "@jupyter-widgets/base",
            "_model_module_version": "1.2.0",
            "_model_name": "LayoutModel",
            "_view_count": null,
            "_view_module": "@jupyter-widgets/base",
            "_view_module_version": "1.2.0",
            "_view_name": "LayoutView",
            "align_content": null,
            "align_items": null,
            "align_self": null,
            "border": null,
            "bottom": null,
            "display": null,
            "flex": null,
            "flex_flow": null,
            "grid_area": null,
            "grid_auto_columns": null,
            "grid_auto_flow": null,
            "grid_auto_rows": null,
            "grid_column": null,
            "grid_gap": null,
            "grid_row": null,
            "grid_template_areas": null,
            "grid_template_columns": null,
            "grid_template_rows": null,
            "height": null,
            "justify_content": null,
            "justify_items": null,
            "left": null,
            "margin": null,
            "max_height": null,
            "max_width": null,
            "min_height": null,
            "min_width": null,
            "object_fit": null,
            "object_position": null,
            "order": null,
            "overflow": null,
            "overflow_x": null,
            "overflow_y": null,
            "padding": null,
            "right": null,
            "top": null,
            "visibility": null,
            "width": null
          }
        },
        "81d7a18ab359441e9a404232e7f7706a": {
          "model_module": "@jupyter-widgets/controls",
          "model_name": "DescriptionStyleModel",
          "model_module_version": "1.5.0",
          "state": {
            "_model_module": "@jupyter-widgets/controls",
            "_model_module_version": "1.5.0",
            "_model_name": "DescriptionStyleModel",
            "_view_count": null,
            "_view_module": "@jupyter-widgets/base",
            "_view_module_version": "1.2.0",
            "_view_name": "StyleView",
            "description_width": ""
          }
        },
        "41461172d2bb474ea1cfe14718e698a8": {
          "model_module": "@jupyter-widgets/base",
          "model_name": "LayoutModel",
          "model_module_version": "1.2.0",
          "state": {
            "_model_module": "@jupyter-widgets/base",
            "_model_module_version": "1.2.0",
            "_model_name": "LayoutModel",
            "_view_count": null,
            "_view_module": "@jupyter-widgets/base",
            "_view_module_version": "1.2.0",
            "_view_name": "LayoutView",
            "align_content": null,
            "align_items": null,
            "align_self": null,
            "border": null,
            "bottom": null,
            "display": null,
            "flex": null,
            "flex_flow": null,
            "grid_area": null,
            "grid_auto_columns": null,
            "grid_auto_flow": null,
            "grid_auto_rows": null,
            "grid_column": null,
            "grid_gap": null,
            "grid_row": null,
            "grid_template_areas": null,
            "grid_template_columns": null,
            "grid_template_rows": null,
            "height": null,
            "justify_content": null,
            "justify_items": null,
            "left": null,
            "margin": null,
            "max_height": null,
            "max_width": null,
            "min_height": null,
            "min_width": null,
            "object_fit": null,
            "object_position": null,
            "order": null,
            "overflow": null,
            "overflow_x": null,
            "overflow_y": null,
            "padding": null,
            "right": null,
            "top": null,
            "visibility": null,
            "width": null
          }
        },
        "a729b23be1b5429e8325f6d6c6fb82fc": {
          "model_module": "@jupyter-widgets/controls",
          "model_name": "ProgressStyleModel",
          "model_module_version": "1.5.0",
          "state": {
            "_model_module": "@jupyter-widgets/controls",
            "_model_module_version": "1.5.0",
            "_model_name": "ProgressStyleModel",
            "_view_count": null,
            "_view_module": "@jupyter-widgets/base",
            "_view_module_version": "1.2.0",
            "_view_name": "StyleView",
            "bar_color": null,
            "description_width": ""
          }
        },
        "b26727d759324335aba17e2288d82a6d": {
          "model_module": "@jupyter-widgets/base",
          "model_name": "LayoutModel",
          "model_module_version": "1.2.0",
          "state": {
            "_model_module": "@jupyter-widgets/base",
            "_model_module_version": "1.2.0",
            "_model_name": "LayoutModel",
            "_view_count": null,
            "_view_module": "@jupyter-widgets/base",
            "_view_module_version": "1.2.0",
            "_view_name": "LayoutView",
            "align_content": null,
            "align_items": null,
            "align_self": null,
            "border": null,
            "bottom": null,
            "display": null,
            "flex": null,
            "flex_flow": null,
            "grid_area": null,
            "grid_auto_columns": null,
            "grid_auto_flow": null,
            "grid_auto_rows": null,
            "grid_column": null,
            "grid_gap": null,
            "grid_row": null,
            "grid_template_areas": null,
            "grid_template_columns": null,
            "grid_template_rows": null,
            "height": null,
            "justify_content": null,
            "justify_items": null,
            "left": null,
            "margin": null,
            "max_height": null,
            "max_width": null,
            "min_height": null,
            "min_width": null,
            "object_fit": null,
            "object_position": null,
            "order": null,
            "overflow": null,
            "overflow_x": null,
            "overflow_y": null,
            "padding": null,
            "right": null,
            "top": null,
            "visibility": null,
            "width": null
          }
        },
        "07cf92a1d9404b7282f9510704326f03": {
          "model_module": "@jupyter-widgets/controls",
          "model_name": "DescriptionStyleModel",
          "model_module_version": "1.5.0",
          "state": {
            "_model_module": "@jupyter-widgets/controls",
            "_model_module_version": "1.5.0",
            "_model_name": "DescriptionStyleModel",
            "_view_count": null,
            "_view_module": "@jupyter-widgets/base",
            "_view_module_version": "1.2.0",
            "_view_name": "StyleView",
            "description_width": ""
          }
        },
        "67d369cf710d4242b3170bf7f567484a": {
          "model_module": "@jupyter-widgets/controls",
          "model_name": "HBoxModel",
          "model_module_version": "1.5.0",
          "state": {
            "_dom_classes": [],
            "_model_module": "@jupyter-widgets/controls",
            "_model_module_version": "1.5.0",
            "_model_name": "HBoxModel",
            "_view_count": null,
            "_view_module": "@jupyter-widgets/controls",
            "_view_module_version": "1.5.0",
            "_view_name": "HBoxView",
            "box_style": "",
            "children": [
              "IPY_MODEL_36817c001ad0475d857ab561cf65b8a1",
              "IPY_MODEL_b2c0b663ca56455fbcf7866c5f5f29e7",
              "IPY_MODEL_d65e594daf934b13915f0870f682a251"
            ],
            "layout": "IPY_MODEL_425c0190ca3f465a8c488816f8849aeb"
          }
        },
        "36817c001ad0475d857ab561cf65b8a1": {
          "model_module": "@jupyter-widgets/controls",
          "model_name": "HTMLModel",
          "model_module_version": "1.5.0",
          "state": {
            "_dom_classes": [],
            "_model_module": "@jupyter-widgets/controls",
            "_model_module_version": "1.5.0",
            "_model_name": "HTMLModel",
            "_view_count": null,
            "_view_module": "@jupyter-widgets/controls",
            "_view_module_version": "1.5.0",
            "_view_name": "HTMLView",
            "description": "",
            "description_tooltip": null,
            "layout": "IPY_MODEL_81ed28f128b546029c3ce9e9f94e7821",
            "placeholder": "​",
            "style": "IPY_MODEL_27cdd617cfd142e9aa12284d7f1b2d94",
            "value": "model.safetensors: 100%"
          }
        },
        "b2c0b663ca56455fbcf7866c5f5f29e7": {
          "model_module": "@jupyter-widgets/controls",
          "model_name": "FloatProgressModel",
          "model_module_version": "1.5.0",
          "state": {
            "_dom_classes": [],
            "_model_module": "@jupyter-widgets/controls",
            "_model_module_version": "1.5.0",
            "_model_name": "FloatProgressModel",
            "_view_count": null,
            "_view_module": "@jupyter-widgets/controls",
            "_view_module_version": "1.5.0",
            "_view_name": "ProgressView",
            "bar_style": "success",
            "description": "",
            "description_tooltip": null,
            "layout": "IPY_MODEL_5a45c66b1ef444fabeffb534bbdd1ecb",
            "max": 267954768,
            "min": 0,
            "orientation": "horizontal",
            "style": "IPY_MODEL_1dffa3ea486845f8ba345d19946a7cb9",
            "value": 267954768
          }
        },
        "d65e594daf934b13915f0870f682a251": {
          "model_module": "@jupyter-widgets/controls",
          "model_name": "HTMLModel",
          "model_module_version": "1.5.0",
          "state": {
            "_dom_classes": [],
            "_model_module": "@jupyter-widgets/controls",
            "_model_module_version": "1.5.0",
            "_model_name": "HTMLModel",
            "_view_count": null,
            "_view_module": "@jupyter-widgets/controls",
            "_view_module_version": "1.5.0",
            "_view_name": "HTMLView",
            "description": "",
            "description_tooltip": null,
            "layout": "IPY_MODEL_619a60169f20465c8377b3df26f84d31",
            "placeholder": "​",
            "style": "IPY_MODEL_bfda2a3262674d93b1fa8a3d5d56f2d8",
            "value": " 268M/268M [00:02&lt;00:00, 82.0MB/s]"
          }
        },
        "425c0190ca3f465a8c488816f8849aeb": {
          "model_module": "@jupyter-widgets/base",
          "model_name": "LayoutModel",
          "model_module_version": "1.2.0",
          "state": {
            "_model_module": "@jupyter-widgets/base",
            "_model_module_version": "1.2.0",
            "_model_name": "LayoutModel",
            "_view_count": null,
            "_view_module": "@jupyter-widgets/base",
            "_view_module_version": "1.2.0",
            "_view_name": "LayoutView",
            "align_content": null,
            "align_items": null,
            "align_self": null,
            "border": null,
            "bottom": null,
            "display": null,
            "flex": null,
            "flex_flow": null,
            "grid_area": null,
            "grid_auto_columns": null,
            "grid_auto_flow": null,
            "grid_auto_rows": null,
            "grid_column": null,
            "grid_gap": null,
            "grid_row": null,
            "grid_template_areas": null,
            "grid_template_columns": null,
            "grid_template_rows": null,
            "height": null,
            "justify_content": null,
            "justify_items": null,
            "left": null,
            "margin": null,
            "max_height": null,
            "max_width": null,
            "min_height": null,
            "min_width": null,
            "object_fit": null,
            "object_position": null,
            "order": null,
            "overflow": null,
            "overflow_x": null,
            "overflow_y": null,
            "padding": null,
            "right": null,
            "top": null,
            "visibility": null,
            "width": null
          }
        },
        "81ed28f128b546029c3ce9e9f94e7821": {
          "model_module": "@jupyter-widgets/base",
          "model_name": "LayoutModel",
          "model_module_version": "1.2.0",
          "state": {
            "_model_module": "@jupyter-widgets/base",
            "_model_module_version": "1.2.0",
            "_model_name": "LayoutModel",
            "_view_count": null,
            "_view_module": "@jupyter-widgets/base",
            "_view_module_version": "1.2.0",
            "_view_name": "LayoutView",
            "align_content": null,
            "align_items": null,
            "align_self": null,
            "border": null,
            "bottom": null,
            "display": null,
            "flex": null,
            "flex_flow": null,
            "grid_area": null,
            "grid_auto_columns": null,
            "grid_auto_flow": null,
            "grid_auto_rows": null,
            "grid_column": null,
            "grid_gap": null,
            "grid_row": null,
            "grid_template_areas": null,
            "grid_template_columns": null,
            "grid_template_rows": null,
            "height": null,
            "justify_content": null,
            "justify_items": null,
            "left": null,
            "margin": null,
            "max_height": null,
            "max_width": null,
            "min_height": null,
            "min_width": null,
            "object_fit": null,
            "object_position": null,
            "order": null,
            "overflow": null,
            "overflow_x": null,
            "overflow_y": null,
            "padding": null,
            "right": null,
            "top": null,
            "visibility": null,
            "width": null
          }
        },
        "27cdd617cfd142e9aa12284d7f1b2d94": {
          "model_module": "@jupyter-widgets/controls",
          "model_name": "DescriptionStyleModel",
          "model_module_version": "1.5.0",
          "state": {
            "_model_module": "@jupyter-widgets/controls",
            "_model_module_version": "1.5.0",
            "_model_name": "DescriptionStyleModel",
            "_view_count": null,
            "_view_module": "@jupyter-widgets/base",
            "_view_module_version": "1.2.0",
            "_view_name": "StyleView",
            "description_width": ""
          }
        },
        "5a45c66b1ef444fabeffb534bbdd1ecb": {
          "model_module": "@jupyter-widgets/base",
          "model_name": "LayoutModel",
          "model_module_version": "1.2.0",
          "state": {
            "_model_module": "@jupyter-widgets/base",
            "_model_module_version": "1.2.0",
            "_model_name": "LayoutModel",
            "_view_count": null,
            "_view_module": "@jupyter-widgets/base",
            "_view_module_version": "1.2.0",
            "_view_name": "LayoutView",
            "align_content": null,
            "align_items": null,
            "align_self": null,
            "border": null,
            "bottom": null,
            "display": null,
            "flex": null,
            "flex_flow": null,
            "grid_area": null,
            "grid_auto_columns": null,
            "grid_auto_flow": null,
            "grid_auto_rows": null,
            "grid_column": null,
            "grid_gap": null,
            "grid_row": null,
            "grid_template_areas": null,
            "grid_template_columns": null,
            "grid_template_rows": null,
            "height": null,
            "justify_content": null,
            "justify_items": null,
            "left": null,
            "margin": null,
            "max_height": null,
            "max_width": null,
            "min_height": null,
            "min_width": null,
            "object_fit": null,
            "object_position": null,
            "order": null,
            "overflow": null,
            "overflow_x": null,
            "overflow_y": null,
            "padding": null,
            "right": null,
            "top": null,
            "visibility": null,
            "width": null
          }
        },
        "1dffa3ea486845f8ba345d19946a7cb9": {
          "model_module": "@jupyter-widgets/controls",
          "model_name": "ProgressStyleModel",
          "model_module_version": "1.5.0",
          "state": {
            "_model_module": "@jupyter-widgets/controls",
            "_model_module_version": "1.5.0",
            "_model_name": "ProgressStyleModel",
            "_view_count": null,
            "_view_module": "@jupyter-widgets/base",
            "_view_module_version": "1.2.0",
            "_view_name": "StyleView",
            "bar_color": null,
            "description_width": ""
          }
        },
        "619a60169f20465c8377b3df26f84d31": {
          "model_module": "@jupyter-widgets/base",
          "model_name": "LayoutModel",
          "model_module_version": "1.2.0",
          "state": {
            "_model_module": "@jupyter-widgets/base",
            "_model_module_version": "1.2.0",
            "_model_name": "LayoutModel",
            "_view_count": null,
            "_view_module": "@jupyter-widgets/base",
            "_view_module_version": "1.2.0",
            "_view_name": "LayoutView",
            "align_content": null,
            "align_items": null,
            "align_self": null,
            "border": null,
            "bottom": null,
            "display": null,
            "flex": null,
            "flex_flow": null,
            "grid_area": null,
            "grid_auto_columns": null,
            "grid_auto_flow": null,
            "grid_auto_rows": null,
            "grid_column": null,
            "grid_gap": null,
            "grid_row": null,
            "grid_template_areas": null,
            "grid_template_columns": null,
            "grid_template_rows": null,
            "height": null,
            "justify_content": null,
            "justify_items": null,
            "left": null,
            "margin": null,
            "max_height": null,
            "max_width": null,
            "min_height": null,
            "min_width": null,
            "object_fit": null,
            "object_position": null,
            "order": null,
            "overflow": null,
            "overflow_x": null,
            "overflow_y": null,
            "padding": null,
            "right": null,
            "top": null,
            "visibility": null,
            "width": null
          }
        },
        "bfda2a3262674d93b1fa8a3d5d56f2d8": {
          "model_module": "@jupyter-widgets/controls",
          "model_name": "DescriptionStyleModel",
          "model_module_version": "1.5.0",
          "state": {
            "_model_module": "@jupyter-widgets/controls",
            "_model_module_version": "1.5.0",
            "_model_name": "DescriptionStyleModel",
            "_view_count": null,
            "_view_module": "@jupyter-widgets/base",
            "_view_module_version": "1.2.0",
            "_view_name": "StyleView",
            "description_width": ""
          }
        }
      }
    }
  },
  "cells": [
    {
      "cell_type": "markdown",
      "source": [
        "# **Emotion Detection Challenge on Twitter**"
      ],
      "metadata": {
        "id": "4sNid1i7uRdZ"
      }
    },
    {
      "cell_type": "markdown",
      "source": [
        "Imagine sifting through the endless stream of tweets and figuring out the prevailing emotion. In this challenge, you won't just focus on classic positive or negative sentiment. Instead, you'll tackle the more intricate task of identifying four core emotions:\n",
        "\n",
        "\n",
        "1.   😠 **Anger**     (class 0)\n",
        "2.   😂 **Joy**       (class 1)\n",
        "3.   😀 **Optimism** (class 2)\n",
        "4.   😞 **Sadness**   (class 3)\n",
        "\n",
        "Your goal? Assign the most dominant emotion to each tweet. Sounds fun, right? Let's see how you handle the nuances of human feelings, all packed into 280 characters!"
      ],
      "metadata": {
        "id": "8qzTv251ucVo"
      }
    },
    {
      "cell_type": "markdown",
      "source": [
        "## **Step 1: Loading the data**"
      ],
      "metadata": {
        "id": "bTj40z06wV6u"
      }
    },
    {
      "cell_type": "markdown",
      "source": [
        "### Library"
      ],
      "metadata": {
        "id": "q2ljwmwh7qsg"
      }
    },
    {
      "cell_type": "code",
      "source": [
        "!pip install nlpaug\n",
        "!pip install contractions\n",
        "!pip install wordsegment\n",
        "!pip install emoji"
      ],
      "metadata": {
        "colab": {
          "base_uri": "https://localhost:8080/"
        },
        "id": "fTXzHrj0hvHY",
        "outputId": "eb3efcb5-4f77-4115-98b4-196bbf8dc1c9"
      },
      "execution_count": 1,
      "outputs": [
        {
          "output_type": "stream",
          "name": "stdout",
          "text": [
            "Collecting nlpaug\n",
            "  Downloading nlpaug-1.1.11-py3-none-any.whl.metadata (14 kB)\n",
            "Requirement already satisfied: numpy>=1.16.2 in /usr/local/lib/python3.10/dist-packages (from nlpaug) (1.26.4)\n",
            "Requirement already satisfied: pandas>=1.2.0 in /usr/local/lib/python3.10/dist-packages (from nlpaug) (2.2.2)\n",
            "Requirement already satisfied: requests>=2.22.0 in /usr/local/lib/python3.10/dist-packages (from nlpaug) (2.32.3)\n",
            "Requirement already satisfied: gdown>=4.0.0 in /usr/local/lib/python3.10/dist-packages (from nlpaug) (5.2.0)\n",
            "Requirement already satisfied: beautifulsoup4 in /usr/local/lib/python3.10/dist-packages (from gdown>=4.0.0->nlpaug) (4.12.3)\n",
            "Requirement already satisfied: filelock in /usr/local/lib/python3.10/dist-packages (from gdown>=4.0.0->nlpaug) (3.16.1)\n",
            "Requirement already satisfied: tqdm in /usr/local/lib/python3.10/dist-packages (from gdown>=4.0.0->nlpaug) (4.66.5)\n",
            "Requirement already satisfied: python-dateutil>=2.8.2 in /usr/local/lib/python3.10/dist-packages (from pandas>=1.2.0->nlpaug) (2.8.2)\n",
            "Requirement already satisfied: pytz>=2020.1 in /usr/local/lib/python3.10/dist-packages (from pandas>=1.2.0->nlpaug) (2024.2)\n",
            "Requirement already satisfied: tzdata>=2022.7 in /usr/local/lib/python3.10/dist-packages (from pandas>=1.2.0->nlpaug) (2024.2)\n",
            "Requirement already satisfied: charset-normalizer<4,>=2 in /usr/local/lib/python3.10/dist-packages (from requests>=2.22.0->nlpaug) (3.3.2)\n",
            "Requirement already satisfied: idna<4,>=2.5 in /usr/local/lib/python3.10/dist-packages (from requests>=2.22.0->nlpaug) (3.10)\n",
            "Requirement already satisfied: urllib3<3,>=1.21.1 in /usr/local/lib/python3.10/dist-packages (from requests>=2.22.0->nlpaug) (2.2.3)\n",
            "Requirement already satisfied: certifi>=2017.4.17 in /usr/local/lib/python3.10/dist-packages (from requests>=2.22.0->nlpaug) (2024.8.30)\n",
            "Requirement already satisfied: six>=1.5 in /usr/local/lib/python3.10/dist-packages (from python-dateutil>=2.8.2->pandas>=1.2.0->nlpaug) (1.16.0)\n",
            "Requirement already satisfied: soupsieve>1.2 in /usr/local/lib/python3.10/dist-packages (from beautifulsoup4->gdown>=4.0.0->nlpaug) (2.6)\n",
            "Requirement already satisfied: PySocks!=1.5.7,>=1.5.6 in /usr/local/lib/python3.10/dist-packages (from requests[socks]->gdown>=4.0.0->nlpaug) (1.7.1)\n",
            "Downloading nlpaug-1.1.11-py3-none-any.whl (410 kB)\n",
            "\u001b[2K   \u001b[90m━━━━━━━━━━━━━━━━━━━━━━━━━━━━━━━━━━━━━━━━\u001b[0m \u001b[32m410.5/410.5 kB\u001b[0m \u001b[31m5.3 MB/s\u001b[0m eta \u001b[36m0:00:00\u001b[0m\n",
            "\u001b[?25hInstalling collected packages: nlpaug\n",
            "Successfully installed nlpaug-1.1.11\n",
            "Collecting contractions\n",
            "  Downloading contractions-0.1.73-py2.py3-none-any.whl.metadata (1.2 kB)\n",
            "Collecting textsearch>=0.0.21 (from contractions)\n",
            "  Downloading textsearch-0.0.24-py2.py3-none-any.whl.metadata (1.2 kB)\n",
            "Collecting anyascii (from textsearch>=0.0.21->contractions)\n",
            "  Downloading anyascii-0.3.2-py3-none-any.whl.metadata (1.5 kB)\n",
            "Collecting pyahocorasick (from textsearch>=0.0.21->contractions)\n",
            "  Downloading pyahocorasick-2.1.0-cp310-cp310-manylinux_2_5_x86_64.manylinux1_x86_64.manylinux_2_12_x86_64.manylinux2010_x86_64.whl.metadata (13 kB)\n",
            "Downloading contractions-0.1.73-py2.py3-none-any.whl (8.7 kB)\n",
            "Downloading textsearch-0.0.24-py2.py3-none-any.whl (7.6 kB)\n",
            "Downloading anyascii-0.3.2-py3-none-any.whl (289 kB)\n",
            "\u001b[2K   \u001b[90m━━━━━━━━━━━━━━━━━━━━━━━━━━━━━━━━━━━━━━━━\u001b[0m \u001b[32m289.9/289.9 kB\u001b[0m \u001b[31m4.5 MB/s\u001b[0m eta \u001b[36m0:00:00\u001b[0m\n",
            "\u001b[?25hDownloading pyahocorasick-2.1.0-cp310-cp310-manylinux_2_5_x86_64.manylinux1_x86_64.manylinux_2_12_x86_64.manylinux2010_x86_64.whl (110 kB)\n",
            "\u001b[2K   \u001b[90m━━━━━━━━━━━━━━━━━━━━━━━━━━━━━━━━━━━━━━━━\u001b[0m \u001b[32m110.7/110.7 kB\u001b[0m \u001b[31m4.6 MB/s\u001b[0m eta \u001b[36m0:00:00\u001b[0m\n",
            "\u001b[?25hInstalling collected packages: pyahocorasick, anyascii, textsearch, contractions\n",
            "Successfully installed anyascii-0.3.2 contractions-0.1.73 pyahocorasick-2.1.0 textsearch-0.0.24\n",
            "Collecting wordsegment\n",
            "  Downloading wordsegment-1.3.1-py2.py3-none-any.whl.metadata (7.7 kB)\n",
            "Downloading wordsegment-1.3.1-py2.py3-none-any.whl (4.8 MB)\n",
            "\u001b[2K   \u001b[90m━━━━━━━━━━━━━━━━━━━━━━━━━━━━━━━━━━━━━━━━\u001b[0m \u001b[32m4.8/4.8 MB\u001b[0m \u001b[31m20.2 MB/s\u001b[0m eta \u001b[36m0:00:00\u001b[0m\n",
            "\u001b[?25hInstalling collected packages: wordsegment\n",
            "Successfully installed wordsegment-1.3.1\n",
            "Collecting emoji\n",
            "  Downloading emoji-2.14.0-py3-none-any.whl.metadata (5.7 kB)\n",
            "Downloading emoji-2.14.0-py3-none-any.whl (586 kB)\n",
            "\u001b[2K   \u001b[90m━━━━━━━━━━━━━━━━━━━━━━━━━━━━━━━━━━━━━━━━\u001b[0m \u001b[32m586.9/586.9 kB\u001b[0m \u001b[31m7.5 MB/s\u001b[0m eta \u001b[36m0:00:00\u001b[0m\n",
            "\u001b[?25hInstalling collected packages: emoji\n",
            "Successfully installed emoji-2.14.0\n"
          ]
        }
      ]
    },
    {
      "cell_type": "code",
      "source": [
        "import pandas as pd\n",
        "import numpy as np\n",
        "import os\n",
        "import plotly.express as px\n",
        "import matplotlib.pyplot as plt\n",
        "import random\n",
        "\n",
        "import nltk\n",
        "\n",
        "nltk.download('punkt')\n",
        "nltk.download('stopwords')\n",
        "nltk.download('wordnet')\n",
        "nltk.download('averaged_perceptron_tagger')\n",
        "\n",
        "from nltk.corpus import stopwords, wordnet\n",
        "from nltk.tokenize import word_tokenize\n",
        "from nltk.stem import WordNetLemmatizer, SnowballStemmer\n",
        "from nltk.tag import pos_tag\n",
        "from string import punctuation\n",
        "import re\n",
        "\n",
        "import tensorflow_datasets as tfds\n",
        "import tensorflow as tf\n",
        "import tensorflow_hub as hub\n",
        "\n",
        "import torch\n",
        "import torch.nn as nn\n",
        "import torch.nn.functional as F\n",
        "from torch.utils.data import Dataset, DataLoader\n",
        "from collections import Counter\n",
        "from torch.nn.utils.rnn import pad_sequence\n",
        "from sklearn.preprocessing import LabelEncoder\n",
        "import torch.optim as optim\n",
        "\n",
        "import nlpaug.augmenter.word as naw\n",
        "\n",
        "from sklearn.model_selection import train_test_split\n",
        "from sklearn.preprocessing import LabelEncoder\n",
        "from sklearn.feature_extraction.text import CountVectorizer\n",
        "from sklearn.metrics import f1_score\n",
        "from sklearn.utils.class_weight import compute_class_weight\n",
        "\n",
        "from sklearn.feature_extraction.text import TfidfVectorizer\n",
        "from sklearn.linear_model import LogisticRegression\n",
        "from sklearn.metrics import accuracy_score, classification_report, confusion_matrix"
      ],
      "metadata": {
        "id": "ixRqRL5p89yL",
        "colab": {
          "base_uri": "https://localhost:8080/"
        },
        "outputId": "e54082aa-0bf5-4a94-d75f-160c4843a229"
      },
      "execution_count": 2,
      "outputs": [
        {
          "output_type": "stream",
          "name": "stderr",
          "text": [
            "[nltk_data] Downloading package punkt to /root/nltk_data...\n",
            "[nltk_data]   Unzipping tokenizers/punkt.zip.\n",
            "[nltk_data] Downloading package stopwords to /root/nltk_data...\n",
            "[nltk_data]   Unzipping corpora/stopwords.zip.\n",
            "[nltk_data] Downloading package wordnet to /root/nltk_data...\n",
            "[nltk_data] Downloading package averaged_perceptron_tagger to\n",
            "[nltk_data]     /root/nltk_data...\n",
            "[nltk_data]   Unzipping taggers/averaged_perceptron_tagger.zip.\n"
          ]
        }
      ]
    },
    {
      "cell_type": "code",
      "source": [
        "def set_seed(seed):\n",
        "    torch.manual_seed(seed)\n",
        "    torch.cuda.manual_seed_all(seed)\n",
        "    np.random.seed(seed)\n",
        "    random.seed(seed)\n",
        "\n",
        "set_seed(42)"
      ],
      "metadata": {
        "id": "N-JtOdgBza78"
      },
      "execution_count": 3,
      "outputs": []
    },
    {
      "cell_type": "code",
      "source": [
        "from google.colab import drive\n",
        "drive.mount('/content/drive')"
      ],
      "metadata": {
        "id": "jWqYoK5CauGc",
        "colab": {
          "base_uri": "https://localhost:8080/"
        },
        "outputId": "a6833132-1b08-49c3-a0ce-fe02d6ec6910"
      },
      "execution_count": 4,
      "outputs": [
        {
          "output_type": "stream",
          "name": "stdout",
          "text": [
            "Mounted at /content/drive\n"
          ]
        }
      ]
    },
    {
      "cell_type": "markdown",
      "source": [
        "### Dataset"
      ],
      "metadata": {
        "id": "4piM8S0N7umj"
      }
    },
    {
      "cell_type": "code",
      "execution_count": 133,
      "metadata": {
        "id": "ozcpfSDYuLpu"
      },
      "outputs": [],
      "source": [
        "file_path_train = '/content/drive/MyDrive/Emotional_Detection/train_text.txt'\n",
        "file_path_valid = '/content/drive/MyDrive/Emotional_Detection/val_text.txt'\n",
        "file_path_test = '/content/drive/MyDrive/Emotional_Detection/test_text.txt'\n",
        "\n",
        "## Train\n",
        "with open(file_path_train, 'r') as file:\n",
        "    righe = file.readlines()\n",
        "\n",
        "righe = [riga.strip() for riga in righe]\n",
        "\n",
        "df_train = pd.DataFrame(righe, columns=['text'])\n",
        "\n",
        "## Valid\n",
        "with open(file_path_valid, 'r') as file:\n",
        "    righe = file.readlines()\n",
        "\n",
        "righe = [riga.strip() for riga in righe]\n",
        "\n",
        "df_valid = pd.DataFrame(righe, columns=['text'])\n",
        "\n",
        "## Test\n",
        "\n",
        "with open(file_path_test, 'r') as file:\n",
        "    righe = file.readlines()\n",
        "\n",
        "righe = [riga.strip() for riga in righe]\n",
        "\n",
        "df_test = pd.DataFrame(righe, columns=['text'])\n",
        "\n"
      ]
    },
    {
      "cell_type": "code",
      "source": [
        "Y_train = pd.read_csv(\"/content/drive/MyDrive/Emotional_Detection/train_labels.txt\", header=None)\n",
        "Y_valid = pd.read_csv(\"/content/drive/MyDrive/Emotional_Detection/val_labels.txt\", header=None)\n",
        "\n",
        "with open(file_path_train, 'r') as file:\n",
        "    righe = file.readlines()\n",
        "\n",
        "righe = [riga.strip() for riga in righe]\n",
        "\n",
        "X_for_graph = pd.DataFrame(righe, columns=['text'])\n"
      ],
      "metadata": {
        "id": "CmU8VHfyF2A2"
      },
      "execution_count": 134,
      "outputs": []
    },
    {
      "cell_type": "markdown",
      "source": [
        "### Visualizzation"
      ],
      "metadata": {
        "id": "GYIkRnYS71Yx"
      }
    },
    {
      "cell_type": "code",
      "source": [
        "df_train.tail()"
      ],
      "metadata": {
        "colab": {
          "base_uri": "https://localhost:8080/",
          "height": 206
        },
        "id": "_sqivCTJAIJM",
        "outputId": "6559d4e4-8273-49af-e68f-fd826d6d1d8e"
      },
      "execution_count": null,
      "outputs": [
        {
          "output_type": "execute_result",
          "data": {
            "text/plain": [
              "                                                   text\n",
              "3252  I get discouraged because I try for 5 fucking ...\n",
              "3253  The @user are in contention and hosting @user ...\n",
              "3254  @user @user @user @user @user as a fellow UP g...\n",
              "3255  You have a #problem? Yes! Can you do #somethin...\n",
              "3256  @user @user i will fight this guy! Don't insul..."
            ],
            "text/html": [
              "\n",
              "  <div id=\"df-1b865036-ec29-4758-a9a4-5f0f44db54b6\" class=\"colab-df-container\">\n",
              "    <div>\n",
              "<style scoped>\n",
              "    .dataframe tbody tr th:only-of-type {\n",
              "        vertical-align: middle;\n",
              "    }\n",
              "\n",
              "    .dataframe tbody tr th {\n",
              "        vertical-align: top;\n",
              "    }\n",
              "\n",
              "    .dataframe thead th {\n",
              "        text-align: right;\n",
              "    }\n",
              "</style>\n",
              "<table border=\"1\" class=\"dataframe\">\n",
              "  <thead>\n",
              "    <tr style=\"text-align: right;\">\n",
              "      <th></th>\n",
              "      <th>text</th>\n",
              "    </tr>\n",
              "  </thead>\n",
              "  <tbody>\n",
              "    <tr>\n",
              "      <th>3252</th>\n",
              "      <td>I get discouraged because I try for 5 fucking ...</td>\n",
              "    </tr>\n",
              "    <tr>\n",
              "      <th>3253</th>\n",
              "      <td>The @user are in contention and hosting @user ...</td>\n",
              "    </tr>\n",
              "    <tr>\n",
              "      <th>3254</th>\n",
              "      <td>@user @user @user @user @user as a fellow UP g...</td>\n",
              "    </tr>\n",
              "    <tr>\n",
              "      <th>3255</th>\n",
              "      <td>You have a #problem? Yes! Can you do #somethin...</td>\n",
              "    </tr>\n",
              "    <tr>\n",
              "      <th>3256</th>\n",
              "      <td>@user @user i will fight this guy! Don't insul...</td>\n",
              "    </tr>\n",
              "  </tbody>\n",
              "</table>\n",
              "</div>\n",
              "    <div class=\"colab-df-buttons\">\n",
              "\n",
              "  <div class=\"colab-df-container\">\n",
              "    <button class=\"colab-df-convert\" onclick=\"convertToInteractive('df-1b865036-ec29-4758-a9a4-5f0f44db54b6')\"\n",
              "            title=\"Convert this dataframe to an interactive table.\"\n",
              "            style=\"display:none;\">\n",
              "\n",
              "  <svg xmlns=\"http://www.w3.org/2000/svg\" height=\"24px\" viewBox=\"0 -960 960 960\">\n",
              "    <path d=\"M120-120v-720h720v720H120Zm60-500h600v-160H180v160Zm220 220h160v-160H400v160Zm0 220h160v-160H400v160ZM180-400h160v-160H180v160Zm440 0h160v-160H620v160ZM180-180h160v-160H180v160Zm440 0h160v-160H620v160Z\"/>\n",
              "  </svg>\n",
              "    </button>\n",
              "\n",
              "  <style>\n",
              "    .colab-df-container {\n",
              "      display:flex;\n",
              "      gap: 12px;\n",
              "    }\n",
              "\n",
              "    .colab-df-convert {\n",
              "      background-color: #E8F0FE;\n",
              "      border: none;\n",
              "      border-radius: 50%;\n",
              "      cursor: pointer;\n",
              "      display: none;\n",
              "      fill: #1967D2;\n",
              "      height: 32px;\n",
              "      padding: 0 0 0 0;\n",
              "      width: 32px;\n",
              "    }\n",
              "\n",
              "    .colab-df-convert:hover {\n",
              "      background-color: #E2EBFA;\n",
              "      box-shadow: 0px 1px 2px rgba(60, 64, 67, 0.3), 0px 1px 3px 1px rgba(60, 64, 67, 0.15);\n",
              "      fill: #174EA6;\n",
              "    }\n",
              "\n",
              "    .colab-df-buttons div {\n",
              "      margin-bottom: 4px;\n",
              "    }\n",
              "\n",
              "    [theme=dark] .colab-df-convert {\n",
              "      background-color: #3B4455;\n",
              "      fill: #D2E3FC;\n",
              "    }\n",
              "\n",
              "    [theme=dark] .colab-df-convert:hover {\n",
              "      background-color: #434B5C;\n",
              "      box-shadow: 0px 1px 3px 1px rgba(0, 0, 0, 0.15);\n",
              "      filter: drop-shadow(0px 1px 2px rgba(0, 0, 0, 0.3));\n",
              "      fill: #FFFFFF;\n",
              "    }\n",
              "  </style>\n",
              "\n",
              "    <script>\n",
              "      const buttonEl =\n",
              "        document.querySelector('#df-1b865036-ec29-4758-a9a4-5f0f44db54b6 button.colab-df-convert');\n",
              "      buttonEl.style.display =\n",
              "        google.colab.kernel.accessAllowed ? 'block' : 'none';\n",
              "\n",
              "      async function convertToInteractive(key) {\n",
              "        const element = document.querySelector('#df-1b865036-ec29-4758-a9a4-5f0f44db54b6');\n",
              "        const dataTable =\n",
              "          await google.colab.kernel.invokeFunction('convertToInteractive',\n",
              "                                                    [key], {});\n",
              "        if (!dataTable) return;\n",
              "\n",
              "        const docLinkHtml = 'Like what you see? Visit the ' +\n",
              "          '<a target=\"_blank\" href=https://colab.research.google.com/notebooks/data_table.ipynb>data table notebook</a>'\n",
              "          + ' to learn more about interactive tables.';\n",
              "        element.innerHTML = '';\n",
              "        dataTable['output_type'] = 'display_data';\n",
              "        await google.colab.output.renderOutput(dataTable, element);\n",
              "        const docLink = document.createElement('div');\n",
              "        docLink.innerHTML = docLinkHtml;\n",
              "        element.appendChild(docLink);\n",
              "      }\n",
              "    </script>\n",
              "  </div>\n",
              "\n",
              "\n",
              "<div id=\"df-b5a20add-1919-4d41-9f7a-8ff69b8700ef\">\n",
              "  <button class=\"colab-df-quickchart\" onclick=\"quickchart('df-b5a20add-1919-4d41-9f7a-8ff69b8700ef')\"\n",
              "            title=\"Suggest charts\"\n",
              "            style=\"display:none;\">\n",
              "\n",
              "<svg xmlns=\"http://www.w3.org/2000/svg\" height=\"24px\"viewBox=\"0 0 24 24\"\n",
              "     width=\"24px\">\n",
              "    <g>\n",
              "        <path d=\"M19 3H5c-1.1 0-2 .9-2 2v14c0 1.1.9 2 2 2h14c1.1 0 2-.9 2-2V5c0-1.1-.9-2-2-2zM9 17H7v-7h2v7zm4 0h-2V7h2v10zm4 0h-2v-4h2v4z\"/>\n",
              "    </g>\n",
              "</svg>\n",
              "  </button>\n",
              "\n",
              "<style>\n",
              "  .colab-df-quickchart {\n",
              "      --bg-color: #E8F0FE;\n",
              "      --fill-color: #1967D2;\n",
              "      --hover-bg-color: #E2EBFA;\n",
              "      --hover-fill-color: #174EA6;\n",
              "      --disabled-fill-color: #AAA;\n",
              "      --disabled-bg-color: #DDD;\n",
              "  }\n",
              "\n",
              "  [theme=dark] .colab-df-quickchart {\n",
              "      --bg-color: #3B4455;\n",
              "      --fill-color: #D2E3FC;\n",
              "      --hover-bg-color: #434B5C;\n",
              "      --hover-fill-color: #FFFFFF;\n",
              "      --disabled-bg-color: #3B4455;\n",
              "      --disabled-fill-color: #666;\n",
              "  }\n",
              "\n",
              "  .colab-df-quickchart {\n",
              "    background-color: var(--bg-color);\n",
              "    border: none;\n",
              "    border-radius: 50%;\n",
              "    cursor: pointer;\n",
              "    display: none;\n",
              "    fill: var(--fill-color);\n",
              "    height: 32px;\n",
              "    padding: 0;\n",
              "    width: 32px;\n",
              "  }\n",
              "\n",
              "  .colab-df-quickchart:hover {\n",
              "    background-color: var(--hover-bg-color);\n",
              "    box-shadow: 0 1px 2px rgba(60, 64, 67, 0.3), 0 1px 3px 1px rgba(60, 64, 67, 0.15);\n",
              "    fill: var(--button-hover-fill-color);\n",
              "  }\n",
              "\n",
              "  .colab-df-quickchart-complete:disabled,\n",
              "  .colab-df-quickchart-complete:disabled:hover {\n",
              "    background-color: var(--disabled-bg-color);\n",
              "    fill: var(--disabled-fill-color);\n",
              "    box-shadow: none;\n",
              "  }\n",
              "\n",
              "  .colab-df-spinner {\n",
              "    border: 2px solid var(--fill-color);\n",
              "    border-color: transparent;\n",
              "    border-bottom-color: var(--fill-color);\n",
              "    animation:\n",
              "      spin 1s steps(1) infinite;\n",
              "  }\n",
              "\n",
              "  @keyframes spin {\n",
              "    0% {\n",
              "      border-color: transparent;\n",
              "      border-bottom-color: var(--fill-color);\n",
              "      border-left-color: var(--fill-color);\n",
              "    }\n",
              "    20% {\n",
              "      border-color: transparent;\n",
              "      border-left-color: var(--fill-color);\n",
              "      border-top-color: var(--fill-color);\n",
              "    }\n",
              "    30% {\n",
              "      border-color: transparent;\n",
              "      border-left-color: var(--fill-color);\n",
              "      border-top-color: var(--fill-color);\n",
              "      border-right-color: var(--fill-color);\n",
              "    }\n",
              "    40% {\n",
              "      border-color: transparent;\n",
              "      border-right-color: var(--fill-color);\n",
              "      border-top-color: var(--fill-color);\n",
              "    }\n",
              "    60% {\n",
              "      border-color: transparent;\n",
              "      border-right-color: var(--fill-color);\n",
              "    }\n",
              "    80% {\n",
              "      border-color: transparent;\n",
              "      border-right-color: var(--fill-color);\n",
              "      border-bottom-color: var(--fill-color);\n",
              "    }\n",
              "    90% {\n",
              "      border-color: transparent;\n",
              "      border-bottom-color: var(--fill-color);\n",
              "    }\n",
              "  }\n",
              "</style>\n",
              "\n",
              "  <script>\n",
              "    async function quickchart(key) {\n",
              "      const quickchartButtonEl =\n",
              "        document.querySelector('#' + key + ' button');\n",
              "      quickchartButtonEl.disabled = true;  // To prevent multiple clicks.\n",
              "      quickchartButtonEl.classList.add('colab-df-spinner');\n",
              "      try {\n",
              "        const charts = await google.colab.kernel.invokeFunction(\n",
              "            'suggestCharts', [key], {});\n",
              "      } catch (error) {\n",
              "        console.error('Error during call to suggestCharts:', error);\n",
              "      }\n",
              "      quickchartButtonEl.classList.remove('colab-df-spinner');\n",
              "      quickchartButtonEl.classList.add('colab-df-quickchart-complete');\n",
              "    }\n",
              "    (() => {\n",
              "      let quickchartButtonEl =\n",
              "        document.querySelector('#df-b5a20add-1919-4d41-9f7a-8ff69b8700ef button');\n",
              "      quickchartButtonEl.style.display =\n",
              "        google.colab.kernel.accessAllowed ? 'block' : 'none';\n",
              "    })();\n",
              "  </script>\n",
              "</div>\n",
              "\n",
              "    </div>\n",
              "  </div>\n"
            ],
            "application/vnd.google.colaboratory.intrinsic+json": {
              "type": "dataframe",
              "summary": "{\n  \"name\": \"df_train\",\n  \"rows\": 5,\n  \"fields\": [\n    {\n      \"column\": \"text\",\n      \"properties\": {\n        \"dtype\": \"string\",\n        \"num_unique_values\": 5,\n        \"samples\": [\n          \"The @user are in contention and hosting @user nation and Camden is empty #sad\",\n          \"@user @user i will fight this guy! Don't insult the lions like that! But seriously they kinda are.Wasted some of the best players\",\n          \"@user @user @user @user @user as a fellow UP grad, i shiver at the shallowness of his arguments\"\n        ],\n        \"semantic_type\": \"\",\n        \"description\": \"\"\n      }\n    }\n  ]\n}"
            }
          },
          "metadata": {},
          "execution_count": 6
        }
      ]
    },
    {
      "cell_type": "code",
      "source": [
        "df_test.tail()"
      ],
      "metadata": {
        "colab": {
          "base_uri": "https://localhost:8080/",
          "height": 206
        },
        "id": "ls0h9EJdtVHq",
        "outputId": "4b0df099-8595-4540-eb38-68e3da685746"
      },
      "execution_count": null,
      "outputs": [
        {
          "output_type": "execute_result",
          "data": {
            "text/plain": [
              "                                                   text\n",
              "1416  I need a sparkling bodysuit . No occasion. Jus...\n",
              "1417  @user I've finished reading it; simply mind-bl...\n",
              "1418  shaft abrasions from panties merely shifted to...\n",
              "1419        All this fake outrage. Y'all need to stop 🤣\n",
              "1420  Would be ever so grateful if you could record ..."
            ],
            "text/html": [
              "\n",
              "  <div id=\"df-94adb84c-632f-48ff-932e-ae20a5d4584b\" class=\"colab-df-container\">\n",
              "    <div>\n",
              "<style scoped>\n",
              "    .dataframe tbody tr th:only-of-type {\n",
              "        vertical-align: middle;\n",
              "    }\n",
              "\n",
              "    .dataframe tbody tr th {\n",
              "        vertical-align: top;\n",
              "    }\n",
              "\n",
              "    .dataframe thead th {\n",
              "        text-align: right;\n",
              "    }\n",
              "</style>\n",
              "<table border=\"1\" class=\"dataframe\">\n",
              "  <thead>\n",
              "    <tr style=\"text-align: right;\">\n",
              "      <th></th>\n",
              "      <th>text</th>\n",
              "    </tr>\n",
              "  </thead>\n",
              "  <tbody>\n",
              "    <tr>\n",
              "      <th>1416</th>\n",
              "      <td>I need a sparkling bodysuit . No occasion. Jus...</td>\n",
              "    </tr>\n",
              "    <tr>\n",
              "      <th>1417</th>\n",
              "      <td>@user I've finished reading it; simply mind-bl...</td>\n",
              "    </tr>\n",
              "    <tr>\n",
              "      <th>1418</th>\n",
              "      <td>shaft abrasions from panties merely shifted to...</td>\n",
              "    </tr>\n",
              "    <tr>\n",
              "      <th>1419</th>\n",
              "      <td>All this fake outrage. Y'all need to stop 🤣</td>\n",
              "    </tr>\n",
              "    <tr>\n",
              "      <th>1420</th>\n",
              "      <td>Would be ever so grateful if you could record ...</td>\n",
              "    </tr>\n",
              "  </tbody>\n",
              "</table>\n",
              "</div>\n",
              "    <div class=\"colab-df-buttons\">\n",
              "\n",
              "  <div class=\"colab-df-container\">\n",
              "    <button class=\"colab-df-convert\" onclick=\"convertToInteractive('df-94adb84c-632f-48ff-932e-ae20a5d4584b')\"\n",
              "            title=\"Convert this dataframe to an interactive table.\"\n",
              "            style=\"display:none;\">\n",
              "\n",
              "  <svg xmlns=\"http://www.w3.org/2000/svg\" height=\"24px\" viewBox=\"0 -960 960 960\">\n",
              "    <path d=\"M120-120v-720h720v720H120Zm60-500h600v-160H180v160Zm220 220h160v-160H400v160Zm0 220h160v-160H400v160ZM180-400h160v-160H180v160Zm440 0h160v-160H620v160ZM180-180h160v-160H180v160Zm440 0h160v-160H620v160Z\"/>\n",
              "  </svg>\n",
              "    </button>\n",
              "\n",
              "  <style>\n",
              "    .colab-df-container {\n",
              "      display:flex;\n",
              "      gap: 12px;\n",
              "    }\n",
              "\n",
              "    .colab-df-convert {\n",
              "      background-color: #E8F0FE;\n",
              "      border: none;\n",
              "      border-radius: 50%;\n",
              "      cursor: pointer;\n",
              "      display: none;\n",
              "      fill: #1967D2;\n",
              "      height: 32px;\n",
              "      padding: 0 0 0 0;\n",
              "      width: 32px;\n",
              "    }\n",
              "\n",
              "    .colab-df-convert:hover {\n",
              "      background-color: #E2EBFA;\n",
              "      box-shadow: 0px 1px 2px rgba(60, 64, 67, 0.3), 0px 1px 3px 1px rgba(60, 64, 67, 0.15);\n",
              "      fill: #174EA6;\n",
              "    }\n",
              "\n",
              "    .colab-df-buttons div {\n",
              "      margin-bottom: 4px;\n",
              "    }\n",
              "\n",
              "    [theme=dark] .colab-df-convert {\n",
              "      background-color: #3B4455;\n",
              "      fill: #D2E3FC;\n",
              "    }\n",
              "\n",
              "    [theme=dark] .colab-df-convert:hover {\n",
              "      background-color: #434B5C;\n",
              "      box-shadow: 0px 1px 3px 1px rgba(0, 0, 0, 0.15);\n",
              "      filter: drop-shadow(0px 1px 2px rgba(0, 0, 0, 0.3));\n",
              "      fill: #FFFFFF;\n",
              "    }\n",
              "  </style>\n",
              "\n",
              "    <script>\n",
              "      const buttonEl =\n",
              "        document.querySelector('#df-94adb84c-632f-48ff-932e-ae20a5d4584b button.colab-df-convert');\n",
              "      buttonEl.style.display =\n",
              "        google.colab.kernel.accessAllowed ? 'block' : 'none';\n",
              "\n",
              "      async function convertToInteractive(key) {\n",
              "        const element = document.querySelector('#df-94adb84c-632f-48ff-932e-ae20a5d4584b');\n",
              "        const dataTable =\n",
              "          await google.colab.kernel.invokeFunction('convertToInteractive',\n",
              "                                                    [key], {});\n",
              "        if (!dataTable) return;\n",
              "\n",
              "        const docLinkHtml = 'Like what you see? Visit the ' +\n",
              "          '<a target=\"_blank\" href=https://colab.research.google.com/notebooks/data_table.ipynb>data table notebook</a>'\n",
              "          + ' to learn more about interactive tables.';\n",
              "        element.innerHTML = '';\n",
              "        dataTable['output_type'] = 'display_data';\n",
              "        await google.colab.output.renderOutput(dataTable, element);\n",
              "        const docLink = document.createElement('div');\n",
              "        docLink.innerHTML = docLinkHtml;\n",
              "        element.appendChild(docLink);\n",
              "      }\n",
              "    </script>\n",
              "  </div>\n",
              "\n",
              "\n",
              "<div id=\"df-bc2b3c5c-2745-4d33-9a4e-993c9bb11a3b\">\n",
              "  <button class=\"colab-df-quickchart\" onclick=\"quickchart('df-bc2b3c5c-2745-4d33-9a4e-993c9bb11a3b')\"\n",
              "            title=\"Suggest charts\"\n",
              "            style=\"display:none;\">\n",
              "\n",
              "<svg xmlns=\"http://www.w3.org/2000/svg\" height=\"24px\"viewBox=\"0 0 24 24\"\n",
              "     width=\"24px\">\n",
              "    <g>\n",
              "        <path d=\"M19 3H5c-1.1 0-2 .9-2 2v14c0 1.1.9 2 2 2h14c1.1 0 2-.9 2-2V5c0-1.1-.9-2-2-2zM9 17H7v-7h2v7zm4 0h-2V7h2v10zm4 0h-2v-4h2v4z\"/>\n",
              "    </g>\n",
              "</svg>\n",
              "  </button>\n",
              "\n",
              "<style>\n",
              "  .colab-df-quickchart {\n",
              "      --bg-color: #E8F0FE;\n",
              "      --fill-color: #1967D2;\n",
              "      --hover-bg-color: #E2EBFA;\n",
              "      --hover-fill-color: #174EA6;\n",
              "      --disabled-fill-color: #AAA;\n",
              "      --disabled-bg-color: #DDD;\n",
              "  }\n",
              "\n",
              "  [theme=dark] .colab-df-quickchart {\n",
              "      --bg-color: #3B4455;\n",
              "      --fill-color: #D2E3FC;\n",
              "      --hover-bg-color: #434B5C;\n",
              "      --hover-fill-color: #FFFFFF;\n",
              "      --disabled-bg-color: #3B4455;\n",
              "      --disabled-fill-color: #666;\n",
              "  }\n",
              "\n",
              "  .colab-df-quickchart {\n",
              "    background-color: var(--bg-color);\n",
              "    border: none;\n",
              "    border-radius: 50%;\n",
              "    cursor: pointer;\n",
              "    display: none;\n",
              "    fill: var(--fill-color);\n",
              "    height: 32px;\n",
              "    padding: 0;\n",
              "    width: 32px;\n",
              "  }\n",
              "\n",
              "  .colab-df-quickchart:hover {\n",
              "    background-color: var(--hover-bg-color);\n",
              "    box-shadow: 0 1px 2px rgba(60, 64, 67, 0.3), 0 1px 3px 1px rgba(60, 64, 67, 0.15);\n",
              "    fill: var(--button-hover-fill-color);\n",
              "  }\n",
              "\n",
              "  .colab-df-quickchart-complete:disabled,\n",
              "  .colab-df-quickchart-complete:disabled:hover {\n",
              "    background-color: var(--disabled-bg-color);\n",
              "    fill: var(--disabled-fill-color);\n",
              "    box-shadow: none;\n",
              "  }\n",
              "\n",
              "  .colab-df-spinner {\n",
              "    border: 2px solid var(--fill-color);\n",
              "    border-color: transparent;\n",
              "    border-bottom-color: var(--fill-color);\n",
              "    animation:\n",
              "      spin 1s steps(1) infinite;\n",
              "  }\n",
              "\n",
              "  @keyframes spin {\n",
              "    0% {\n",
              "      border-color: transparent;\n",
              "      border-bottom-color: var(--fill-color);\n",
              "      border-left-color: var(--fill-color);\n",
              "    }\n",
              "    20% {\n",
              "      border-color: transparent;\n",
              "      border-left-color: var(--fill-color);\n",
              "      border-top-color: var(--fill-color);\n",
              "    }\n",
              "    30% {\n",
              "      border-color: transparent;\n",
              "      border-left-color: var(--fill-color);\n",
              "      border-top-color: var(--fill-color);\n",
              "      border-right-color: var(--fill-color);\n",
              "    }\n",
              "    40% {\n",
              "      border-color: transparent;\n",
              "      border-right-color: var(--fill-color);\n",
              "      border-top-color: var(--fill-color);\n",
              "    }\n",
              "    60% {\n",
              "      border-color: transparent;\n",
              "      border-right-color: var(--fill-color);\n",
              "    }\n",
              "    80% {\n",
              "      border-color: transparent;\n",
              "      border-right-color: var(--fill-color);\n",
              "      border-bottom-color: var(--fill-color);\n",
              "    }\n",
              "    90% {\n",
              "      border-color: transparent;\n",
              "      border-bottom-color: var(--fill-color);\n",
              "    }\n",
              "  }\n",
              "</style>\n",
              "\n",
              "  <script>\n",
              "    async function quickchart(key) {\n",
              "      const quickchartButtonEl =\n",
              "        document.querySelector('#' + key + ' button');\n",
              "      quickchartButtonEl.disabled = true;  // To prevent multiple clicks.\n",
              "      quickchartButtonEl.classList.add('colab-df-spinner');\n",
              "      try {\n",
              "        const charts = await google.colab.kernel.invokeFunction(\n",
              "            'suggestCharts', [key], {});\n",
              "      } catch (error) {\n",
              "        console.error('Error during call to suggestCharts:', error);\n",
              "      }\n",
              "      quickchartButtonEl.classList.remove('colab-df-spinner');\n",
              "      quickchartButtonEl.classList.add('colab-df-quickchart-complete');\n",
              "    }\n",
              "    (() => {\n",
              "      let quickchartButtonEl =\n",
              "        document.querySelector('#df-bc2b3c5c-2745-4d33-9a4e-993c9bb11a3b button');\n",
              "      quickchartButtonEl.style.display =\n",
              "        google.colab.kernel.accessAllowed ? 'block' : 'none';\n",
              "    })();\n",
              "  </script>\n",
              "</div>\n",
              "\n",
              "    </div>\n",
              "  </div>\n"
            ],
            "application/vnd.google.colaboratory.intrinsic+json": {
              "type": "dataframe",
              "summary": "{\n  \"name\": \"df_test\",\n  \"rows\": 5,\n  \"fields\": [\n    {\n      \"column\": \"text\",\n      \"properties\": {\n        \"dtype\": \"string\",\n        \"num_unique_values\": 5,\n        \"samples\": [\n          \"@user I've finished reading it; simply mind-blogging. The writer said 'to be continued' but I haven't found part 2. #depressing\",\n          \"Would be ever so grateful if you could record Garden of Forgiveness gentleman @user @user #amazing\",\n          \"shaft abrasions from panties merely shifted to the side\\\\n\\\\n#theoldsideshift #annoyance #humansoflatecapitalism\"\n        ],\n        \"semantic_type\": \"\",\n        \"description\": \"\"\n      }\n    }\n  ]\n}"
            }
          },
          "metadata": {},
          "execution_count": 7
        }
      ]
    },
    {
      "cell_type": "code",
      "source": [
        "df_train.head()"
      ],
      "metadata": {
        "colab": {
          "base_uri": "https://localhost:8080/",
          "height": 206
        },
        "id": "UyRG3v2HtY-C",
        "outputId": "f0a79a92-2019-4046-d876-4e60c79c8790"
      },
      "execution_count": null,
      "outputs": [
        {
          "output_type": "execute_result",
          "data": {
            "text/plain": [
              "                                                text\n",
              "0  “Worry is a down payment on a problem you may ...\n",
              "1  My roommate: it's okay that we can't spell bec...\n",
              "2  No but that's so cute. Atsu was probably shy a...\n",
              "3  Rooneys fucking untouchable isn't he? Been fuc...\n",
              "4  it's pretty depressing when u hit pan on ur fa..."
            ],
            "text/html": [
              "\n",
              "  <div id=\"df-72d18711-d2c4-4273-9764-a3972864ff3c\" class=\"colab-df-container\">\n",
              "    <div>\n",
              "<style scoped>\n",
              "    .dataframe tbody tr th:only-of-type {\n",
              "        vertical-align: middle;\n",
              "    }\n",
              "\n",
              "    .dataframe tbody tr th {\n",
              "        vertical-align: top;\n",
              "    }\n",
              "\n",
              "    .dataframe thead th {\n",
              "        text-align: right;\n",
              "    }\n",
              "</style>\n",
              "<table border=\"1\" class=\"dataframe\">\n",
              "  <thead>\n",
              "    <tr style=\"text-align: right;\">\n",
              "      <th></th>\n",
              "      <th>text</th>\n",
              "    </tr>\n",
              "  </thead>\n",
              "  <tbody>\n",
              "    <tr>\n",
              "      <th>0</th>\n",
              "      <td>“Worry is a down payment on a problem you may ...</td>\n",
              "    </tr>\n",
              "    <tr>\n",
              "      <th>1</th>\n",
              "      <td>My roommate: it's okay that we can't spell bec...</td>\n",
              "    </tr>\n",
              "    <tr>\n",
              "      <th>2</th>\n",
              "      <td>No but that's so cute. Atsu was probably shy a...</td>\n",
              "    </tr>\n",
              "    <tr>\n",
              "      <th>3</th>\n",
              "      <td>Rooneys fucking untouchable isn't he? Been fuc...</td>\n",
              "    </tr>\n",
              "    <tr>\n",
              "      <th>4</th>\n",
              "      <td>it's pretty depressing when u hit pan on ur fa...</td>\n",
              "    </tr>\n",
              "  </tbody>\n",
              "</table>\n",
              "</div>\n",
              "    <div class=\"colab-df-buttons\">\n",
              "\n",
              "  <div class=\"colab-df-container\">\n",
              "    <button class=\"colab-df-convert\" onclick=\"convertToInteractive('df-72d18711-d2c4-4273-9764-a3972864ff3c')\"\n",
              "            title=\"Convert this dataframe to an interactive table.\"\n",
              "            style=\"display:none;\">\n",
              "\n",
              "  <svg xmlns=\"http://www.w3.org/2000/svg\" height=\"24px\" viewBox=\"0 -960 960 960\">\n",
              "    <path d=\"M120-120v-720h720v720H120Zm60-500h600v-160H180v160Zm220 220h160v-160H400v160Zm0 220h160v-160H400v160ZM180-400h160v-160H180v160Zm440 0h160v-160H620v160ZM180-180h160v-160H180v160Zm440 0h160v-160H620v160Z\"/>\n",
              "  </svg>\n",
              "    </button>\n",
              "\n",
              "  <style>\n",
              "    .colab-df-container {\n",
              "      display:flex;\n",
              "      gap: 12px;\n",
              "    }\n",
              "\n",
              "    .colab-df-convert {\n",
              "      background-color: #E8F0FE;\n",
              "      border: none;\n",
              "      border-radius: 50%;\n",
              "      cursor: pointer;\n",
              "      display: none;\n",
              "      fill: #1967D2;\n",
              "      height: 32px;\n",
              "      padding: 0 0 0 0;\n",
              "      width: 32px;\n",
              "    }\n",
              "\n",
              "    .colab-df-convert:hover {\n",
              "      background-color: #E2EBFA;\n",
              "      box-shadow: 0px 1px 2px rgba(60, 64, 67, 0.3), 0px 1px 3px 1px rgba(60, 64, 67, 0.15);\n",
              "      fill: #174EA6;\n",
              "    }\n",
              "\n",
              "    .colab-df-buttons div {\n",
              "      margin-bottom: 4px;\n",
              "    }\n",
              "\n",
              "    [theme=dark] .colab-df-convert {\n",
              "      background-color: #3B4455;\n",
              "      fill: #D2E3FC;\n",
              "    }\n",
              "\n",
              "    [theme=dark] .colab-df-convert:hover {\n",
              "      background-color: #434B5C;\n",
              "      box-shadow: 0px 1px 3px 1px rgba(0, 0, 0, 0.15);\n",
              "      filter: drop-shadow(0px 1px 2px rgba(0, 0, 0, 0.3));\n",
              "      fill: #FFFFFF;\n",
              "    }\n",
              "  </style>\n",
              "\n",
              "    <script>\n",
              "      const buttonEl =\n",
              "        document.querySelector('#df-72d18711-d2c4-4273-9764-a3972864ff3c button.colab-df-convert');\n",
              "      buttonEl.style.display =\n",
              "        google.colab.kernel.accessAllowed ? 'block' : 'none';\n",
              "\n",
              "      async function convertToInteractive(key) {\n",
              "        const element = document.querySelector('#df-72d18711-d2c4-4273-9764-a3972864ff3c');\n",
              "        const dataTable =\n",
              "          await google.colab.kernel.invokeFunction('convertToInteractive',\n",
              "                                                    [key], {});\n",
              "        if (!dataTable) return;\n",
              "\n",
              "        const docLinkHtml = 'Like what you see? Visit the ' +\n",
              "          '<a target=\"_blank\" href=https://colab.research.google.com/notebooks/data_table.ipynb>data table notebook</a>'\n",
              "          + ' to learn more about interactive tables.';\n",
              "        element.innerHTML = '';\n",
              "        dataTable['output_type'] = 'display_data';\n",
              "        await google.colab.output.renderOutput(dataTable, element);\n",
              "        const docLink = document.createElement('div');\n",
              "        docLink.innerHTML = docLinkHtml;\n",
              "        element.appendChild(docLink);\n",
              "      }\n",
              "    </script>\n",
              "  </div>\n",
              "\n",
              "\n",
              "<div id=\"df-629dab7d-453c-4d1c-9274-744bbcdf8413\">\n",
              "  <button class=\"colab-df-quickchart\" onclick=\"quickchart('df-629dab7d-453c-4d1c-9274-744bbcdf8413')\"\n",
              "            title=\"Suggest charts\"\n",
              "            style=\"display:none;\">\n",
              "\n",
              "<svg xmlns=\"http://www.w3.org/2000/svg\" height=\"24px\"viewBox=\"0 0 24 24\"\n",
              "     width=\"24px\">\n",
              "    <g>\n",
              "        <path d=\"M19 3H5c-1.1 0-2 .9-2 2v14c0 1.1.9 2 2 2h14c1.1 0 2-.9 2-2V5c0-1.1-.9-2-2-2zM9 17H7v-7h2v7zm4 0h-2V7h2v10zm4 0h-2v-4h2v4z\"/>\n",
              "    </g>\n",
              "</svg>\n",
              "  </button>\n",
              "\n",
              "<style>\n",
              "  .colab-df-quickchart {\n",
              "      --bg-color: #E8F0FE;\n",
              "      --fill-color: #1967D2;\n",
              "      --hover-bg-color: #E2EBFA;\n",
              "      --hover-fill-color: #174EA6;\n",
              "      --disabled-fill-color: #AAA;\n",
              "      --disabled-bg-color: #DDD;\n",
              "  }\n",
              "\n",
              "  [theme=dark] .colab-df-quickchart {\n",
              "      --bg-color: #3B4455;\n",
              "      --fill-color: #D2E3FC;\n",
              "      --hover-bg-color: #434B5C;\n",
              "      --hover-fill-color: #FFFFFF;\n",
              "      --disabled-bg-color: #3B4455;\n",
              "      --disabled-fill-color: #666;\n",
              "  }\n",
              "\n",
              "  .colab-df-quickchart {\n",
              "    background-color: var(--bg-color);\n",
              "    border: none;\n",
              "    border-radius: 50%;\n",
              "    cursor: pointer;\n",
              "    display: none;\n",
              "    fill: var(--fill-color);\n",
              "    height: 32px;\n",
              "    padding: 0;\n",
              "    width: 32px;\n",
              "  }\n",
              "\n",
              "  .colab-df-quickchart:hover {\n",
              "    background-color: var(--hover-bg-color);\n",
              "    box-shadow: 0 1px 2px rgba(60, 64, 67, 0.3), 0 1px 3px 1px rgba(60, 64, 67, 0.15);\n",
              "    fill: var(--button-hover-fill-color);\n",
              "  }\n",
              "\n",
              "  .colab-df-quickchart-complete:disabled,\n",
              "  .colab-df-quickchart-complete:disabled:hover {\n",
              "    background-color: var(--disabled-bg-color);\n",
              "    fill: var(--disabled-fill-color);\n",
              "    box-shadow: none;\n",
              "  }\n",
              "\n",
              "  .colab-df-spinner {\n",
              "    border: 2px solid var(--fill-color);\n",
              "    border-color: transparent;\n",
              "    border-bottom-color: var(--fill-color);\n",
              "    animation:\n",
              "      spin 1s steps(1) infinite;\n",
              "  }\n",
              "\n",
              "  @keyframes spin {\n",
              "    0% {\n",
              "      border-color: transparent;\n",
              "      border-bottom-color: var(--fill-color);\n",
              "      border-left-color: var(--fill-color);\n",
              "    }\n",
              "    20% {\n",
              "      border-color: transparent;\n",
              "      border-left-color: var(--fill-color);\n",
              "      border-top-color: var(--fill-color);\n",
              "    }\n",
              "    30% {\n",
              "      border-color: transparent;\n",
              "      border-left-color: var(--fill-color);\n",
              "      border-top-color: var(--fill-color);\n",
              "      border-right-color: var(--fill-color);\n",
              "    }\n",
              "    40% {\n",
              "      border-color: transparent;\n",
              "      border-right-color: var(--fill-color);\n",
              "      border-top-color: var(--fill-color);\n",
              "    }\n",
              "    60% {\n",
              "      border-color: transparent;\n",
              "      border-right-color: var(--fill-color);\n",
              "    }\n",
              "    80% {\n",
              "      border-color: transparent;\n",
              "      border-right-color: var(--fill-color);\n",
              "      border-bottom-color: var(--fill-color);\n",
              "    }\n",
              "    90% {\n",
              "      border-color: transparent;\n",
              "      border-bottom-color: var(--fill-color);\n",
              "    }\n",
              "  }\n",
              "</style>\n",
              "\n",
              "  <script>\n",
              "    async function quickchart(key) {\n",
              "      const quickchartButtonEl =\n",
              "        document.querySelector('#' + key + ' button');\n",
              "      quickchartButtonEl.disabled = true;  // To prevent multiple clicks.\n",
              "      quickchartButtonEl.classList.add('colab-df-spinner');\n",
              "      try {\n",
              "        const charts = await google.colab.kernel.invokeFunction(\n",
              "            'suggestCharts', [key], {});\n",
              "      } catch (error) {\n",
              "        console.error('Error during call to suggestCharts:', error);\n",
              "      }\n",
              "      quickchartButtonEl.classList.remove('colab-df-spinner');\n",
              "      quickchartButtonEl.classList.add('colab-df-quickchart-complete');\n",
              "    }\n",
              "    (() => {\n",
              "      let quickchartButtonEl =\n",
              "        document.querySelector('#df-629dab7d-453c-4d1c-9274-744bbcdf8413 button');\n",
              "      quickchartButtonEl.style.display =\n",
              "        google.colab.kernel.accessAllowed ? 'block' : 'none';\n",
              "    })();\n",
              "  </script>\n",
              "</div>\n",
              "\n",
              "    </div>\n",
              "  </div>\n"
            ],
            "application/vnd.google.colaboratory.intrinsic+json": {
              "type": "dataframe",
              "variable_name": "df_train",
              "summary": "{\n  \"name\": \"df_train\",\n  \"rows\": 3257,\n  \"fields\": [\n    {\n      \"column\": \"text\",\n      \"properties\": {\n        \"dtype\": \"string\",\n        \"num_unique_values\": 3232,\n        \"samples\": [\n          \"@user Yeah, but bad part is the #terrorism #terror Muslims won't be the ones leaving #ObamaLegacy #nationalsecurity #disaster #Obama\",\n          \"I feel like an appendix. I don't have a purpose. #sad #depressed #depression #alone #lonely #broken #sadness #cry #hurt #crying #life\",\n          \"I start work tmrw yall, i'm nervous lol\"\n        ],\n        \"semantic_type\": \"\",\n        \"description\": \"\"\n      }\n    }\n  ]\n}"
            }
          },
          "metadata": {},
          "execution_count": 8
        }
      ]
    },
    {
      "cell_type": "code",
      "source": [
        "df_train.info()"
      ],
      "metadata": {
        "colab": {
          "base_uri": "https://localhost:8080/"
        },
        "id": "uwc0TSiHteMF",
        "outputId": "1843573d-f77e-4461-f88c-b96036553601"
      },
      "execution_count": null,
      "outputs": [
        {
          "output_type": "stream",
          "name": "stdout",
          "text": [
            "<class 'pandas.core.frame.DataFrame'>\n",
            "RangeIndex: 3257 entries, 0 to 3256\n",
            "Data columns (total 1 columns):\n",
            " #   Column  Non-Null Count  Dtype \n",
            "---  ------  --------------  ----- \n",
            " 0   text    3257 non-null   object\n",
            "dtypes: object(1)\n",
            "memory usage: 25.6+ KB\n"
          ]
        }
      ]
    },
    {
      "cell_type": "code",
      "source": [
        "print(\"\\nChecking for missing values\")\n",
        "df_train.isnull().sum()"
      ],
      "metadata": {
        "colab": {
          "base_uri": "https://localhost:8080/",
          "height": 151
        },
        "id": "EXd7h9XHtjbW",
        "outputId": "be743b3e-328c-4bc3-f342-b187e899e526"
      },
      "execution_count": null,
      "outputs": [
        {
          "output_type": "stream",
          "name": "stdout",
          "text": [
            "\n",
            "Checking for missing values\n"
          ]
        },
        {
          "output_type": "execute_result",
          "data": {
            "text/plain": [
              "text    0\n",
              "dtype: int64"
            ],
            "text/html": [
              "<div>\n",
              "<style scoped>\n",
              "    .dataframe tbody tr th:only-of-type {\n",
              "        vertical-align: middle;\n",
              "    }\n",
              "\n",
              "    .dataframe tbody tr th {\n",
              "        vertical-align: top;\n",
              "    }\n",
              "\n",
              "    .dataframe thead th {\n",
              "        text-align: right;\n",
              "    }\n",
              "</style>\n",
              "<table border=\"1\" class=\"dataframe\">\n",
              "  <thead>\n",
              "    <tr style=\"text-align: right;\">\n",
              "      <th></th>\n",
              "      <th>0</th>\n",
              "    </tr>\n",
              "  </thead>\n",
              "  <tbody>\n",
              "    <tr>\n",
              "      <th>text</th>\n",
              "      <td>0</td>\n",
              "    </tr>\n",
              "  </tbody>\n",
              "</table>\n",
              "</div><br><label><b>dtype:</b> int64</label>"
            ]
          },
          "metadata": {},
          "execution_count": 10
        }
      ]
    },
    {
      "cell_type": "code",
      "source": [
        "print(\"Count of sentiment wise values: \\n\", Y_train.value_counts())"
      ],
      "metadata": {
        "colab": {
          "base_uri": "https://localhost:8080/"
        },
        "id": "Jzf-wWyktqTy",
        "outputId": "a554f44d-a395-40d0-8cbc-038eff49b015"
      },
      "execution_count": null,
      "outputs": [
        {
          "output_type": "stream",
          "name": "stdout",
          "text": [
            "Count of sentiment wise values: \n",
            " 0\n",
            "0    1400\n",
            "3     855\n",
            "1     708\n",
            "2     294\n",
            "Name: count, dtype: int64\n"
          ]
        }
      ]
    },
    {
      "cell_type": "code",
      "source": [
        "print(Y_train)"
      ],
      "metadata": {
        "colab": {
          "base_uri": "https://localhost:8080/"
        },
        "id": "raydQBdvzLMU",
        "outputId": "41c9f0d2-ac90-45e4-e236-c679777e2d4a"
      },
      "execution_count": null,
      "outputs": [
        {
          "output_type": "stream",
          "name": "stdout",
          "text": [
            "      0\n",
            "0     2\n",
            "1     0\n",
            "2     1\n",
            "3     0\n",
            "4     3\n",
            "...  ..\n",
            "3252  3\n",
            "3253  3\n",
            "3254  0\n",
            "3255  0\n",
            "3256  0\n",
            "\n",
            "[3257 rows x 1 columns]\n"
          ]
        }
      ]
    },
    {
      "cell_type": "markdown",
      "source": [
        "## **Step 2: Data Analysis & Processing**"
      ],
      "metadata": {
        "id": "6di-r44g7vEg"
      }
    },
    {
      "cell_type": "markdown",
      "source": [
        "### **Data Analysis**"
      ],
      "metadata": {
        "id": "iWCliU5H62Mi"
      }
    },
    {
      "cell_type": "code",
      "source": [
        "fig=px.histogram(Y_train,\n",
        "                title=\"Sentiment Count \",\n",
        "                color_discrete_sequence=[\"red\"])\n",
        "fig.update_layout(bargap=0.1)\n",
        "fig.show()"
      ],
      "metadata": {
        "colab": {
          "base_uri": "https://localhost:8080/",
          "height": 542
        },
        "id": "XQWokNd-wc7Y",
        "outputId": "692badf3-781b-43b7-af3a-f2fa38fa060e"
      },
      "execution_count": null,
      "outputs": [
        {
          "output_type": "display_data",
          "data": {
            "text/html": [
              "<html>\n",
              "<head><meta charset=\"utf-8\" /></head>\n",
              "<body>\n",
              "    <div>            <script src=\"https://cdnjs.cloudflare.com/ajax/libs/mathjax/2.7.5/MathJax.js?config=TeX-AMS-MML_SVG\"></script><script type=\"text/javascript\">if (window.MathJax && window.MathJax.Hub && window.MathJax.Hub.Config) {window.MathJax.Hub.Config({SVG: {font: \"STIX-Web\"}});}</script>                <script type=\"text/javascript\">window.PlotlyConfig = {MathJaxConfig: 'local'};</script>\n",
              "        <script charset=\"utf-8\" src=\"https://cdn.plot.ly/plotly-2.35.2.min.js\"></script>                <div id=\"685bb6b3-9081-4c8f-ab6a-77c5e53c28f2\" class=\"plotly-graph-div\" style=\"height:525px; width:100%;\"></div>            <script type=\"text/javascript\">                                    window.PLOTLYENV=window.PLOTLYENV || {};                                    if (document.getElementById(\"685bb6b3-9081-4c8f-ab6a-77c5e53c28f2\")) {                    Plotly.newPlot(                        \"685bb6b3-9081-4c8f-ab6a-77c5e53c28f2\",                        [{\"alignmentgroup\":\"True\",\"bingroup\":\"x\",\"hovertemplate\":\"variable=0\\u003cbr\\u003evalue=%{x}\\u003cbr\\u003ecount=%{y}\\u003cextra\\u003e\\u003c\\u002fextra\\u003e\",\"legendgroup\":\"0\",\"marker\":{\"color\":\"red\",\"pattern\":{\"shape\":\"\"}},\"name\":\"0\",\"offsetgroup\":\"0\",\"orientation\":\"v\",\"showlegend\":true,\"x\":[2,0,1,0,3,0,3,1,0,0,0,3,0,0,0,0,0,2,2,0,2,3,0,0,0,0,1,0,1,0,1,0,0,1,0,1,0,1,0,0,3,3,1,2,1,3,0,0,0,0,0,3,3,1,1,0,1,0,1,1,2,0,0,1,3,0,1,0,3,0,3,0,0,1,0,0,3,0,1,0,3,1,0,3,3,2,3,3,0,0,0,1,0,0,1,0,0,3,3,1,0,0,1,0,2,0,3,0,0,3,0,0,0,3,3,1,3,3,1,2,2,3,0,3,2,0,1,0,0,1,3,0,0,1,2,3,1,3,0,3,0,1,3,1,2,3,3,0,3,3,0,2,3,0,3,1,1,1,2,0,0,0,1,3,0,0,3,3,3,1,0,0,0,0,1,3,1,3,0,0,0,1,3,2,1,0,1,0,3,0,1,1,1,1,1,2,1,0,0,2,1,0,0,2,1,3,1,0,3,0,1,3,3,1,3,0,3,1,3,1,2,0,1,1,1,0,0,1,0,0,0,0,0,0,3,2,0,2,0,1,3,1,3,2,1,3,0,3,0,3,0,0,2,0,0,2,1,3,0,0,0,0,2,1,0,3,0,0,1,0,1,1,1,0,3,0,0,3,1,0,1,3,0,1,2,1,1,0,3,0,1,0,1,2,0,3,1,3,1,3,0,0,0,0,0,0,3,3,3,0,0,2,1,1,0,0,1,0,2,2,3,1,0,3,0,1,1,0,0,0,2,0,0,3,3,0,0,0,0,0,2,0,3,1,3,0,0,3,0,3,2,1,0,0,2,1,1,0,1,1,1,0,0,3,3,3,0,2,0,3,3,0,0,3,3,1,1,2,0,0,3,3,1,3,0,0,3,3,0,0,0,0,3,2,3,0,3,1,0,3,3,0,0,0,1,1,0,3,0,0,3,3,3,2,1,0,2,3,1,3,0,3,0,0,1,1,3,3,0,3,2,3,1,1,0,1,0,0,0,1,0,3,0,0,1,0,0,1,3,0,1,2,1,0,1,0,0,0,1,3,3,0,1,0,3,3,3,2,0,3,0,2,0,0,1,0,1,3,3,0,1,1,0,1,3,0,2,3,3,2,0,3,0,2,0,0,3,1,0,0,1,0,1,3,1,1,3,3,3,0,3,2,2,0,3,0,0,3,0,1,2,0,0,0,0,2,0,3,1,0,3,0,0,0,0,3,0,0,3,0,0,0,0,3,1,0,0,0,0,0,0,0,0,1,0,0,0,1,3,0,0,0,0,0,1,0,0,1,3,3,0,0,1,0,0,0,0,0,2,1,0,1,3,3,3,3,0,1,3,0,0,3,1,0,0,0,1,3,0,3,0,2,2,0,3,0,0,0,0,0,3,0,0,3,0,1,3,0,1,1,3,0,1,0,3,1,3,3,2,1,0,1,1,0,2,3,3,1,2,0,1,0,0,3,0,3,0,0,3,1,1,0,0,0,3,2,0,2,3,3,2,2,1,3,2,2,3,2,2,0,3,2,1,0,0,3,0,3,2,3,3,1,1,2,0,3,3,0,1,1,3,0,0,0,3,1,3,3,3,0,3,1,3,0,3,0,1,2,0,3,0,3,3,0,3,3,0,0,0,0,2,0,3,0,3,1,2,3,0,1,0,0,0,3,3,3,3,0,0,1,2,0,0,1,3,3,3,0,1,3,1,1,2,0,0,1,0,0,3,3,3,0,3,1,0,3,3,3,1,0,3,0,3,1,3,3,3,0,2,0,0,3,1,1,3,0,3,3,3,2,0,0,0,0,2,0,0,3,0,0,0,0,0,3,0,3,3,3,3,1,3,0,2,0,1,0,2,1,1,0,0,0,1,0,0,0,3,1,0,0,0,0,0,1,3,1,1,3,0,3,3,0,3,0,2,2,1,0,0,3,2,3,0,1,0,1,0,1,0,0,0,0,3,3,3,0,2,0,3,0,0,2,3,3,0,0,2,1,1,0,0,3,1,1,0,3,0,0,0,1,0,0,0,0,1,1,1,3,2,0,0,0,0,0,0,2,3,0,1,1,3,0,0,3,1,0,0,1,3,1,0,3,0,0,0,3,1,0,0,1,1,1,3,0,1,0,0,0,3,0,2,0,0,1,3,3,0,2,1,0,1,0,1,0,3,0,0,0,0,2,1,0,3,2,0,1,0,3,2,3,1,0,3,0,0,1,0,3,2,1,2,0,1,0,1,0,3,0,0,3,2,0,0,3,1,0,1,1,0,0,2,2,1,3,1,0,3,0,0,3,0,2,1,3,1,1,0,0,3,3,1,0,1,2,0,1,0,1,2,1,3,0,0,1,3,1,0,0,3,0,1,3,0,0,1,3,2,0,2,2,3,1,1,2,0,0,1,0,0,0,0,2,0,0,3,0,2,3,1,0,3,1,1,1,0,0,3,0,1,3,2,1,0,0,3,3,3,3,0,3,3,1,0,3,0,3,3,0,0,1,0,0,0,1,2,1,3,0,3,1,2,0,2,3,0,2,0,0,1,1,0,0,3,0,0,3,1,1,2,0,2,2,3,0,3,0,2,0,0,0,0,3,2,2,0,2,1,3,0,2,3,0,0,0,1,0,3,0,0,1,3,3,0,3,3,1,3,2,0,0,0,3,0,0,1,1,3,0,0,0,3,1,3,1,0,3,3,2,3,1,3,0,0,3,3,1,0,1,3,0,3,1,3,2,3,1,0,0,0,1,0,0,0,2,0,3,0,3,0,3,3,0,1,0,3,1,1,1,0,0,0,0,0,0,0,0,1,3,3,0,0,1,0,0,0,1,1,3,2,0,0,1,0,0,1,0,3,3,3,1,0,0,1,1,0,1,3,0,0,3,0,1,1,2,0,1,0,3,0,1,0,3,1,2,1,0,0,0,0,3,2,0,1,3,2,1,3,3,3,0,2,2,0,3,0,2,1,0,3,3,3,1,0,3,0,0,3,2,3,0,3,0,3,3,0,3,2,1,3,1,3,3,3,1,0,0,1,0,3,1,0,0,3,3,1,3,0,3,0,0,3,2,0,1,0,3,1,3,3,3,0,0,2,1,0,3,3,2,3,0,3,0,3,3,3,0,1,1,3,1,1,0,0,3,3,1,1,3,0,2,0,2,1,0,1,3,0,1,3,0,0,1,3,3,0,3,1,0,3,0,3,1,0,2,3,0,1,0,1,0,3,1,0,1,0,0,0,3,3,1,3,1,0,1,1,2,1,0,0,3,0,0,3,0,3,3,1,2,0,0,1,1,1,1,1,0,1,1,0,3,3,1,1,3,0,3,0,0,3,0,3,3,2,0,3,0,2,0,0,3,0,0,3,1,1,2,0,1,1,3,1,0,0,0,0,0,2,3,0,2,3,0,0,3,2,0,3,0,0,0,2,0,0,0,1,3,3,2,3,0,0,0,0,1,0,0,0,3,0,0,0,1,0,0,0,2,3,1,1,0,3,1,1,1,3,0,0,2,3,1,0,0,0,0,0,0,0,0,3,2,2,0,0,0,3,1,1,0,1,2,3,0,0,0,0,3,2,0,0,0,3,3,0,3,3,0,0,0,3,0,3,0,0,3,0,3,3,0,3,3,3,1,1,3,3,2,1,0,0,1,3,3,0,2,0,1,1,3,0,3,0,3,1,3,0,0,1,2,3,3,1,3,0,3,0,0,3,1,3,0,1,1,3,1,0,2,3,3,0,3,0,3,3,3,3,0,0,1,1,1,0,1,1,0,0,3,3,0,1,0,0,1,0,3,0,1,0,0,0,1,2,3,1,1,1,3,3,0,0,0,0,3,0,0,1,1,2,3,3,1,1,3,0,0,0,3,3,0,3,0,2,1,0,1,0,3,1,1,3,3,3,3,0,0,3,0,0,1,1,0,3,2,3,0,3,3,3,2,3,0,3,3,2,0,0,0,1,0,0,1,1,0,0,3,0,1,0,3,1,1,3,2,0,0,0,0,0,0,1,3,2,3,0,1,0,3,3,1,0,1,0,1,0,0,0,3,0,2,0,1,1,0,0,3,0,0,2,1,1,0,1,0,0,0,1,3,0,0,3,3,3,0,3,0,0,3,1,3,1,0,0,2,1,1,0,3,3,0,1,0,3,3,3,0,0,0,0,1,3,0,0,0,0,1,3,0,0,1,3,3,3,3,0,0,0,1,1,3,0,3,2,3,3,0,0,3,3,1,0,0,1,0,1,3,3,1,0,1,0,3,3,0,3,0,0,2,1,1,0,0,0,0,1,3,1,0,0,0,0,1,1,0,3,0,1,0,0,2,0,0,0,1,0,0,0,3,0,2,3,3,3,0,0,0,1,1,0,0,1,3,3,3,2,1,0,3,0,0,0,3,1,0,0,3,0,0,0,1,3,3,0,0,3,1,0,0,0,0,3,0,2,3,0,0,3,3,2,1,0,0,0,3,0,0,3,0,0,0,1,0,0,3,1,1,0,0,0,1,0,1,3,0,0,0,0,1,0,1,0,3,0,0,3,0,0,0,3,3,0,3,1,0,3,3,1,3,2,0,1,1,0,3,1,1,1,3,0,0,0,2,0,1,0,3,0,3,1,0,0,0,1,0,3,0,0,2,1,1,0,1,0,3,2,0,2,1,3,0,3,0,1,0,0,2,0,1,1,0,0,3,0,2,1,0,1,0,0,0,3,0,0,0,2,3,3,3,2,3,2,0,0,1,3,0,0,0,0,0,3,0,1,0,1,0,2,3,3,0,1,3,3,1,0,1,0,0,3,3,0,0,3,1,3,3,1,0,3,0,1,0,0,0,1,1,0,3,0,1,1,2,3,1,1,2,0,0,0,1,0,3,0,3,0,0,3,2,0,2,0,2,0,3,3,1,3,0,3,3,0,0,2,1,3,2,0,1,0,1,3,3,0,1,0,1,0,3,3,3,0,1,3,2,1,0,0,0,0,3,0,2,1,0,0,1,2,0,3,2,0,3,0,0,0,0,1,3,1,1,0,0,0,0,3,1,3,0,0,0,0,3,0,0,3,1,0,0,1,1,2,3,2,0,1,3,0,2,0,0,3,1,1,3,0,3,0,0,0,3,0,1,0,2,1,0,0,1,0,1,3,3,3,3,3,2,1,1,0,2,3,0,0,3,3,3,3,1,2,0,1,1,0,0,0,2,0,1,1,0,2,0,0,0,2,1,1,1,3,1,1,0,0,2,3,0,1,0,0,0,0,0,2,3,0,0,3,3,3,0,2,1,0,1,3,1,3,1,3,0,0,1,0,3,3,3,0,3,3,2,2,1,3,3,3,1,1,3,3,3,0,2,1,0,1,2,0,0,0,3,3,1,0,3,0,0,1,2,1,1,0,1,1,1,2,0,0,0,0,2,0,2,1,0,0,3,0,0,1,0,1,1,0,3,3,1,2,0,0,3,0,3,1,0,0,3,2,0,0,0,0,0,3,3,1,3,1,3,1,0,3,3,0,1,0,0,0,0,3,3,0,0,0,1,0,1,3,3,0,1,3,0,1,1,3,1,0,3,3,3,1,3,1,1,1,1,1,0,2,0,1,0,1,0,0,2,0,1,0,3,2,0,1,0,2,1,0,3,3,0,2,3,0,0,1,2,0,0,2,3,0,0,3,0,0,2,1,1,1,1,3,0,1,3,1,1,1,0,2,0,0,1,2,1,0,0,3,1,3,0,0,1,3,0,0,1,0,0,0,1,3,1,1,3,0,0,1,2,0,3,0,3,3,0,2,0,0,0,0,0,0,0,3,0,0,3,0,3,1,0,0,3,0,0,0,0,3,0,3,1,1,0,0,0,3,2,1,1,0,2,3,1,0,0,0,1,0,0,0,0,0,1,0,0,0,3,0,0,0,0,0,1,3,3,3,0,1,2,3,1,2,2,3,3,3,3,3,0,3,3,1,0,3,1,0,0,0,1,1,1,2,1,3,0,3,3,3,1,1,0,1,0,2,3,0,1,0,0,0,0,0,3,2,0,0,0,0,3,0,3,0,2,0,3,0,1,3,2,0,1,3,1,0,3,0,1,1,0,1,0,0,0,3,3,1,0,3,0,0,3,3,0,1,0,1,1,3,3,0,0,1,3,0,3,3,3,0,0,3,3,3,1,1,1,3,0,0,0,0,0,0,3,0,2,1,0,0,3,1,3,1,1,3,0,2,1,3,3,0,0,1,3,0,3,1,1,0,1,1,1,0,0,0,0,0,1,3,3,1,1,0,0,3,0,0,3,2,1,3,0,0,3,3,0,3,0,2,3,0,0,0,3,3,2,2,0,2,0,1,2,3,0,1,0,0,3,0,0,0,1,0,3,3,3,0,3,3,3,1,0,3,0,0,1,3,3,0,3,0,1,0,0,1,3,3,3,0,3,0,3,1,0,1,0,0,0,0,0,1,0,0,0,0,0,2,1,0,2,1,3,0,1,2,0,2,0,2,1,0,3,3,3,0,0,1,0,3,0,0,0,2,3,3,0,0,0,3,0,0,0,1,0,0,0,3,0,0,0,0,0,0,3,0,3,3,0,3,1,1,3,3,0,0,3,0,0,2,1,0,0,2,1,2,3,1,1,0,3,0,0,1,0,0,3,1,0,1,0,1,1,0,0,2,0,1,3,0,0,0,3,3,3,3,3,2,2,1,0,1,3,1,2,2,0,0,1,0,0,1,1,1,3,0,3,1,0,1,0,0,1,1,3,0,1,1,1,3,0,0,0,0,3,3,3,1,0,3,1,0,3,3,0,1,3,2,2,3,3,0,1,0,0,3,0,1,0,0,1,1,0,0,3,0,0,0,0,3,2,0,0,2,1,3,1,3,1,3,1,3,0,0,3,2,1,2,2,1,0,1,0,0,3,1,0,0,3,3,3,0,2,1,0,0,2,0,1,0,1,3,0,1,2,1,0,0,0,1,2,1,3,3,1,0,0,0,0,0,1,3,2,3,2,3,3,3,1,2,1,0,0,3,2,3,3,0,0,3,0,0,0,0,1,1,0,1,2,3,0,0,3,0,0,1,3,3,3,1,0,0,0,2,2,3,1,3,2,0,3,0,1,0,2,0,0,1,0,0,3,0,0,0,3,3,0,1,0,1,0,2,0,3,0,0,2,0,0,2,3,0,0,2,0,1,0,3,1,0,3,0,1,0,0,2,3,3,1,1,0,3,3,0,3,1,0,1,2,0,0,3,3,0,2,3,0,0,0,3,0,0,0,1,1,3,0,0,0,0,3,0,0,3,0,3,1,3,3,0,2,1,3,1,3,0,0,2,3,1,0,0,1,3,3,3,0,0,0,0,1,0,3,1,3,0,0,3,3,0,0,0],\"xaxis\":\"x\",\"yaxis\":\"y\",\"type\":\"histogram\"}],                        {\"template\":{\"data\":{\"histogram2dcontour\":[{\"type\":\"histogram2dcontour\",\"colorbar\":{\"outlinewidth\":0,\"ticks\":\"\"},\"colorscale\":[[0.0,\"#0d0887\"],[0.1111111111111111,\"#46039f\"],[0.2222222222222222,\"#7201a8\"],[0.3333333333333333,\"#9c179e\"],[0.4444444444444444,\"#bd3786\"],[0.5555555555555556,\"#d8576b\"],[0.6666666666666666,\"#ed7953\"],[0.7777777777777778,\"#fb9f3a\"],[0.8888888888888888,\"#fdca26\"],[1.0,\"#f0f921\"]]}],\"choropleth\":[{\"type\":\"choropleth\",\"colorbar\":{\"outlinewidth\":0,\"ticks\":\"\"}}],\"histogram2d\":[{\"type\":\"histogram2d\",\"colorbar\":{\"outlinewidth\":0,\"ticks\":\"\"},\"colorscale\":[[0.0,\"#0d0887\"],[0.1111111111111111,\"#46039f\"],[0.2222222222222222,\"#7201a8\"],[0.3333333333333333,\"#9c179e\"],[0.4444444444444444,\"#bd3786\"],[0.5555555555555556,\"#d8576b\"],[0.6666666666666666,\"#ed7953\"],[0.7777777777777778,\"#fb9f3a\"],[0.8888888888888888,\"#fdca26\"],[1.0,\"#f0f921\"]]}],\"heatmap\":[{\"type\":\"heatmap\",\"colorbar\":{\"outlinewidth\":0,\"ticks\":\"\"},\"colorscale\":[[0.0,\"#0d0887\"],[0.1111111111111111,\"#46039f\"],[0.2222222222222222,\"#7201a8\"],[0.3333333333333333,\"#9c179e\"],[0.4444444444444444,\"#bd3786\"],[0.5555555555555556,\"#d8576b\"],[0.6666666666666666,\"#ed7953\"],[0.7777777777777778,\"#fb9f3a\"],[0.8888888888888888,\"#fdca26\"],[1.0,\"#f0f921\"]]}],\"heatmapgl\":[{\"type\":\"heatmapgl\",\"colorbar\":{\"outlinewidth\":0,\"ticks\":\"\"},\"colorscale\":[[0.0,\"#0d0887\"],[0.1111111111111111,\"#46039f\"],[0.2222222222222222,\"#7201a8\"],[0.3333333333333333,\"#9c179e\"],[0.4444444444444444,\"#bd3786\"],[0.5555555555555556,\"#d8576b\"],[0.6666666666666666,\"#ed7953\"],[0.7777777777777778,\"#fb9f3a\"],[0.8888888888888888,\"#fdca26\"],[1.0,\"#f0f921\"]]}],\"contourcarpet\":[{\"type\":\"contourcarpet\",\"colorbar\":{\"outlinewidth\":0,\"ticks\":\"\"}}],\"contour\":[{\"type\":\"contour\",\"colorbar\":{\"outlinewidth\":0,\"ticks\":\"\"},\"colorscale\":[[0.0,\"#0d0887\"],[0.1111111111111111,\"#46039f\"],[0.2222222222222222,\"#7201a8\"],[0.3333333333333333,\"#9c179e\"],[0.4444444444444444,\"#bd3786\"],[0.5555555555555556,\"#d8576b\"],[0.6666666666666666,\"#ed7953\"],[0.7777777777777778,\"#fb9f3a\"],[0.8888888888888888,\"#fdca26\"],[1.0,\"#f0f921\"]]}],\"surface\":[{\"type\":\"surface\",\"colorbar\":{\"outlinewidth\":0,\"ticks\":\"\"},\"colorscale\":[[0.0,\"#0d0887\"],[0.1111111111111111,\"#46039f\"],[0.2222222222222222,\"#7201a8\"],[0.3333333333333333,\"#9c179e\"],[0.4444444444444444,\"#bd3786\"],[0.5555555555555556,\"#d8576b\"],[0.6666666666666666,\"#ed7953\"],[0.7777777777777778,\"#fb9f3a\"],[0.8888888888888888,\"#fdca26\"],[1.0,\"#f0f921\"]]}],\"mesh3d\":[{\"type\":\"mesh3d\",\"colorbar\":{\"outlinewidth\":0,\"ticks\":\"\"}}],\"scatter\":[{\"fillpattern\":{\"fillmode\":\"overlay\",\"size\":10,\"solidity\":0.2},\"type\":\"scatter\"}],\"parcoords\":[{\"type\":\"parcoords\",\"line\":{\"colorbar\":{\"outlinewidth\":0,\"ticks\":\"\"}}}],\"scatterpolargl\":[{\"type\":\"scatterpolargl\",\"marker\":{\"colorbar\":{\"outlinewidth\":0,\"ticks\":\"\"}}}],\"bar\":[{\"error_x\":{\"color\":\"#2a3f5f\"},\"error_y\":{\"color\":\"#2a3f5f\"},\"marker\":{\"line\":{\"color\":\"#E5ECF6\",\"width\":0.5},\"pattern\":{\"fillmode\":\"overlay\",\"size\":10,\"solidity\":0.2}},\"type\":\"bar\"}],\"scattergeo\":[{\"type\":\"scattergeo\",\"marker\":{\"colorbar\":{\"outlinewidth\":0,\"ticks\":\"\"}}}],\"scatterpolar\":[{\"type\":\"scatterpolar\",\"marker\":{\"colorbar\":{\"outlinewidth\":0,\"ticks\":\"\"}}}],\"histogram\":[{\"marker\":{\"pattern\":{\"fillmode\":\"overlay\",\"size\":10,\"solidity\":0.2}},\"type\":\"histogram\"}],\"scattergl\":[{\"type\":\"scattergl\",\"marker\":{\"colorbar\":{\"outlinewidth\":0,\"ticks\":\"\"}}}],\"scatter3d\":[{\"type\":\"scatter3d\",\"line\":{\"colorbar\":{\"outlinewidth\":0,\"ticks\":\"\"}},\"marker\":{\"colorbar\":{\"outlinewidth\":0,\"ticks\":\"\"}}}],\"scattermapbox\":[{\"type\":\"scattermapbox\",\"marker\":{\"colorbar\":{\"outlinewidth\":0,\"ticks\":\"\"}}}],\"scatterternary\":[{\"type\":\"scatterternary\",\"marker\":{\"colorbar\":{\"outlinewidth\":0,\"ticks\":\"\"}}}],\"scattercarpet\":[{\"type\":\"scattercarpet\",\"marker\":{\"colorbar\":{\"outlinewidth\":0,\"ticks\":\"\"}}}],\"carpet\":[{\"aaxis\":{\"endlinecolor\":\"#2a3f5f\",\"gridcolor\":\"white\",\"linecolor\":\"white\",\"minorgridcolor\":\"white\",\"startlinecolor\":\"#2a3f5f\"},\"baxis\":{\"endlinecolor\":\"#2a3f5f\",\"gridcolor\":\"white\",\"linecolor\":\"white\",\"minorgridcolor\":\"white\",\"startlinecolor\":\"#2a3f5f\"},\"type\":\"carpet\"}],\"table\":[{\"cells\":{\"fill\":{\"color\":\"#EBF0F8\"},\"line\":{\"color\":\"white\"}},\"header\":{\"fill\":{\"color\":\"#C8D4E3\"},\"line\":{\"color\":\"white\"}},\"type\":\"table\"}],\"barpolar\":[{\"marker\":{\"line\":{\"color\":\"#E5ECF6\",\"width\":0.5},\"pattern\":{\"fillmode\":\"overlay\",\"size\":10,\"solidity\":0.2}},\"type\":\"barpolar\"}],\"pie\":[{\"automargin\":true,\"type\":\"pie\"}]},\"layout\":{\"autotypenumbers\":\"strict\",\"colorway\":[\"#636efa\",\"#EF553B\",\"#00cc96\",\"#ab63fa\",\"#FFA15A\",\"#19d3f3\",\"#FF6692\",\"#B6E880\",\"#FF97FF\",\"#FECB52\"],\"font\":{\"color\":\"#2a3f5f\"},\"hovermode\":\"closest\",\"hoverlabel\":{\"align\":\"left\"},\"paper_bgcolor\":\"white\",\"plot_bgcolor\":\"#E5ECF6\",\"polar\":{\"bgcolor\":\"#E5ECF6\",\"angularaxis\":{\"gridcolor\":\"white\",\"linecolor\":\"white\",\"ticks\":\"\"},\"radialaxis\":{\"gridcolor\":\"white\",\"linecolor\":\"white\",\"ticks\":\"\"}},\"ternary\":{\"bgcolor\":\"#E5ECF6\",\"aaxis\":{\"gridcolor\":\"white\",\"linecolor\":\"white\",\"ticks\":\"\"},\"baxis\":{\"gridcolor\":\"white\",\"linecolor\":\"white\",\"ticks\":\"\"},\"caxis\":{\"gridcolor\":\"white\",\"linecolor\":\"white\",\"ticks\":\"\"}},\"coloraxis\":{\"colorbar\":{\"outlinewidth\":0,\"ticks\":\"\"}},\"colorscale\":{\"sequential\":[[0.0,\"#0d0887\"],[0.1111111111111111,\"#46039f\"],[0.2222222222222222,\"#7201a8\"],[0.3333333333333333,\"#9c179e\"],[0.4444444444444444,\"#bd3786\"],[0.5555555555555556,\"#d8576b\"],[0.6666666666666666,\"#ed7953\"],[0.7777777777777778,\"#fb9f3a\"],[0.8888888888888888,\"#fdca26\"],[1.0,\"#f0f921\"]],\"sequentialminus\":[[0.0,\"#0d0887\"],[0.1111111111111111,\"#46039f\"],[0.2222222222222222,\"#7201a8\"],[0.3333333333333333,\"#9c179e\"],[0.4444444444444444,\"#bd3786\"],[0.5555555555555556,\"#d8576b\"],[0.6666666666666666,\"#ed7953\"],[0.7777777777777778,\"#fb9f3a\"],[0.8888888888888888,\"#fdca26\"],[1.0,\"#f0f921\"]],\"diverging\":[[0,\"#8e0152\"],[0.1,\"#c51b7d\"],[0.2,\"#de77ae\"],[0.3,\"#f1b6da\"],[0.4,\"#fde0ef\"],[0.5,\"#f7f7f7\"],[0.6,\"#e6f5d0\"],[0.7,\"#b8e186\"],[0.8,\"#7fbc41\"],[0.9,\"#4d9221\"],[1,\"#276419\"]]},\"xaxis\":{\"gridcolor\":\"white\",\"linecolor\":\"white\",\"ticks\":\"\",\"title\":{\"standoff\":15},\"zerolinecolor\":\"white\",\"automargin\":true,\"zerolinewidth\":2},\"yaxis\":{\"gridcolor\":\"white\",\"linecolor\":\"white\",\"ticks\":\"\",\"title\":{\"standoff\":15},\"zerolinecolor\":\"white\",\"automargin\":true,\"zerolinewidth\":2},\"scene\":{\"xaxis\":{\"backgroundcolor\":\"#E5ECF6\",\"gridcolor\":\"white\",\"linecolor\":\"white\",\"showbackground\":true,\"ticks\":\"\",\"zerolinecolor\":\"white\",\"gridwidth\":2},\"yaxis\":{\"backgroundcolor\":\"#E5ECF6\",\"gridcolor\":\"white\",\"linecolor\":\"white\",\"showbackground\":true,\"ticks\":\"\",\"zerolinecolor\":\"white\",\"gridwidth\":2},\"zaxis\":{\"backgroundcolor\":\"#E5ECF6\",\"gridcolor\":\"white\",\"linecolor\":\"white\",\"showbackground\":true,\"ticks\":\"\",\"zerolinecolor\":\"white\",\"gridwidth\":2}},\"shapedefaults\":{\"line\":{\"color\":\"#2a3f5f\"}},\"annotationdefaults\":{\"arrowcolor\":\"#2a3f5f\",\"arrowhead\":0,\"arrowwidth\":1},\"geo\":{\"bgcolor\":\"white\",\"landcolor\":\"#E5ECF6\",\"subunitcolor\":\"white\",\"showland\":true,\"showlakes\":true,\"lakecolor\":\"white\"},\"title\":{\"x\":0.05},\"mapbox\":{\"style\":\"light\"}}},\"xaxis\":{\"anchor\":\"y\",\"domain\":[0.0,1.0],\"title\":{\"text\":\"value\"}},\"yaxis\":{\"anchor\":\"x\",\"domain\":[0.0,1.0],\"title\":{\"text\":\"count\"}},\"legend\":{\"title\":{\"text\":\"variable\"},\"tracegroupgap\":0},\"title\":{\"text\":\"Sentiment Count \"},\"barmode\":\"relative\",\"bargap\":0.1},                        {\"responsive\": true}                    ).then(function(){\n",
              "                            \n",
              "var gd = document.getElementById('685bb6b3-9081-4c8f-ab6a-77c5e53c28f2');\n",
              "var x = new MutationObserver(function (mutations, observer) {{\n",
              "        var display = window.getComputedStyle(gd).display;\n",
              "        if (!display || display === 'none') {{\n",
              "            console.log([gd, 'removed!']);\n",
              "            Plotly.purge(gd);\n",
              "            observer.disconnect();\n",
              "        }}\n",
              "}});\n",
              "\n",
              "// Listen for the removal of the full notebook cells\n",
              "var notebookContainer = gd.closest('#notebook-container');\n",
              "if (notebookContainer) {{\n",
              "    x.observe(notebookContainer, {childList: true});\n",
              "}}\n",
              "\n",
              "// Listen for the clearing of the current output cell\n",
              "var outputEl = gd.closest('.output');\n",
              "if (outputEl) {{\n",
              "    x.observe(outputEl, {childList: true});\n",
              "}}\n",
              "\n",
              "                        })                };                            </script>        </div>\n",
              "</body>\n",
              "</html>"
            ]
          },
          "metadata": {}
        }
      ]
    },
    {
      "cell_type": "markdown",
      "source": [
        "Dall'istogramma notiamo che le classi sono sbilanciate, con la classe 2 poco presente e la classe 0 molto presente"
      ],
      "metadata": {
        "id": "vVyR0L1o1Ha3"
      }
    },
    {
      "cell_type": "code",
      "source": [
        "def text_length(tweet):\n",
        "    str_len=len(tweet.split(\" \"))\n",
        "    return(str_len)\n",
        "\n",
        "X_for_graph['Length'] = X_for_graph['text'].apply(lambda x:text_length(x))\n",
        "\n",
        "\n",
        "fig = px.histogram(X_for_graph,\n",
        "                  x='Length',\n",
        "                  marginal='box',\n",
        "                  title=\"Length of tweets text\")\n",
        "fig.update_layout(bargap=0.1)\n",
        "fig.show()"
      ],
      "metadata": {
        "colab": {
          "base_uri": "https://localhost:8080/",
          "height": 542
        },
        "id": "UlDAqXh61EAW",
        "outputId": "3102b687-2134-4728-bd7a-2dfee0f0c95a"
      },
      "execution_count": null,
      "outputs": [
        {
          "output_type": "display_data",
          "data": {
            "text/html": [
              "<html>\n",
              "<head><meta charset=\"utf-8\" /></head>\n",
              "<body>\n",
              "    <div>            <script src=\"https://cdnjs.cloudflare.com/ajax/libs/mathjax/2.7.5/MathJax.js?config=TeX-AMS-MML_SVG\"></script><script type=\"text/javascript\">if (window.MathJax && window.MathJax.Hub && window.MathJax.Hub.Config) {window.MathJax.Hub.Config({SVG: {font: \"STIX-Web\"}});}</script>                <script type=\"text/javascript\">window.PlotlyConfig = {MathJaxConfig: 'local'};</script>\n",
              "        <script charset=\"utf-8\" src=\"https://cdn.plot.ly/plotly-2.35.2.min.js\"></script>                <div id=\"cef4178e-deb9-4593-b666-ca8336b2f845\" class=\"plotly-graph-div\" style=\"height:525px; width:100%;\"></div>            <script type=\"text/javascript\">                                    window.PLOTLYENV=window.PLOTLYENV || {};                                    if (document.getElementById(\"cef4178e-deb9-4593-b666-ca8336b2f845\")) {                    Plotly.newPlot(                        \"cef4178e-deb9-4593-b666-ca8336b2f845\",                        [{\"alignmentgroup\":\"True\",\"bingroup\":\"x\",\"hovertemplate\":\"Length=%{x}\\u003cbr\\u003ecount=%{y}\\u003cextra\\u003e\\u003c\\u002fextra\\u003e\",\"legendgroup\":\"\",\"marker\":{\"color\":\"#636efa\",\"pattern\":{\"shape\":\"\"}},\"name\":\"\",\"offsetgroup\":\"\",\"orientation\":\"v\",\"showlegend\":false,\"x\":[18,14,18,13,11,26,16,14,10,6,19,19,26,8,9,23,23,19,22,20,19,23,22,21,6,28,5,13,19,19,17,8,16,12,12,4,24,11,14,24,27,13,26,17,26,13,6,21,24,16,11,23,23,17,16,19,15,6,16,13,10,15,18,9,16,8,16,21,21,22,5,8,25,18,18,16,24,19,21,27,16,18,10,17,24,19,21,8,22,10,12,21,11,11,10,18,22,18,4,13,24,23,22,29,15,24,5,14,15,25,19,24,12,9,6,24,27,24,22,20,21,21,20,7,26,11,5,22,7,9,23,7,26,27,12,16,17,14,20,9,22,14,26,2,23,18,16,3,21,19,7,26,9,29,20,24,15,14,26,18,12,18,21,11,14,23,21,5,12,20,31,13,3,26,9,19,9,20,21,9,11,18,19,27,24,16,5,12,18,14,17,24,24,22,16,10,12,23,6,19,24,10,14,20,17,22,10,23,22,18,6,24,21,16,9,26,21,9,2,11,24,4,22,18,7,2,9,22,18,25,14,23,12,26,7,25,27,12,14,7,21,10,26,13,7,9,8,5,11,21,14,12,7,14,8,20,16,23,15,23,4,17,8,6,5,10,12,16,23,22,9,9,18,25,22,22,23,22,26,22,7,13,16,15,19,25,18,17,11,20,21,23,11,12,11,16,19,9,6,8,10,20,6,23,19,21,13,13,8,22,17,17,15,11,10,6,21,12,14,9,19,25,19,19,28,11,21,21,14,15,22,25,18,23,12,19,11,16,15,18,15,23,11,15,15,21,26,14,18,20,25,22,12,24,16,24,29,21,24,16,7,21,23,24,15,22,23,20,6,19,25,23,27,16,6,15,3,10,18,19,7,17,10,27,18,8,7,19,15,9,16,23,26,14,11,15,26,12,16,9,20,24,8,9,25,18,22,23,12,18,4,26,25,23,20,6,23,20,19,17,4,6,21,11,12,4,19,14,18,9,23,26,6,10,21,9,10,13,11,24,19,26,6,27,16,19,25,9,26,14,12,16,10,18,22,25,18,29,17,18,15,24,20,26,26,23,23,26,19,8,15,25,18,23,20,8,26,5,22,29,11,10,24,5,20,18,19,8,8,9,27,18,22,19,23,23,22,23,18,30,3,8,15,15,24,21,11,5,15,22,24,13,22,16,12,11,8,15,18,8,16,16,17,3,20,25,19,12,16,32,24,28,22,11,16,7,16,12,19,21,2,14,10,26,18,23,11,16,3,24,16,20,8,18,6,24,20,6,23,7,22,8,19,11,6,26,24,23,9,11,15,9,21,7,18,6,13,7,26,13,21,9,5,23,19,6,22,23,26,18,12,10,21,16,12,21,6,8,9,27,24,14,24,9,15,26,9,16,15,15,10,8,11,10,18,8,5,8,23,8,11,21,29,9,10,23,13,21,16,17,8,21,7,20,13,19,20,6,20,20,7,13,14,24,25,15,26,17,19,10,8,30,7,21,11,24,17,20,25,7,14,7,23,15,28,19,6,3,12,15,5,17,12,24,13,16,19,19,7,7,25,19,22,20,20,8,23,20,3,25,8,10,21,22,11,12,12,21,13,20,20,14,21,23,18,14,12,19,20,8,7,25,8,24,24,23,6,19,13,23,21,22,21,14,10,25,16,26,17,11,28,14,3,22,21,7,20,15,10,23,15,23,24,25,18,26,12,16,14,21,19,11,18,19,19,6,28,10,4,20,19,18,21,20,23,12,21,13,13,24,7,23,16,14,13,17,24,18,11,17,20,5,12,12,4,24,10,21,23,22,25,4,21,3,24,29,19,27,15,24,19,17,18,18,17,23,17,4,8,20,30,19,20,19,28,20,20,8,12,18,19,21,10,19,24,23,23,18,3,17,24,15,16,25,9,10,18,2,25,24,6,17,10,18,8,19,6,20,17,11,15,6,22,22,24,9,11,14,25,14,18,20,28,13,23,14,5,26,13,29,15,24,23,18,8,10,11,5,22,18,6,22,9,21,23,28,9,9,12,8,28,17,19,27,21,18,14,14,13,26,21,28,19,20,6,12,4,7,12,20,25,23,12,4,26,19,12,9,8,18,12,18,13,18,20,4,16,12,22,4,24,12,20,20,25,13,21,21,20,21,12,16,11,10,21,12,25,13,21,12,14,11,4,17,3,24,17,20,5,25,23,21,22,22,29,7,19,18,25,10,23,21,21,5,27,10,20,25,18,7,10,20,26,5,19,14,25,23,22,28,19,8,6,21,26,17,14,8,13,21,26,26,5,9,15,22,14,23,8,21,24,12,16,28,11,4,13,11,23,22,13,24,8,9,22,26,13,26,24,10,29,9,24,25,14,9,10,9,18,12,25,26,23,18,16,11,8,8,16,23,18,14,28,9,17,3,9,21,16,24,1,20,23,25,4,26,24,15,14,20,5,17,23,12,23,25,21,20,27,30,21,14,9,20,12,18,9,25,17,27,5,21,24,7,16,16,7,12,8,9,23,11,23,9,14,24,20,20,9,13,9,17,11,14,22,8,14,6,19,12,15,15,12,7,14,11,14,15,10,18,22,8,27,9,27,19,17,15,3,7,23,9,26,20,25,19,17,13,19,9,20,4,10,9,11,21,21,14,21,22,15,9,22,6,11,12,22,16,6,13,26,20,8,22,21,26,14,19,21,8,16,26,13,11,26,23,15,22,19,28,18,24,18,17,17,9,13,25,18,25,11,10,23,22,21,10,20,17,18,6,9,8,25,22,26,17,24,13,5,13,16,19,9,24,13,21,19,26,24,12,17,20,21,13,15,26,15,18,26,20,26,10,23,19,26,9,19,27,24,26,25,9,19,5,9,18,11,16,25,9,16,23,14,9,23,27,13,7,17,10,15,17,9,5,25,18,13,16,16,14,19,17,9,10,7,24,14,13,25,2,17,26,8,3,15,8,23,19,14,20,14,11,19,17,9,16,23,10,23,17,23,10,18,10,26,12,18,27,12,6,22,27,10,23,13,7,8,20,27,12,4,21,17,5,8,11,17,24,19,18,10,12,7,26,23,10,5,10,23,14,19,20,6,21,23,8,15,27,13,7,7,20,27,5,5,6,11,22,25,23,23,16,17,14,4,11,6,23,10,10,21,9,17,24,22,19,26,17,17,10,26,15,14,25,19,9,13,7,23,17,18,22,5,26,14,22,6,13,9,13,22,18,18,24,29,19,15,16,13,19,18,4,2,8,23,15,15,26,16,22,17,12,21,9,9,21,22,17,24,19,21,20,26,23,8,18,19,25,21,13,22,9,26,23,5,12,27,26,25,24,14,9,23,26,11,22,18,16,9,23,13,16,27,18,19,23,26,25,19,10,19,19,23,10,23,16,14,8,9,23,8,17,7,20,8,7,19,21,21,17,29,17,11,24,9,13,7,3,15,21,10,8,22,15,21,24,23,10,24,18,12,20,12,12,21,9,9,20,17,19,18,18,13,23,9,24,26,7,9,4,25,30,14,23,6,11,14,21,11,2,12,16,28,17,20,10,20,12,7,27,23,14,16,10,19,15,12,12,14,23,22,11,12,14,14,11,18,21,17,11,7,25,9,7,19,16,23,19,4,8,13,11,8,24,24,26,21,20,19,15,14,16,24,8,9,8,11,22,22,5,25,9,21,25,20,22,13,24,19,6,10,6,6,24,12,20,13,16,25,26,21,17,20,11,16,19,7,23,12,21,17,5,10,21,8,13,19,16,4,6,23,19,21,11,16,10,8,17,18,19,10,15,22,28,24,13,12,19,26,22,15,22,13,22,9,16,18,26,15,23,9,13,12,22,20,19,24,20,16,11,25,16,25,26,9,17,21,4,2,22,14,7,8,8,27,12,21,15,9,11,9,16,22,21,25,4,7,20,8,10,15,17,9,16,19,17,15,7,17,18,18,31,10,24,23,24,5,29,6,7,25,29,4,22,19,22,15,9,17,3,12,14,5,22,11,19,13,10,5,14,18,15,16,9,9,24,9,21,26,29,16,25,24,8,25,17,3,15,15,9,16,10,8,17,20,26,20,15,5,7,21,12,11,11,20,12,8,10,19,8,5,11,6,27,14,14,21,15,6,11,23,29,12,11,22,6,25,11,14,23,3,20,10,12,18,16,11,13,17,19,7,15,8,20,25,16,18,18,16,14,17,17,18,8,14,15,24,7,28,26,26,19,8,18,17,12,11,19,22,24,27,12,21,16,17,3,22,17,23,23,7,18,3,23,14,14,13,11,6,16,15,3,15,22,17,24,29,16,24,7,26,19,12,22,8,5,21,12,25,14,15,10,8,10,17,27,23,25,23,17,26,7,12,23,25,3,19,9,2,27,15,5,17,19,23,15,10,18,5,19,16,24,19,10,24,18,8,27,19,24,26,21,20,24,22,30,22,23,5,13,21,22,11,25,28,21,14,14,22,12,18,22,7,3,17,26,8,25,25,23,12,10,26,12,12,19,20,15,26,19,16,27,22,9,23,13,29,24,27,26,23,15,17,19,15,14,9,13,16,24,18,22,21,24,21,13,23,23,11,28,13,8,24,6,28,14,17,19,8,15,18,28,9,29,19,13,14,15,8,13,17,11,18,26,4,7,19,12,20,20,12,22,24,22,17,14,10,25,28,14,15,14,17,3,14,8,20,21,21,20,17,20,8,21,14,18,22,16,8,13,14,21,22,22,19,17,23,22,21,15,17,16,23,17,6,11,10,11,19,6,18,5,12,23,23,21,5,10,5,21,8,10,14,12,22,19,6,20,25,7,14,19,4,9,22,23,25,9,21,12,3,13,20,10,7,21,15,11,15,18,22,19,21,13,3,21,13,26,1,12,20,12,26,10,19,13,22,14,26,26,4,27,8,10,12,24,22,23,8,22,23,10,14,7,4,4,15,20,25,18,13,10,9,17,18,6,24,24,11,23,12,7,21,8,21,11,27,18,8,9,7,25,12,12,2,15,17,14,17,23,8,25,18,21,8,16,3,25,19,19,12,7,24,11,16,10,15,28,20,17,20,25,24,12,17,8,15,5,23,5,14,23,12,13,16,12,21,13,20,11,9,7,5,20,11,22,12,15,11,3,9,24,22,6,16,20,17,20,22,16,19,18,14,2,26,9,9,5,8,11,20,5,22,10,12,7,11,19,17,20,21,3,6,10,9,20,19,18,12,10,23,21,13,16,13,22,22,16,18,22,18,5,17,27,15,8,21,11,24,25,15,17,25,10,17,22,11,12,22,22,17,31,21,7,6,8,22,14,16,9,19,18,11,11,17,14,18,26,20,9,11,5,18,4,21,7,3,22,26,21,20,22,11,11,12,20,24,24,13,11,15,22,16,9,19,18,27,23,20,4,23,24,29,12,7,9,5,13,21,18,24,10,18,23,24,25,8,13,23,8,3,7,14,5,3,27,20,7,8,16,13,17,14,20,17,21,21,25,26,9,22,11,13,15,14,15,17,16,28,21,10,5,9,12,6,28,23,8,8,18,28,6,19,26,20,4,13,17,6,18,14,13,26,18,17,30,16,18,6,27,27,12,10,18,24,22,28,26,14,18,19,13,12,23,7,19,22,10,20,23,6,18,31,9,15,11,11,20,24,7,18,19,13,9,9,11,7,26,19,24,12,5,20,16,29,24,16,7,16,18,6,2,7,19,25,20,11,18,14,22,23,14,23,9,11,13,22,16,22,16,28,20,24,22,17,9,19,10,19,9,12,16,4,11,9,9,13,14,8,8,23,29,20,15,11,6,10,13,13,5,15,8,9,22,10,21,17,19,21,10,22,25,4,23,23,9,21,25,3,22,25,8,27,21,17,17,27,12,17,17,1,25,20,17,20,21,11,25,7,25,4,21,21,6,16,26,19,25,5,18,16,21,22,14,17,8,17,6,22,16,19,3,7,12,30,23,23,14,23,18,11,18,8,9,11,27,10,14,12,18,15,15,30,25,21,13,15,30,30,25,6,16,9,22,5,28,22,22,8,16,24,8,3,27,21,6,24,20,9,25,6,14,14,21,7,22,20,18,24,14,22,5,24,22,18,11,27,15,10,25,8,7,20,11,8,20,14,22,24,23,14,7,4,26,12,13,16,7,19,16,18,11,8,14,21,25,23,21,10,25,24,15,17,10,11,13,15,15,23,15,20,16,12,8,18,23,12,18,5,14,11,22,19,10,8,10,17,24,12,25,17,9,18,5,18,11,15,12,24,17,8,17,9,22,3,22,25,13,13,24,20,11,10,25,21,8,26,7,19,26,15,15,17,23,10,16,20,12,16,14,4,21,8,21,8,22,23,8,12,16,20,14,13,4,25,24,22,24,23,14,12,19,11,10,21,14,18,22,20,27,8,12,22,17,13,17,17,16,19,28,20,28,17,8,27,4,26,19,16,27,14,15,9,24,16,12,15,9,22,29,5,4,23,24,19,9,4,16,23,22,24,21,26,20,17,17,12,11,10,12,9,10,18,26,9,25,22,15,26,27,16,22,21,22,24,25,17,23,22,14,8,15,23,6,16,7,4,25,13,6,10,19,23,20,18,20,11,11,25,19,20,13,16,14,25,18,25,28,10,11,13,21,25,10,17,9,25,23,9,3,22,2,8,22,19,16,24,21,21,12,7,5,24,27,9,2,27,8,9,27,12,19,7,7,26,18,23,27,7,22,2,19,20,7,18,23,6,14,16,22,22,15,25,15,10,26,20,16,27,6,14,15,6,4,11,14,26,15,27,4,20,6,9,14,20,23,20,20,15,12,27,18,7,19,4,11,17,10,11,18,13,18,20,23,20,6,16,11,20,21,12,18,23,10,15,11,8,22,4,17,26,15,14,14,13,28,4,20,25,16,10,21,15,23,7,7,15,20,21,15,10,24,7,13,17,19,15,23,25,28,3,21,8,23,33,7,21,21,13,5,7,5,22,19,23,8,3,25,20,58,14,20,14,20,19,23,20,10,23,12,15,10,10,5,26,16,24,15,14,22,18,25,24,17,19,8,26,6,21,21,15,16,10,16,27,21,5,22,25,9,14,28,28,20,4,19,17,8,14,18,12,25,9,10,17,27,21,26,19,9,6,19,8,19,22,10,2,14,23,28,6,21,14,19,16,23,19,24,17,21,29,16,18,24,17,15,15,24,4,17,25,26,20,21,18,25,11,24,19,16,18,21,17,10,11,4,9,16,6,7,30,16,12,12,21,21,15,16,18,13,9,22,18,9,6,28,8,19,19,19,7,20,9,24,14,10,4,20,23,21,21,26,22,23,11,14,14,8,7,16,28,22,24,8,19,21,24,13,24,15,11,21,19,16,9,22,9,11,17,22,10,2,10,22,8,17,20,16,18,17,16,7,27,14,18,14,23],\"xaxis\":\"x\",\"yaxis\":\"y\",\"type\":\"histogram\"},{\"alignmentgroup\":\"True\",\"hovertemplate\":\"Length=%{x}\\u003cextra\\u003e\\u003c\\u002fextra\\u003e\",\"legendgroup\":\"\",\"marker\":{\"color\":\"#636efa\"},\"name\":\"\",\"notched\":true,\"offsetgroup\":\"\",\"showlegend\":false,\"x\":[18,14,18,13,11,26,16,14,10,6,19,19,26,8,9,23,23,19,22,20,19,23,22,21,6,28,5,13,19,19,17,8,16,12,12,4,24,11,14,24,27,13,26,17,26,13,6,21,24,16,11,23,23,17,16,19,15,6,16,13,10,15,18,9,16,8,16,21,21,22,5,8,25,18,18,16,24,19,21,27,16,18,10,17,24,19,21,8,22,10,12,21,11,11,10,18,22,18,4,13,24,23,22,29,15,24,5,14,15,25,19,24,12,9,6,24,27,24,22,20,21,21,20,7,26,11,5,22,7,9,23,7,26,27,12,16,17,14,20,9,22,14,26,2,23,18,16,3,21,19,7,26,9,29,20,24,15,14,26,18,12,18,21,11,14,23,21,5,12,20,31,13,3,26,9,19,9,20,21,9,11,18,19,27,24,16,5,12,18,14,17,24,24,22,16,10,12,23,6,19,24,10,14,20,17,22,10,23,22,18,6,24,21,16,9,26,21,9,2,11,24,4,22,18,7,2,9,22,18,25,14,23,12,26,7,25,27,12,14,7,21,10,26,13,7,9,8,5,11,21,14,12,7,14,8,20,16,23,15,23,4,17,8,6,5,10,12,16,23,22,9,9,18,25,22,22,23,22,26,22,7,13,16,15,19,25,18,17,11,20,21,23,11,12,11,16,19,9,6,8,10,20,6,23,19,21,13,13,8,22,17,17,15,11,10,6,21,12,14,9,19,25,19,19,28,11,21,21,14,15,22,25,18,23,12,19,11,16,15,18,15,23,11,15,15,21,26,14,18,20,25,22,12,24,16,24,29,21,24,16,7,21,23,24,15,22,23,20,6,19,25,23,27,16,6,15,3,10,18,19,7,17,10,27,18,8,7,19,15,9,16,23,26,14,11,15,26,12,16,9,20,24,8,9,25,18,22,23,12,18,4,26,25,23,20,6,23,20,19,17,4,6,21,11,12,4,19,14,18,9,23,26,6,10,21,9,10,13,11,24,19,26,6,27,16,19,25,9,26,14,12,16,10,18,22,25,18,29,17,18,15,24,20,26,26,23,23,26,19,8,15,25,18,23,20,8,26,5,22,29,11,10,24,5,20,18,19,8,8,9,27,18,22,19,23,23,22,23,18,30,3,8,15,15,24,21,11,5,15,22,24,13,22,16,12,11,8,15,18,8,16,16,17,3,20,25,19,12,16,32,24,28,22,11,16,7,16,12,19,21,2,14,10,26,18,23,11,16,3,24,16,20,8,18,6,24,20,6,23,7,22,8,19,11,6,26,24,23,9,11,15,9,21,7,18,6,13,7,26,13,21,9,5,23,19,6,22,23,26,18,12,10,21,16,12,21,6,8,9,27,24,14,24,9,15,26,9,16,15,15,10,8,11,10,18,8,5,8,23,8,11,21,29,9,10,23,13,21,16,17,8,21,7,20,13,19,20,6,20,20,7,13,14,24,25,15,26,17,19,10,8,30,7,21,11,24,17,20,25,7,14,7,23,15,28,19,6,3,12,15,5,17,12,24,13,16,19,19,7,7,25,19,22,20,20,8,23,20,3,25,8,10,21,22,11,12,12,21,13,20,20,14,21,23,18,14,12,19,20,8,7,25,8,24,24,23,6,19,13,23,21,22,21,14,10,25,16,26,17,11,28,14,3,22,21,7,20,15,10,23,15,23,24,25,18,26,12,16,14,21,19,11,18,19,19,6,28,10,4,20,19,18,21,20,23,12,21,13,13,24,7,23,16,14,13,17,24,18,11,17,20,5,12,12,4,24,10,21,23,22,25,4,21,3,24,29,19,27,15,24,19,17,18,18,17,23,17,4,8,20,30,19,20,19,28,20,20,8,12,18,19,21,10,19,24,23,23,18,3,17,24,15,16,25,9,10,18,2,25,24,6,17,10,18,8,19,6,20,17,11,15,6,22,22,24,9,11,14,25,14,18,20,28,13,23,14,5,26,13,29,15,24,23,18,8,10,11,5,22,18,6,22,9,21,23,28,9,9,12,8,28,17,19,27,21,18,14,14,13,26,21,28,19,20,6,12,4,7,12,20,25,23,12,4,26,19,12,9,8,18,12,18,13,18,20,4,16,12,22,4,24,12,20,20,25,13,21,21,20,21,12,16,11,10,21,12,25,13,21,12,14,11,4,17,3,24,17,20,5,25,23,21,22,22,29,7,19,18,25,10,23,21,21,5,27,10,20,25,18,7,10,20,26,5,19,14,25,23,22,28,19,8,6,21,26,17,14,8,13,21,26,26,5,9,15,22,14,23,8,21,24,12,16,28,11,4,13,11,23,22,13,24,8,9,22,26,13,26,24,10,29,9,24,25,14,9,10,9,18,12,25,26,23,18,16,11,8,8,16,23,18,14,28,9,17,3,9,21,16,24,1,20,23,25,4,26,24,15,14,20,5,17,23,12,23,25,21,20,27,30,21,14,9,20,12,18,9,25,17,27,5,21,24,7,16,16,7,12,8,9,23,11,23,9,14,24,20,20,9,13,9,17,11,14,22,8,14,6,19,12,15,15,12,7,14,11,14,15,10,18,22,8,27,9,27,19,17,15,3,7,23,9,26,20,25,19,17,13,19,9,20,4,10,9,11,21,21,14,21,22,15,9,22,6,11,12,22,16,6,13,26,20,8,22,21,26,14,19,21,8,16,26,13,11,26,23,15,22,19,28,18,24,18,17,17,9,13,25,18,25,11,10,23,22,21,10,20,17,18,6,9,8,25,22,26,17,24,13,5,13,16,19,9,24,13,21,19,26,24,12,17,20,21,13,15,26,15,18,26,20,26,10,23,19,26,9,19,27,24,26,25,9,19,5,9,18,11,16,25,9,16,23,14,9,23,27,13,7,17,10,15,17,9,5,25,18,13,16,16,14,19,17,9,10,7,24,14,13,25,2,17,26,8,3,15,8,23,19,14,20,14,11,19,17,9,16,23,10,23,17,23,10,18,10,26,12,18,27,12,6,22,27,10,23,13,7,8,20,27,12,4,21,17,5,8,11,17,24,19,18,10,12,7,26,23,10,5,10,23,14,19,20,6,21,23,8,15,27,13,7,7,20,27,5,5,6,11,22,25,23,23,16,17,14,4,11,6,23,10,10,21,9,17,24,22,19,26,17,17,10,26,15,14,25,19,9,13,7,23,17,18,22,5,26,14,22,6,13,9,13,22,18,18,24,29,19,15,16,13,19,18,4,2,8,23,15,15,26,16,22,17,12,21,9,9,21,22,17,24,19,21,20,26,23,8,18,19,25,21,13,22,9,26,23,5,12,27,26,25,24,14,9,23,26,11,22,18,16,9,23,13,16,27,18,19,23,26,25,19,10,19,19,23,10,23,16,14,8,9,23,8,17,7,20,8,7,19,21,21,17,29,17,11,24,9,13,7,3,15,21,10,8,22,15,21,24,23,10,24,18,12,20,12,12,21,9,9,20,17,19,18,18,13,23,9,24,26,7,9,4,25,30,14,23,6,11,14,21,11,2,12,16,28,17,20,10,20,12,7,27,23,14,16,10,19,15,12,12,14,23,22,11,12,14,14,11,18,21,17,11,7,25,9,7,19,16,23,19,4,8,13,11,8,24,24,26,21,20,19,15,14,16,24,8,9,8,11,22,22,5,25,9,21,25,20,22,13,24,19,6,10,6,6,24,12,20,13,16,25,26,21,17,20,11,16,19,7,23,12,21,17,5,10,21,8,13,19,16,4,6,23,19,21,11,16,10,8,17,18,19,10,15,22,28,24,13,12,19,26,22,15,22,13,22,9,16,18,26,15,23,9,13,12,22,20,19,24,20,16,11,25,16,25,26,9,17,21,4,2,22,14,7,8,8,27,12,21,15,9,11,9,16,22,21,25,4,7,20,8,10,15,17,9,16,19,17,15,7,17,18,18,31,10,24,23,24,5,29,6,7,25,29,4,22,19,22,15,9,17,3,12,14,5,22,11,19,13,10,5,14,18,15,16,9,9,24,9,21,26,29,16,25,24,8,25,17,3,15,15,9,16,10,8,17,20,26,20,15,5,7,21,12,11,11,20,12,8,10,19,8,5,11,6,27,14,14,21,15,6,11,23,29,12,11,22,6,25,11,14,23,3,20,10,12,18,16,11,13,17,19,7,15,8,20,25,16,18,18,16,14,17,17,18,8,14,15,24,7,28,26,26,19,8,18,17,12,11,19,22,24,27,12,21,16,17,3,22,17,23,23,7,18,3,23,14,14,13,11,6,16,15,3,15,22,17,24,29,16,24,7,26,19,12,22,8,5,21,12,25,14,15,10,8,10,17,27,23,25,23,17,26,7,12,23,25,3,19,9,2,27,15,5,17,19,23,15,10,18,5,19,16,24,19,10,24,18,8,27,19,24,26,21,20,24,22,30,22,23,5,13,21,22,11,25,28,21,14,14,22,12,18,22,7,3,17,26,8,25,25,23,12,10,26,12,12,19,20,15,26,19,16,27,22,9,23,13,29,24,27,26,23,15,17,19,15,14,9,13,16,24,18,22,21,24,21,13,23,23,11,28,13,8,24,6,28,14,17,19,8,15,18,28,9,29,19,13,14,15,8,13,17,11,18,26,4,7,19,12,20,20,12,22,24,22,17,14,10,25,28,14,15,14,17,3,14,8,20,21,21,20,17,20,8,21,14,18,22,16,8,13,14,21,22,22,19,17,23,22,21,15,17,16,23,17,6,11,10,11,19,6,18,5,12,23,23,21,5,10,5,21,8,10,14,12,22,19,6,20,25,7,14,19,4,9,22,23,25,9,21,12,3,13,20,10,7,21,15,11,15,18,22,19,21,13,3,21,13,26,1,12,20,12,26,10,19,13,22,14,26,26,4,27,8,10,12,24,22,23,8,22,23,10,14,7,4,4,15,20,25,18,13,10,9,17,18,6,24,24,11,23,12,7,21,8,21,11,27,18,8,9,7,25,12,12,2,15,17,14,17,23,8,25,18,21,8,16,3,25,19,19,12,7,24,11,16,10,15,28,20,17,20,25,24,12,17,8,15,5,23,5,14,23,12,13,16,12,21,13,20,11,9,7,5,20,11,22,12,15,11,3,9,24,22,6,16,20,17,20,22,16,19,18,14,2,26,9,9,5,8,11,20,5,22,10,12,7,11,19,17,20,21,3,6,10,9,20,19,18,12,10,23,21,13,16,13,22,22,16,18,22,18,5,17,27,15,8,21,11,24,25,15,17,25,10,17,22,11,12,22,22,17,31,21,7,6,8,22,14,16,9,19,18,11,11,17,14,18,26,20,9,11,5,18,4,21,7,3,22,26,21,20,22,11,11,12,20,24,24,13,11,15,22,16,9,19,18,27,23,20,4,23,24,29,12,7,9,5,13,21,18,24,10,18,23,24,25,8,13,23,8,3,7,14,5,3,27,20,7,8,16,13,17,14,20,17,21,21,25,26,9,22,11,13,15,14,15,17,16,28,21,10,5,9,12,6,28,23,8,8,18,28,6,19,26,20,4,13,17,6,18,14,13,26,18,17,30,16,18,6,27,27,12,10,18,24,22,28,26,14,18,19,13,12,23,7,19,22,10,20,23,6,18,31,9,15,11,11,20,24,7,18,19,13,9,9,11,7,26,19,24,12,5,20,16,29,24,16,7,16,18,6,2,7,19,25,20,11,18,14,22,23,14,23,9,11,13,22,16,22,16,28,20,24,22,17,9,19,10,19,9,12,16,4,11,9,9,13,14,8,8,23,29,20,15,11,6,10,13,13,5,15,8,9,22,10,21,17,19,21,10,22,25,4,23,23,9,21,25,3,22,25,8,27,21,17,17,27,12,17,17,1,25,20,17,20,21,11,25,7,25,4,21,21,6,16,26,19,25,5,18,16,21,22,14,17,8,17,6,22,16,19,3,7,12,30,23,23,14,23,18,11,18,8,9,11,27,10,14,12,18,15,15,30,25,21,13,15,30,30,25,6,16,9,22,5,28,22,22,8,16,24,8,3,27,21,6,24,20,9,25,6,14,14,21,7,22,20,18,24,14,22,5,24,22,18,11,27,15,10,25,8,7,20,11,8,20,14,22,24,23,14,7,4,26,12,13,16,7,19,16,18,11,8,14,21,25,23,21,10,25,24,15,17,10,11,13,15,15,23,15,20,16,12,8,18,23,12,18,5,14,11,22,19,10,8,10,17,24,12,25,17,9,18,5,18,11,15,12,24,17,8,17,9,22,3,22,25,13,13,24,20,11,10,25,21,8,26,7,19,26,15,15,17,23,10,16,20,12,16,14,4,21,8,21,8,22,23,8,12,16,20,14,13,4,25,24,22,24,23,14,12,19,11,10,21,14,18,22,20,27,8,12,22,17,13,17,17,16,19,28,20,28,17,8,27,4,26,19,16,27,14,15,9,24,16,12,15,9,22,29,5,4,23,24,19,9,4,16,23,22,24,21,26,20,17,17,12,11,10,12,9,10,18,26,9,25,22,15,26,27,16,22,21,22,24,25,17,23,22,14,8,15,23,6,16,7,4,25,13,6,10,19,23,20,18,20,11,11,25,19,20,13,16,14,25,18,25,28,10,11,13,21,25,10,17,9,25,23,9,3,22,2,8,22,19,16,24,21,21,12,7,5,24,27,9,2,27,8,9,27,12,19,7,7,26,18,23,27,7,22,2,19,20,7,18,23,6,14,16,22,22,15,25,15,10,26,20,16,27,6,14,15,6,4,11,14,26,15,27,4,20,6,9,14,20,23,20,20,15,12,27,18,7,19,4,11,17,10,11,18,13,18,20,23,20,6,16,11,20,21,12,18,23,10,15,11,8,22,4,17,26,15,14,14,13,28,4,20,25,16,10,21,15,23,7,7,15,20,21,15,10,24,7,13,17,19,15,23,25,28,3,21,8,23,33,7,21,21,13,5,7,5,22,19,23,8,3,25,20,58,14,20,14,20,19,23,20,10,23,12,15,10,10,5,26,16,24,15,14,22,18,25,24,17,19,8,26,6,21,21,15,16,10,16,27,21,5,22,25,9,14,28,28,20,4,19,17,8,14,18,12,25,9,10,17,27,21,26,19,9,6,19,8,19,22,10,2,14,23,28,6,21,14,19,16,23,19,24,17,21,29,16,18,24,17,15,15,24,4,17,25,26,20,21,18,25,11,24,19,16,18,21,17,10,11,4,9,16,6,7,30,16,12,12,21,21,15,16,18,13,9,22,18,9,6,28,8,19,19,19,7,20,9,24,14,10,4,20,23,21,21,26,22,23,11,14,14,8,7,16,28,22,24,8,19,21,24,13,24,15,11,21,19,16,9,22,9,11,17,22,10,2,10,22,8,17,20,16,18,17,16,7,27,14,18,14,23],\"xaxis\":\"x2\",\"yaxis\":\"y2\",\"type\":\"box\"}],                        {\"template\":{\"data\":{\"histogram2dcontour\":[{\"type\":\"histogram2dcontour\",\"colorbar\":{\"outlinewidth\":0,\"ticks\":\"\"},\"colorscale\":[[0.0,\"#0d0887\"],[0.1111111111111111,\"#46039f\"],[0.2222222222222222,\"#7201a8\"],[0.3333333333333333,\"#9c179e\"],[0.4444444444444444,\"#bd3786\"],[0.5555555555555556,\"#d8576b\"],[0.6666666666666666,\"#ed7953\"],[0.7777777777777778,\"#fb9f3a\"],[0.8888888888888888,\"#fdca26\"],[1.0,\"#f0f921\"]]}],\"choropleth\":[{\"type\":\"choropleth\",\"colorbar\":{\"outlinewidth\":0,\"ticks\":\"\"}}],\"histogram2d\":[{\"type\":\"histogram2d\",\"colorbar\":{\"outlinewidth\":0,\"ticks\":\"\"},\"colorscale\":[[0.0,\"#0d0887\"],[0.1111111111111111,\"#46039f\"],[0.2222222222222222,\"#7201a8\"],[0.3333333333333333,\"#9c179e\"],[0.4444444444444444,\"#bd3786\"],[0.5555555555555556,\"#d8576b\"],[0.6666666666666666,\"#ed7953\"],[0.7777777777777778,\"#fb9f3a\"],[0.8888888888888888,\"#fdca26\"],[1.0,\"#f0f921\"]]}],\"heatmap\":[{\"type\":\"heatmap\",\"colorbar\":{\"outlinewidth\":0,\"ticks\":\"\"},\"colorscale\":[[0.0,\"#0d0887\"],[0.1111111111111111,\"#46039f\"],[0.2222222222222222,\"#7201a8\"],[0.3333333333333333,\"#9c179e\"],[0.4444444444444444,\"#bd3786\"],[0.5555555555555556,\"#d8576b\"],[0.6666666666666666,\"#ed7953\"],[0.7777777777777778,\"#fb9f3a\"],[0.8888888888888888,\"#fdca26\"],[1.0,\"#f0f921\"]]}],\"heatmapgl\":[{\"type\":\"heatmapgl\",\"colorbar\":{\"outlinewidth\":0,\"ticks\":\"\"},\"colorscale\":[[0.0,\"#0d0887\"],[0.1111111111111111,\"#46039f\"],[0.2222222222222222,\"#7201a8\"],[0.3333333333333333,\"#9c179e\"],[0.4444444444444444,\"#bd3786\"],[0.5555555555555556,\"#d8576b\"],[0.6666666666666666,\"#ed7953\"],[0.7777777777777778,\"#fb9f3a\"],[0.8888888888888888,\"#fdca26\"],[1.0,\"#f0f921\"]]}],\"contourcarpet\":[{\"type\":\"contourcarpet\",\"colorbar\":{\"outlinewidth\":0,\"ticks\":\"\"}}],\"contour\":[{\"type\":\"contour\",\"colorbar\":{\"outlinewidth\":0,\"ticks\":\"\"},\"colorscale\":[[0.0,\"#0d0887\"],[0.1111111111111111,\"#46039f\"],[0.2222222222222222,\"#7201a8\"],[0.3333333333333333,\"#9c179e\"],[0.4444444444444444,\"#bd3786\"],[0.5555555555555556,\"#d8576b\"],[0.6666666666666666,\"#ed7953\"],[0.7777777777777778,\"#fb9f3a\"],[0.8888888888888888,\"#fdca26\"],[1.0,\"#f0f921\"]]}],\"surface\":[{\"type\":\"surface\",\"colorbar\":{\"outlinewidth\":0,\"ticks\":\"\"},\"colorscale\":[[0.0,\"#0d0887\"],[0.1111111111111111,\"#46039f\"],[0.2222222222222222,\"#7201a8\"],[0.3333333333333333,\"#9c179e\"],[0.4444444444444444,\"#bd3786\"],[0.5555555555555556,\"#d8576b\"],[0.6666666666666666,\"#ed7953\"],[0.7777777777777778,\"#fb9f3a\"],[0.8888888888888888,\"#fdca26\"],[1.0,\"#f0f921\"]]}],\"mesh3d\":[{\"type\":\"mesh3d\",\"colorbar\":{\"outlinewidth\":0,\"ticks\":\"\"}}],\"scatter\":[{\"fillpattern\":{\"fillmode\":\"overlay\",\"size\":10,\"solidity\":0.2},\"type\":\"scatter\"}],\"parcoords\":[{\"type\":\"parcoords\",\"line\":{\"colorbar\":{\"outlinewidth\":0,\"ticks\":\"\"}}}],\"scatterpolargl\":[{\"type\":\"scatterpolargl\",\"marker\":{\"colorbar\":{\"outlinewidth\":0,\"ticks\":\"\"}}}],\"bar\":[{\"error_x\":{\"color\":\"#2a3f5f\"},\"error_y\":{\"color\":\"#2a3f5f\"},\"marker\":{\"line\":{\"color\":\"#E5ECF6\",\"width\":0.5},\"pattern\":{\"fillmode\":\"overlay\",\"size\":10,\"solidity\":0.2}},\"type\":\"bar\"}],\"scattergeo\":[{\"type\":\"scattergeo\",\"marker\":{\"colorbar\":{\"outlinewidth\":0,\"ticks\":\"\"}}}],\"scatterpolar\":[{\"type\":\"scatterpolar\",\"marker\":{\"colorbar\":{\"outlinewidth\":0,\"ticks\":\"\"}}}],\"histogram\":[{\"marker\":{\"pattern\":{\"fillmode\":\"overlay\",\"size\":10,\"solidity\":0.2}},\"type\":\"histogram\"}],\"scattergl\":[{\"type\":\"scattergl\",\"marker\":{\"colorbar\":{\"outlinewidth\":0,\"ticks\":\"\"}}}],\"scatter3d\":[{\"type\":\"scatter3d\",\"line\":{\"colorbar\":{\"outlinewidth\":0,\"ticks\":\"\"}},\"marker\":{\"colorbar\":{\"outlinewidth\":0,\"ticks\":\"\"}}}],\"scattermapbox\":[{\"type\":\"scattermapbox\",\"marker\":{\"colorbar\":{\"outlinewidth\":0,\"ticks\":\"\"}}}],\"scatterternary\":[{\"type\":\"scatterternary\",\"marker\":{\"colorbar\":{\"outlinewidth\":0,\"ticks\":\"\"}}}],\"scattercarpet\":[{\"type\":\"scattercarpet\",\"marker\":{\"colorbar\":{\"outlinewidth\":0,\"ticks\":\"\"}}}],\"carpet\":[{\"aaxis\":{\"endlinecolor\":\"#2a3f5f\",\"gridcolor\":\"white\",\"linecolor\":\"white\",\"minorgridcolor\":\"white\",\"startlinecolor\":\"#2a3f5f\"},\"baxis\":{\"endlinecolor\":\"#2a3f5f\",\"gridcolor\":\"white\",\"linecolor\":\"white\",\"minorgridcolor\":\"white\",\"startlinecolor\":\"#2a3f5f\"},\"type\":\"carpet\"}],\"table\":[{\"cells\":{\"fill\":{\"color\":\"#EBF0F8\"},\"line\":{\"color\":\"white\"}},\"header\":{\"fill\":{\"color\":\"#C8D4E3\"},\"line\":{\"color\":\"white\"}},\"type\":\"table\"}],\"barpolar\":[{\"marker\":{\"line\":{\"color\":\"#E5ECF6\",\"width\":0.5},\"pattern\":{\"fillmode\":\"overlay\",\"size\":10,\"solidity\":0.2}},\"type\":\"barpolar\"}],\"pie\":[{\"automargin\":true,\"type\":\"pie\"}]},\"layout\":{\"autotypenumbers\":\"strict\",\"colorway\":[\"#636efa\",\"#EF553B\",\"#00cc96\",\"#ab63fa\",\"#FFA15A\",\"#19d3f3\",\"#FF6692\",\"#B6E880\",\"#FF97FF\",\"#FECB52\"],\"font\":{\"color\":\"#2a3f5f\"},\"hovermode\":\"closest\",\"hoverlabel\":{\"align\":\"left\"},\"paper_bgcolor\":\"white\",\"plot_bgcolor\":\"#E5ECF6\",\"polar\":{\"bgcolor\":\"#E5ECF6\",\"angularaxis\":{\"gridcolor\":\"white\",\"linecolor\":\"white\",\"ticks\":\"\"},\"radialaxis\":{\"gridcolor\":\"white\",\"linecolor\":\"white\",\"ticks\":\"\"}},\"ternary\":{\"bgcolor\":\"#E5ECF6\",\"aaxis\":{\"gridcolor\":\"white\",\"linecolor\":\"white\",\"ticks\":\"\"},\"baxis\":{\"gridcolor\":\"white\",\"linecolor\":\"white\",\"ticks\":\"\"},\"caxis\":{\"gridcolor\":\"white\",\"linecolor\":\"white\",\"ticks\":\"\"}},\"coloraxis\":{\"colorbar\":{\"outlinewidth\":0,\"ticks\":\"\"}},\"colorscale\":{\"sequential\":[[0.0,\"#0d0887\"],[0.1111111111111111,\"#46039f\"],[0.2222222222222222,\"#7201a8\"],[0.3333333333333333,\"#9c179e\"],[0.4444444444444444,\"#bd3786\"],[0.5555555555555556,\"#d8576b\"],[0.6666666666666666,\"#ed7953\"],[0.7777777777777778,\"#fb9f3a\"],[0.8888888888888888,\"#fdca26\"],[1.0,\"#f0f921\"]],\"sequentialminus\":[[0.0,\"#0d0887\"],[0.1111111111111111,\"#46039f\"],[0.2222222222222222,\"#7201a8\"],[0.3333333333333333,\"#9c179e\"],[0.4444444444444444,\"#bd3786\"],[0.5555555555555556,\"#d8576b\"],[0.6666666666666666,\"#ed7953\"],[0.7777777777777778,\"#fb9f3a\"],[0.8888888888888888,\"#fdca26\"],[1.0,\"#f0f921\"]],\"diverging\":[[0,\"#8e0152\"],[0.1,\"#c51b7d\"],[0.2,\"#de77ae\"],[0.3,\"#f1b6da\"],[0.4,\"#fde0ef\"],[0.5,\"#f7f7f7\"],[0.6,\"#e6f5d0\"],[0.7,\"#b8e186\"],[0.8,\"#7fbc41\"],[0.9,\"#4d9221\"],[1,\"#276419\"]]},\"xaxis\":{\"gridcolor\":\"white\",\"linecolor\":\"white\",\"ticks\":\"\",\"title\":{\"standoff\":15},\"zerolinecolor\":\"white\",\"automargin\":true,\"zerolinewidth\":2},\"yaxis\":{\"gridcolor\":\"white\",\"linecolor\":\"white\",\"ticks\":\"\",\"title\":{\"standoff\":15},\"zerolinecolor\":\"white\",\"automargin\":true,\"zerolinewidth\":2},\"scene\":{\"xaxis\":{\"backgroundcolor\":\"#E5ECF6\",\"gridcolor\":\"white\",\"linecolor\":\"white\",\"showbackground\":true,\"ticks\":\"\",\"zerolinecolor\":\"white\",\"gridwidth\":2},\"yaxis\":{\"backgroundcolor\":\"#E5ECF6\",\"gridcolor\":\"white\",\"linecolor\":\"white\",\"showbackground\":true,\"ticks\":\"\",\"zerolinecolor\":\"white\",\"gridwidth\":2},\"zaxis\":{\"backgroundcolor\":\"#E5ECF6\",\"gridcolor\":\"white\",\"linecolor\":\"white\",\"showbackground\":true,\"ticks\":\"\",\"zerolinecolor\":\"white\",\"gridwidth\":2}},\"shapedefaults\":{\"line\":{\"color\":\"#2a3f5f\"}},\"annotationdefaults\":{\"arrowcolor\":\"#2a3f5f\",\"arrowhead\":0,\"arrowwidth\":1},\"geo\":{\"bgcolor\":\"white\",\"landcolor\":\"#E5ECF6\",\"subunitcolor\":\"white\",\"showland\":true,\"showlakes\":true,\"lakecolor\":\"white\"},\"title\":{\"x\":0.05},\"mapbox\":{\"style\":\"light\"}}},\"xaxis\":{\"anchor\":\"y\",\"domain\":[0.0,1.0],\"title\":{\"text\":\"Length\"}},\"yaxis\":{\"anchor\":\"x\",\"domain\":[0.0,0.8316],\"title\":{\"text\":\"count\"}},\"xaxis2\":{\"anchor\":\"y2\",\"domain\":[0.0,1.0],\"matches\":\"x\",\"showticklabels\":false,\"showgrid\":true},\"yaxis2\":{\"anchor\":\"x2\",\"domain\":[0.8416,1.0],\"matches\":\"y2\",\"showticklabels\":false,\"showline\":false,\"ticks\":\"\",\"showgrid\":false},\"legend\":{\"tracegroupgap\":0},\"title\":{\"text\":\"Length of tweets text\"},\"barmode\":\"relative\",\"bargap\":0.1},                        {\"responsive\": true}                    ).then(function(){\n",
              "                            \n",
              "var gd = document.getElementById('cef4178e-deb9-4593-b666-ca8336b2f845');\n",
              "var x = new MutationObserver(function (mutations, observer) {{\n",
              "        var display = window.getComputedStyle(gd).display;\n",
              "        if (!display || display === 'none') {{\n",
              "            console.log([gd, 'removed!']);\n",
              "            Plotly.purge(gd);\n",
              "            observer.disconnect();\n",
              "        }}\n",
              "}});\n",
              "\n",
              "// Listen for the removal of the full notebook cells\n",
              "var notebookContainer = gd.closest('#notebook-container');\n",
              "if (notebookContainer) {{\n",
              "    x.observe(notebookContainer, {childList: true});\n",
              "}}\n",
              "\n",
              "// Listen for the clearing of the current output cell\n",
              "var outputEl = gd.closest('.output');\n",
              "if (outputEl) {{\n",
              "    x.observe(outputEl, {childList: true});\n",
              "}}\n",
              "\n",
              "                        })                };                            </script>        </div>\n",
              "</body>\n",
              "</html>"
            ]
          },
          "metadata": {}
        }
      ]
    },
    {
      "cell_type": "markdown",
      "source": [
        "Dall'istogramma che mostra il numero di parole per i vari testi notiamo che è presente un outliers con una lunghezza di 58 parole, mentre il restante si aggira tra 3 e 33 parole"
      ],
      "metadata": {
        "id": "trcqzq2Q2Kvn"
      }
    },
    {
      "cell_type": "code",
      "source": [
        "def text_length(tweet):\n",
        "    str_len = len(tweet.split(\" \"))\n",
        "    return str_len\n",
        "\n",
        "data_train = X_for_graph\n",
        "data_train['Length'] = data_train['text'].apply(lambda x: text_length(x))\n",
        "\n",
        "# Combina il dataset con le etichette\n",
        "dataframe_train = pd.concat([data_train, Y_train], axis=1)\n",
        "dataframe_train.columns = ['Text', 'Length', 'Label']\n",
        "\n",
        "unique_labels = dataframe_train['Label'].unique()\n",
        "\n",
        "colors = px.colors.qualitative.Set1\n",
        "\n",
        "# Crea un istogramma separato per ogni classe con un colore diverso\n",
        "for i, label in enumerate(unique_labels):\n",
        "    df_class = dataframe_train[dataframe_train['Label'] == label]\n",
        "\n",
        "    # Crea l'istogramma per la classe\n",
        "    fig = px.histogram(df_class,\n",
        "                       x='Length',\n",
        "                       marginal='box',\n",
        "                       title=f\"Length of tweets text for class {label}\",\n",
        "                       color_discrete_sequence=[colors[i % len(colors)]]\n",
        "                      )\n",
        "    fig.update_layout(bargap=0.1)\n",
        "    fig.show()\n"
      ],
      "metadata": {
        "colab": {
          "base_uri": "https://localhost:8080/",
          "height": 1000
        },
        "id": "twDRTcYq3PCf",
        "outputId": "c96c53e6-addd-4a1a-d628-b7b5d50c18f7"
      },
      "execution_count": null,
      "outputs": [
        {
          "output_type": "display_data",
          "data": {
            "text/html": [
              "<html>\n",
              "<head><meta charset=\"utf-8\" /></head>\n",
              "<body>\n",
              "    <div>            <script src=\"https://cdnjs.cloudflare.com/ajax/libs/mathjax/2.7.5/MathJax.js?config=TeX-AMS-MML_SVG\"></script><script type=\"text/javascript\">if (window.MathJax && window.MathJax.Hub && window.MathJax.Hub.Config) {window.MathJax.Hub.Config({SVG: {font: \"STIX-Web\"}});}</script>                <script type=\"text/javascript\">window.PlotlyConfig = {MathJaxConfig: 'local'};</script>\n",
              "        <script charset=\"utf-8\" src=\"https://cdn.plot.ly/plotly-2.35.2.min.js\"></script>                <div id=\"41b436e3-1478-42ac-b46e-5d99825caad9\" class=\"plotly-graph-div\" style=\"height:525px; width:100%;\"></div>            <script type=\"text/javascript\">                                    window.PLOTLYENV=window.PLOTLYENV || {};                                    if (document.getElementById(\"41b436e3-1478-42ac-b46e-5d99825caad9\")) {                    Plotly.newPlot(                        \"41b436e3-1478-42ac-b46e-5d99825caad9\",                        [{\"alignmentgroup\":\"True\",\"bingroup\":\"x\",\"hovertemplate\":\"Length=%{x}\\u003cbr\\u003ecount=%{y}\\u003cextra\\u003e\\u003c\\u002fextra\\u003e\",\"legendgroup\":\"\",\"marker\":{\"color\":\"rgb(228,26,28)\",\"pattern\":{\"shape\":\"\"}},\"name\":\"\",\"offsetgroup\":\"\",\"orientation\":\"v\",\"showlegend\":false,\"x\":[18,19,22,19,17,10,19,15,20,21,26,12,23,26,26,27,10,19,20,24,25,12,13,7,20,8,19,12,17,14,9,22,15,25,16,20,10,14,23,23,23,16,26,25,19,9,19,13,22,16,25,26,14,24,16,13,20,24,20,14,7,28,19,3,12,17,7,20,19,21,16,15,18,11,22,24,20,20,8,19,15,5,24,11,13,12,12,13,25,22,25,18,10,19,26,26,12,9,24,8,16,23,9,20,24,21,14,9,11,8,10,22,8,17,26,20,19,9,16,22,22,22,24,5,10,17,15,14,11,16,27,8,20,27,22,10,15,24,21,25,27,26,16,19,17,9,10,10,24,21,27,23,23,18,8,25,16,13,9,21,9,31,29,4,15,16,15,8,20,27,24,25,9,19,18,8,17,13,14,17,14,21,21,23,10,19,22,12,10,24,23,22,13,17,25,23,8,25,20,9,22,18,10,19,19,16,18,17,17,17,16,22,26,11,9,9,18,13,8,17,14,22,9,24,13,19,16,16,19,22,28,6,9,17,25,23,23,18,30,24,6,14,11,22,18,10,8,14,13,25,24,26,17,9,18,9,22,17,9,22,12,20,7,22,22,20,23,28,25,10,7,13,21,5,58,23,15,22,19,21,20,19,9,19,28,15,26,18,19,30,9,19,21,19],\"xaxis\":\"x\",\"yaxis\":\"y\",\"type\":\"histogram\"},{\"alignmentgroup\":\"True\",\"hovertemplate\":\"Length=%{x}\\u003cextra\\u003e\\u003c\\u002fextra\\u003e\",\"legendgroup\":\"\",\"marker\":{\"color\":\"rgb(228,26,28)\"},\"name\":\"\",\"notched\":true,\"offsetgroup\":\"\",\"showlegend\":false,\"x\":[18,19,22,19,17,10,19,15,20,21,26,12,23,26,26,27,10,19,20,24,25,12,13,7,20,8,19,12,17,14,9,22,15,25,16,20,10,14,23,23,23,16,26,25,19,9,19,13,22,16,25,26,14,24,16,13,20,24,20,14,7,28,19,3,12,17,7,20,19,21,16,15,18,11,22,24,20,20,8,19,15,5,24,11,13,12,12,13,25,22,25,18,10,19,26,26,12,9,24,8,16,23,9,20,24,21,14,9,11,8,10,22,8,17,26,20,19,9,16,22,22,22,24,5,10,17,15,14,11,16,27,8,20,27,22,10,15,24,21,25,27,26,16,19,17,9,10,10,24,21,27,23,23,18,8,25,16,13,9,21,9,31,29,4,15,16,15,8,20,27,24,25,9,19,18,8,17,13,14,17,14,21,21,23,10,19,22,12,10,24,23,22,13,17,25,23,8,25,20,9,22,18,10,19,19,16,18,17,17,17,16,22,26,11,9,9,18,13,8,17,14,22,9,24,13,19,16,16,19,22,28,6,9,17,25,23,23,18,30,24,6,14,11,22,18,10,8,14,13,25,24,26,17,9,18,9,22,17,9,22,12,20,7,22,22,20,23,28,25,10,7,13,21,5,58,23,15,22,19,21,20,19,9,19,28,15,26,18,19,30,9,19,21,19],\"xaxis\":\"x2\",\"yaxis\":\"y2\",\"type\":\"box\"}],                        {\"template\":{\"data\":{\"histogram2dcontour\":[{\"type\":\"histogram2dcontour\",\"colorbar\":{\"outlinewidth\":0,\"ticks\":\"\"},\"colorscale\":[[0.0,\"#0d0887\"],[0.1111111111111111,\"#46039f\"],[0.2222222222222222,\"#7201a8\"],[0.3333333333333333,\"#9c179e\"],[0.4444444444444444,\"#bd3786\"],[0.5555555555555556,\"#d8576b\"],[0.6666666666666666,\"#ed7953\"],[0.7777777777777778,\"#fb9f3a\"],[0.8888888888888888,\"#fdca26\"],[1.0,\"#f0f921\"]]}],\"choropleth\":[{\"type\":\"choropleth\",\"colorbar\":{\"outlinewidth\":0,\"ticks\":\"\"}}],\"histogram2d\":[{\"type\":\"histogram2d\",\"colorbar\":{\"outlinewidth\":0,\"ticks\":\"\"},\"colorscale\":[[0.0,\"#0d0887\"],[0.1111111111111111,\"#46039f\"],[0.2222222222222222,\"#7201a8\"],[0.3333333333333333,\"#9c179e\"],[0.4444444444444444,\"#bd3786\"],[0.5555555555555556,\"#d8576b\"],[0.6666666666666666,\"#ed7953\"],[0.7777777777777778,\"#fb9f3a\"],[0.8888888888888888,\"#fdca26\"],[1.0,\"#f0f921\"]]}],\"heatmap\":[{\"type\":\"heatmap\",\"colorbar\":{\"outlinewidth\":0,\"ticks\":\"\"},\"colorscale\":[[0.0,\"#0d0887\"],[0.1111111111111111,\"#46039f\"],[0.2222222222222222,\"#7201a8\"],[0.3333333333333333,\"#9c179e\"],[0.4444444444444444,\"#bd3786\"],[0.5555555555555556,\"#d8576b\"],[0.6666666666666666,\"#ed7953\"],[0.7777777777777778,\"#fb9f3a\"],[0.8888888888888888,\"#fdca26\"],[1.0,\"#f0f921\"]]}],\"heatmapgl\":[{\"type\":\"heatmapgl\",\"colorbar\":{\"outlinewidth\":0,\"ticks\":\"\"},\"colorscale\":[[0.0,\"#0d0887\"],[0.1111111111111111,\"#46039f\"],[0.2222222222222222,\"#7201a8\"],[0.3333333333333333,\"#9c179e\"],[0.4444444444444444,\"#bd3786\"],[0.5555555555555556,\"#d8576b\"],[0.6666666666666666,\"#ed7953\"],[0.7777777777777778,\"#fb9f3a\"],[0.8888888888888888,\"#fdca26\"],[1.0,\"#f0f921\"]]}],\"contourcarpet\":[{\"type\":\"contourcarpet\",\"colorbar\":{\"outlinewidth\":0,\"ticks\":\"\"}}],\"contour\":[{\"type\":\"contour\",\"colorbar\":{\"outlinewidth\":0,\"ticks\":\"\"},\"colorscale\":[[0.0,\"#0d0887\"],[0.1111111111111111,\"#46039f\"],[0.2222222222222222,\"#7201a8\"],[0.3333333333333333,\"#9c179e\"],[0.4444444444444444,\"#bd3786\"],[0.5555555555555556,\"#d8576b\"],[0.6666666666666666,\"#ed7953\"],[0.7777777777777778,\"#fb9f3a\"],[0.8888888888888888,\"#fdca26\"],[1.0,\"#f0f921\"]]}],\"surface\":[{\"type\":\"surface\",\"colorbar\":{\"outlinewidth\":0,\"ticks\":\"\"},\"colorscale\":[[0.0,\"#0d0887\"],[0.1111111111111111,\"#46039f\"],[0.2222222222222222,\"#7201a8\"],[0.3333333333333333,\"#9c179e\"],[0.4444444444444444,\"#bd3786\"],[0.5555555555555556,\"#d8576b\"],[0.6666666666666666,\"#ed7953\"],[0.7777777777777778,\"#fb9f3a\"],[0.8888888888888888,\"#fdca26\"],[1.0,\"#f0f921\"]]}],\"mesh3d\":[{\"type\":\"mesh3d\",\"colorbar\":{\"outlinewidth\":0,\"ticks\":\"\"}}],\"scatter\":[{\"fillpattern\":{\"fillmode\":\"overlay\",\"size\":10,\"solidity\":0.2},\"type\":\"scatter\"}],\"parcoords\":[{\"type\":\"parcoords\",\"line\":{\"colorbar\":{\"outlinewidth\":0,\"ticks\":\"\"}}}],\"scatterpolargl\":[{\"type\":\"scatterpolargl\",\"marker\":{\"colorbar\":{\"outlinewidth\":0,\"ticks\":\"\"}}}],\"bar\":[{\"error_x\":{\"color\":\"#2a3f5f\"},\"error_y\":{\"color\":\"#2a3f5f\"},\"marker\":{\"line\":{\"color\":\"#E5ECF6\",\"width\":0.5},\"pattern\":{\"fillmode\":\"overlay\",\"size\":10,\"solidity\":0.2}},\"type\":\"bar\"}],\"scattergeo\":[{\"type\":\"scattergeo\",\"marker\":{\"colorbar\":{\"outlinewidth\":0,\"ticks\":\"\"}}}],\"scatterpolar\":[{\"type\":\"scatterpolar\",\"marker\":{\"colorbar\":{\"outlinewidth\":0,\"ticks\":\"\"}}}],\"histogram\":[{\"marker\":{\"pattern\":{\"fillmode\":\"overlay\",\"size\":10,\"solidity\":0.2}},\"type\":\"histogram\"}],\"scattergl\":[{\"type\":\"scattergl\",\"marker\":{\"colorbar\":{\"outlinewidth\":0,\"ticks\":\"\"}}}],\"scatter3d\":[{\"type\":\"scatter3d\",\"line\":{\"colorbar\":{\"outlinewidth\":0,\"ticks\":\"\"}},\"marker\":{\"colorbar\":{\"outlinewidth\":0,\"ticks\":\"\"}}}],\"scattermapbox\":[{\"type\":\"scattermapbox\",\"marker\":{\"colorbar\":{\"outlinewidth\":0,\"ticks\":\"\"}}}],\"scatterternary\":[{\"type\":\"scatterternary\",\"marker\":{\"colorbar\":{\"outlinewidth\":0,\"ticks\":\"\"}}}],\"scattercarpet\":[{\"type\":\"scattercarpet\",\"marker\":{\"colorbar\":{\"outlinewidth\":0,\"ticks\":\"\"}}}],\"carpet\":[{\"aaxis\":{\"endlinecolor\":\"#2a3f5f\",\"gridcolor\":\"white\",\"linecolor\":\"white\",\"minorgridcolor\":\"white\",\"startlinecolor\":\"#2a3f5f\"},\"baxis\":{\"endlinecolor\":\"#2a3f5f\",\"gridcolor\":\"white\",\"linecolor\":\"white\",\"minorgridcolor\":\"white\",\"startlinecolor\":\"#2a3f5f\"},\"type\":\"carpet\"}],\"table\":[{\"cells\":{\"fill\":{\"color\":\"#EBF0F8\"},\"line\":{\"color\":\"white\"}},\"header\":{\"fill\":{\"color\":\"#C8D4E3\"},\"line\":{\"color\":\"white\"}},\"type\":\"table\"}],\"barpolar\":[{\"marker\":{\"line\":{\"color\":\"#E5ECF6\",\"width\":0.5},\"pattern\":{\"fillmode\":\"overlay\",\"size\":10,\"solidity\":0.2}},\"type\":\"barpolar\"}],\"pie\":[{\"automargin\":true,\"type\":\"pie\"}]},\"layout\":{\"autotypenumbers\":\"strict\",\"colorway\":[\"#636efa\",\"#EF553B\",\"#00cc96\",\"#ab63fa\",\"#FFA15A\",\"#19d3f3\",\"#FF6692\",\"#B6E880\",\"#FF97FF\",\"#FECB52\"],\"font\":{\"color\":\"#2a3f5f\"},\"hovermode\":\"closest\",\"hoverlabel\":{\"align\":\"left\"},\"paper_bgcolor\":\"white\",\"plot_bgcolor\":\"#E5ECF6\",\"polar\":{\"bgcolor\":\"#E5ECF6\",\"angularaxis\":{\"gridcolor\":\"white\",\"linecolor\":\"white\",\"ticks\":\"\"},\"radialaxis\":{\"gridcolor\":\"white\",\"linecolor\":\"white\",\"ticks\":\"\"}},\"ternary\":{\"bgcolor\":\"#E5ECF6\",\"aaxis\":{\"gridcolor\":\"white\",\"linecolor\":\"white\",\"ticks\":\"\"},\"baxis\":{\"gridcolor\":\"white\",\"linecolor\":\"white\",\"ticks\":\"\"},\"caxis\":{\"gridcolor\":\"white\",\"linecolor\":\"white\",\"ticks\":\"\"}},\"coloraxis\":{\"colorbar\":{\"outlinewidth\":0,\"ticks\":\"\"}},\"colorscale\":{\"sequential\":[[0.0,\"#0d0887\"],[0.1111111111111111,\"#46039f\"],[0.2222222222222222,\"#7201a8\"],[0.3333333333333333,\"#9c179e\"],[0.4444444444444444,\"#bd3786\"],[0.5555555555555556,\"#d8576b\"],[0.6666666666666666,\"#ed7953\"],[0.7777777777777778,\"#fb9f3a\"],[0.8888888888888888,\"#fdca26\"],[1.0,\"#f0f921\"]],\"sequentialminus\":[[0.0,\"#0d0887\"],[0.1111111111111111,\"#46039f\"],[0.2222222222222222,\"#7201a8\"],[0.3333333333333333,\"#9c179e\"],[0.4444444444444444,\"#bd3786\"],[0.5555555555555556,\"#d8576b\"],[0.6666666666666666,\"#ed7953\"],[0.7777777777777778,\"#fb9f3a\"],[0.8888888888888888,\"#fdca26\"],[1.0,\"#f0f921\"]],\"diverging\":[[0,\"#8e0152\"],[0.1,\"#c51b7d\"],[0.2,\"#de77ae\"],[0.3,\"#f1b6da\"],[0.4,\"#fde0ef\"],[0.5,\"#f7f7f7\"],[0.6,\"#e6f5d0\"],[0.7,\"#b8e186\"],[0.8,\"#7fbc41\"],[0.9,\"#4d9221\"],[1,\"#276419\"]]},\"xaxis\":{\"gridcolor\":\"white\",\"linecolor\":\"white\",\"ticks\":\"\",\"title\":{\"standoff\":15},\"zerolinecolor\":\"white\",\"automargin\":true,\"zerolinewidth\":2},\"yaxis\":{\"gridcolor\":\"white\",\"linecolor\":\"white\",\"ticks\":\"\",\"title\":{\"standoff\":15},\"zerolinecolor\":\"white\",\"automargin\":true,\"zerolinewidth\":2},\"scene\":{\"xaxis\":{\"backgroundcolor\":\"#E5ECF6\",\"gridcolor\":\"white\",\"linecolor\":\"white\",\"showbackground\":true,\"ticks\":\"\",\"zerolinecolor\":\"white\",\"gridwidth\":2},\"yaxis\":{\"backgroundcolor\":\"#E5ECF6\",\"gridcolor\":\"white\",\"linecolor\":\"white\",\"showbackground\":true,\"ticks\":\"\",\"zerolinecolor\":\"white\",\"gridwidth\":2},\"zaxis\":{\"backgroundcolor\":\"#E5ECF6\",\"gridcolor\":\"white\",\"linecolor\":\"white\",\"showbackground\":true,\"ticks\":\"\",\"zerolinecolor\":\"white\",\"gridwidth\":2}},\"shapedefaults\":{\"line\":{\"color\":\"#2a3f5f\"}},\"annotationdefaults\":{\"arrowcolor\":\"#2a3f5f\",\"arrowhead\":0,\"arrowwidth\":1},\"geo\":{\"bgcolor\":\"white\",\"landcolor\":\"#E5ECF6\",\"subunitcolor\":\"white\",\"showland\":true,\"showlakes\":true,\"lakecolor\":\"white\"},\"title\":{\"x\":0.05},\"mapbox\":{\"style\":\"light\"}}},\"xaxis\":{\"anchor\":\"y\",\"domain\":[0.0,1.0],\"title\":{\"text\":\"Length\"}},\"yaxis\":{\"anchor\":\"x\",\"domain\":[0.0,0.8316],\"title\":{\"text\":\"count\"}},\"xaxis2\":{\"anchor\":\"y2\",\"domain\":[0.0,1.0],\"matches\":\"x\",\"showticklabels\":false,\"showgrid\":true},\"yaxis2\":{\"anchor\":\"x2\",\"domain\":[0.8416,1.0],\"matches\":\"y2\",\"showticklabels\":false,\"showline\":false,\"ticks\":\"\",\"showgrid\":false},\"legend\":{\"tracegroupgap\":0},\"title\":{\"text\":\"Length of tweets text for class 2\"},\"barmode\":\"relative\",\"bargap\":0.1},                        {\"responsive\": true}                    ).then(function(){\n",
              "                            \n",
              "var gd = document.getElementById('41b436e3-1478-42ac-b46e-5d99825caad9');\n",
              "var x = new MutationObserver(function (mutations, observer) {{\n",
              "        var display = window.getComputedStyle(gd).display;\n",
              "        if (!display || display === 'none') {{\n",
              "            console.log([gd, 'removed!']);\n",
              "            Plotly.purge(gd);\n",
              "            observer.disconnect();\n",
              "        }}\n",
              "}});\n",
              "\n",
              "// Listen for the removal of the full notebook cells\n",
              "var notebookContainer = gd.closest('#notebook-container');\n",
              "if (notebookContainer) {{\n",
              "    x.observe(notebookContainer, {childList: true});\n",
              "}}\n",
              "\n",
              "// Listen for the clearing of the current output cell\n",
              "var outputEl = gd.closest('.output');\n",
              "if (outputEl) {{\n",
              "    x.observe(outputEl, {childList: true});\n",
              "}}\n",
              "\n",
              "                        })                };                            </script>        </div>\n",
              "</body>\n",
              "</html>"
            ]
          },
          "metadata": {}
        },
        {
          "output_type": "display_data",
          "data": {
            "text/html": [
              "<html>\n",
              "<head><meta charset=\"utf-8\" /></head>\n",
              "<body>\n",
              "    <div>            <script src=\"https://cdnjs.cloudflare.com/ajax/libs/mathjax/2.7.5/MathJax.js?config=TeX-AMS-MML_SVG\"></script><script type=\"text/javascript\">if (window.MathJax && window.MathJax.Hub && window.MathJax.Hub.Config) {window.MathJax.Hub.Config({SVG: {font: \"STIX-Web\"}});}</script>                <script type=\"text/javascript\">window.PlotlyConfig = {MathJaxConfig: 'local'};</script>\n",
              "        <script charset=\"utf-8\" src=\"https://cdn.plot.ly/plotly-2.35.2.min.js\"></script>                <div id=\"d6f02ed8-7b20-472c-a55f-238bae23a4a7\" class=\"plotly-graph-div\" style=\"height:525px; width:100%;\"></div>            <script type=\"text/javascript\">                                    window.PLOTLYENV=window.PLOTLYENV || {};                                    if (document.getElementById(\"d6f02ed8-7b20-472c-a55f-238bae23a4a7\")) {                    Plotly.newPlot(                        \"d6f02ed8-7b20-472c-a55f-238bae23a4a7\",                        [{\"alignmentgroup\":\"True\",\"bingroup\":\"x\",\"hovertemplate\":\"Length=%{x}\\u003cbr\\u003ecount=%{y}\\u003cextra\\u003e\\u003c\\u002fextra\\u003e\",\"legendgroup\":\"\",\"marker\":{\"color\":\"rgb(55,126,184)\",\"pattern\":{\"shape\":\"\"}},\"name\":\"\",\"offsetgroup\":\"\",\"orientation\":\"v\",\"showlegend\":false,\"x\":[14,13,26,10,6,19,26,8,9,23,23,20,22,21,6,28,13,19,8,16,12,24,14,24,6,21,24,16,11,19,6,15,18,8,21,22,8,25,18,16,19,27,10,22,10,12,11,11,18,22,24,23,29,24,14,15,19,24,12,20,11,22,7,7,26,20,22,3,7,29,18,12,18,14,23,31,13,3,26,21,9,11,16,12,14,23,6,10,14,23,18,26,4,2,9,18,25,14,23,12,26,27,14,8,11,14,12,14,8,15,23,4,17,5,12,16,22,25,22,23,22,16,17,20,23,11,10,20,6,23,19,21,22,17,10,6,12,19,28,21,14,15,25,18,19,11,16,15,18,23,21,26,18,12,24,21,21,23,23,6,23,27,18,19,18,8,15,9,16,23,15,16,24,8,9,22,12,18,6,4,21,11,18,21,10,13,11,19,6,27,19,25,14,18,25,18,29,24,26,19,15,18,23,8,29,24,18,27,22,23,23,18,30,8,22,16,11,8,18,16,17,3,20,19,32,28,22,11,16,16,12,21,2,14,10,23,11,16,3,24,16,20,8,6,24,20,7,22,8,19,11,26,24,15,9,7,18,6,13,7,21,22,18,12,16,12,21,9,24,9,26,9,16,15,15,8,11,18,8,21,9,8,20,20,13,14,25,26,17,30,7,21,17,15,24,13,19,20,20,10,21,22,20,23,14,20,7,24,6,19,13,23,22,14,17,28,14,3,15,10,23,24,16,19,19,28,10,18,23,24,23,18,17,20,24,25,4,21,3,29,19,15,24,19,17,18,17,19,19,20,18,19,21,19,24,23,3,17,24,15,16,25,17,18,20,17,22,24,11,25,14,18,20,14,26,29,15,8,10,18,6,23,9,9,12,28,17,19,27,26,21,28,19,20,6,7,23,12,19,12,12,13,18,20,12,22,20,13,21,21,21,16,11,25,12,11,17,24,17,20,5,21,29,19,21,5,27,20,20,5,14,23,22,8,6,17,13,21,22,23,8,24,13,11,24,22,13,9,24,10,9,12,23,18,8,17,3,21,16,24,1,23,25,26,20,23,25,20,9,20,17,24,16,12,8,23,11,23,20,17,22,14,6,15,15,7,14,18,9,19,15,3,7,23,25,19,4,10,9,21,14,21,22,6,13,26,8,22,19,21,8,26,24,18,13,25,20,17,18,9,8,25,26,24,5,19,24,24,12,17,20,21,13,15,26,20,26,23,19,26,26,25,19,5,18,16,23,23,7,17,15,25,13,16,19,24,14,13,25,26,20,19,9,10,18,26,12,6,27,13,8,11,24,10,12,5,23,14,6,23,7,20,5,23,16,11,9,17,17,26,25,13,17,18,14,13,13,18,19,16,19,2,23,15,15,21,17,24,21,20,23,21,13,12,25,11,18,16,23,18,23,25,19,19,19,14,17,7,20,8,7,21,17,11,13,3,15,21,8,22,15,18,12,20,12,21,9,9,17,19,18,13,23,9,4,11,14,12,16,28,17,20,10,20,12,14,16,10,12,11,12,14,14,21,17,11,9,16,23,19,8,11,8,24,20,22,22,21,20,19,10,12,20,20,16,19,21,8,4,23,10,8,10,28,24,19,22,15,13,9,18,26,15,20,16,11,25,25,26,8,8,27,15,11,22,25,9,16,17,15,18,24,7,22,19,22,9,17,14,5,11,13,16,9,9,24,9,21,24,25,15,16,8,17,20,20,5,12,11,20,12,8,11,6,27,21,15,29,11,22,23,3,18,13,19,20,25,16,18,14,17,17,18,15,24,8,18,17,22,16,17,23,23,18,13,6,3,22,17,24,7,26,19,5,21,12,25,10,10,27,23,23,17,26,12,23,25,19,5,17,19,10,18,24,8,27,19,21,20,22,30,22,21,22,28,21,14,14,12,7,3,25,23,12,26,12,19,20,15,19,16,23,13,29,27,15,17,19,15,9,16,18,22,24,21,13,11,8,19,18,14,15,8,17,18,4,12,20,20,22,22,17,28,15,3,21,20,20,8,14,16,8,14,22,17,23,22,15,17,16,6,18,23,23,21,5,10,21,10,12,20,4,22,23,21,12,21,11,18,22,19,3,13,19,13,22,26,4,8,10,22,8,23,4,25,18,18,24,12,21,21,8,12,2,15,17,17,25,18,16,19,12,7,24,11,20,17,20,25,8,15,5,23,14,23,16,12,7,11,12,15,22,16,20,17,22,19,2,26,9,11,20,21,18,23,21,13,13,16,22,18,5,25,15,10,22,11,12,22,22,21,7,14,19,26,20,11,21,13,22,19,18,27,23,29,12,21,23,24,25,8,23,7,14,3,27,7,13,21,21,26,11,13,15,17,16,28,21,8,28,19,26,20,4,6,18,14,26,16,27,24,19,10,23,18,31,15,11,7,19,9,26,12,5,29,24,16,18,2,7,22,13,16,22,24,22,10,19,16,4,9,9,13,20,15,10,13,8,22,10,21,17,19,21,10,25,4,23,25,3,25,8,27,21,17,17,1,25,11,4,21,21,16,26,19,25,5,16,21,22,17,8,17,6,22,12,27,18,30,25,21,16,22,16,3,21,6,24,20,9,14,14,21,7,20,24,22,24,27,8,20,20,22,24,23,26,13,16,16,11,23,21,24,11,13,8,18,23,12,18,5,11,10,8,9,15,12,8,3,13,24,20,11,10,19,26,15,17,12,16,21,21,23,8,12,4,24,14,19,11,21,14,18,20,22,16,28,20,27,26,16,27,16,15,29,4,23,24,19,9,16,23,22,24,21,17,10,10,26,22,16,22,22,25,17,23,15,23,6,7,4,25,6,10,19,20,18,20,11,11,25,20,14,11,13,25,10,25,23,19,24,21,12,7,27,2,9,27,19,26,18,23,23,15,25,10,26,14,4,14,26,20,23,20,20,15,19,17,18,16,20,21,18,10,15,22,4,26,15,14,14,4,20,20,21,19,23,25,21,8,21,5,7,22,23,25,20,14,20,15,10,10,5,26,26,6,10,16,21,5,22,25,28,19,17,14,18,27,21,26,22,2,23,6,21,19,16,19,24,17,16,24,15,24,17,25,20,21,11,24,16,21,11,9,6,7,21,18,22,6,28,19,20,9,24,10,4,20,26,22,23,11,14,8,16,19,11,21,22,9,2,10,22,8,20,16,7,18,14,23],\"xaxis\":\"x\",\"yaxis\":\"y\",\"type\":\"histogram\"},{\"alignmentgroup\":\"True\",\"hovertemplate\":\"Length=%{x}\\u003cextra\\u003e\\u003c\\u002fextra\\u003e\",\"legendgroup\":\"\",\"marker\":{\"color\":\"rgb(55,126,184)\"},\"name\":\"\",\"notched\":true,\"offsetgroup\":\"\",\"showlegend\":false,\"x\":[14,13,26,10,6,19,26,8,9,23,23,20,22,21,6,28,13,19,8,16,12,24,14,24,6,21,24,16,11,19,6,15,18,8,21,22,8,25,18,16,19,27,10,22,10,12,11,11,18,22,24,23,29,24,14,15,19,24,12,20,11,22,7,7,26,20,22,3,7,29,18,12,18,14,23,31,13,3,26,21,9,11,16,12,14,23,6,10,14,23,18,26,4,2,9,18,25,14,23,12,26,27,14,8,11,14,12,14,8,15,23,4,17,5,12,16,22,25,22,23,22,16,17,20,23,11,10,20,6,23,19,21,22,17,10,6,12,19,28,21,14,15,25,18,19,11,16,15,18,23,21,26,18,12,24,21,21,23,23,6,23,27,18,19,18,8,15,9,16,23,15,16,24,8,9,22,12,18,6,4,21,11,18,21,10,13,11,19,6,27,19,25,14,18,25,18,29,24,26,19,15,18,23,8,29,24,18,27,22,23,23,18,30,8,22,16,11,8,18,16,17,3,20,19,32,28,22,11,16,16,12,21,2,14,10,23,11,16,3,24,16,20,8,6,24,20,7,22,8,19,11,26,24,15,9,7,18,6,13,7,21,22,18,12,16,12,21,9,24,9,26,9,16,15,15,8,11,18,8,21,9,8,20,20,13,14,25,26,17,30,7,21,17,15,24,13,19,20,20,10,21,22,20,23,14,20,7,24,6,19,13,23,22,14,17,28,14,3,15,10,23,24,16,19,19,28,10,18,23,24,23,18,17,20,24,25,4,21,3,29,19,15,24,19,17,18,17,19,19,20,18,19,21,19,24,23,3,17,24,15,16,25,17,18,20,17,22,24,11,25,14,18,20,14,26,29,15,8,10,18,6,23,9,9,12,28,17,19,27,26,21,28,19,20,6,7,23,12,19,12,12,13,18,20,12,22,20,13,21,21,21,16,11,25,12,11,17,24,17,20,5,21,29,19,21,5,27,20,20,5,14,23,22,8,6,17,13,21,22,23,8,24,13,11,24,22,13,9,24,10,9,12,23,18,8,17,3,21,16,24,1,23,25,26,20,23,25,20,9,20,17,24,16,12,8,23,11,23,20,17,22,14,6,15,15,7,14,18,9,19,15,3,7,23,25,19,4,10,9,21,14,21,22,6,13,26,8,22,19,21,8,26,24,18,13,25,20,17,18,9,8,25,26,24,5,19,24,24,12,17,20,21,13,15,26,20,26,23,19,26,26,25,19,5,18,16,23,23,7,17,15,25,13,16,19,24,14,13,25,26,20,19,9,10,18,26,12,6,27,13,8,11,24,10,12,5,23,14,6,23,7,20,5,23,16,11,9,17,17,26,25,13,17,18,14,13,13,18,19,16,19,2,23,15,15,21,17,24,21,20,23,21,13,12,25,11,18,16,23,18,23,25,19,19,19,14,17,7,20,8,7,21,17,11,13,3,15,21,8,22,15,18,12,20,12,21,9,9,17,19,18,13,23,9,4,11,14,12,16,28,17,20,10,20,12,14,16,10,12,11,12,14,14,21,17,11,9,16,23,19,8,11,8,24,20,22,22,21,20,19,10,12,20,20,16,19,21,8,4,23,10,8,10,28,24,19,22,15,13,9,18,26,15,20,16,11,25,25,26,8,8,27,15,11,22,25,9,16,17,15,18,24,7,22,19,22,9,17,14,5,11,13,16,9,9,24,9,21,24,25,15,16,8,17,20,20,5,12,11,20,12,8,11,6,27,21,15,29,11,22,23,3,18,13,19,20,25,16,18,14,17,17,18,15,24,8,18,17,22,16,17,23,23,18,13,6,3,22,17,24,7,26,19,5,21,12,25,10,10,27,23,23,17,26,12,23,25,19,5,17,19,10,18,24,8,27,19,21,20,22,30,22,21,22,28,21,14,14,12,7,3,25,23,12,26,12,19,20,15,19,16,23,13,29,27,15,17,19,15,9,16,18,22,24,21,13,11,8,19,18,14,15,8,17,18,4,12,20,20,22,22,17,28,15,3,21,20,20,8,14,16,8,14,22,17,23,22,15,17,16,6,18,23,23,21,5,10,21,10,12,20,4,22,23,21,12,21,11,18,22,19,3,13,19,13,22,26,4,8,10,22,8,23,4,25,18,18,24,12,21,21,8,12,2,15,17,17,25,18,16,19,12,7,24,11,20,17,20,25,8,15,5,23,14,23,16,12,7,11,12,15,22,16,20,17,22,19,2,26,9,11,20,21,18,23,21,13,13,16,22,18,5,25,15,10,22,11,12,22,22,21,7,14,19,26,20,11,21,13,22,19,18,27,23,29,12,21,23,24,25,8,23,7,14,3,27,7,13,21,21,26,11,13,15,17,16,28,21,8,28,19,26,20,4,6,18,14,26,16,27,24,19,10,23,18,31,15,11,7,19,9,26,12,5,29,24,16,18,2,7,22,13,16,22,24,22,10,19,16,4,9,9,13,20,15,10,13,8,22,10,21,17,19,21,10,25,4,23,25,3,25,8,27,21,17,17,1,25,11,4,21,21,16,26,19,25,5,16,21,22,17,8,17,6,22,12,27,18,30,25,21,16,22,16,3,21,6,24,20,9,14,14,21,7,20,24,22,24,27,8,20,20,22,24,23,26,13,16,16,11,23,21,24,11,13,8,18,23,12,18,5,11,10,8,9,15,12,8,3,13,24,20,11,10,19,26,15,17,12,16,21,21,23,8,12,4,24,14,19,11,21,14,18,20,22,16,28,20,27,26,16,27,16,15,29,4,23,24,19,9,16,23,22,24,21,17,10,10,26,22,16,22,22,25,17,23,15,23,6,7,4,25,6,10,19,20,18,20,11,11,25,20,14,11,13,25,10,25,23,19,24,21,12,7,27,2,9,27,19,26,18,23,23,15,25,10,26,14,4,14,26,20,23,20,20,15,19,17,18,16,20,21,18,10,15,22,4,26,15,14,14,4,20,20,21,19,23,25,21,8,21,5,7,22,23,25,20,14,20,15,10,10,5,26,26,6,10,16,21,5,22,25,28,19,17,14,18,27,21,26,22,2,23,6,21,19,16,19,24,17,16,24,15,24,17,25,20,21,11,24,16,21,11,9,6,7,21,18,22,6,28,19,20,9,24,10,4,20,26,22,23,11,14,8,16,19,11,21,22,9,2,10,22,8,20,16,7,18,14,23],\"xaxis\":\"x2\",\"yaxis\":\"y2\",\"type\":\"box\"}],                        {\"template\":{\"data\":{\"histogram2dcontour\":[{\"type\":\"histogram2dcontour\",\"colorbar\":{\"outlinewidth\":0,\"ticks\":\"\"},\"colorscale\":[[0.0,\"#0d0887\"],[0.1111111111111111,\"#46039f\"],[0.2222222222222222,\"#7201a8\"],[0.3333333333333333,\"#9c179e\"],[0.4444444444444444,\"#bd3786\"],[0.5555555555555556,\"#d8576b\"],[0.6666666666666666,\"#ed7953\"],[0.7777777777777778,\"#fb9f3a\"],[0.8888888888888888,\"#fdca26\"],[1.0,\"#f0f921\"]]}],\"choropleth\":[{\"type\":\"choropleth\",\"colorbar\":{\"outlinewidth\":0,\"ticks\":\"\"}}],\"histogram2d\":[{\"type\":\"histogram2d\",\"colorbar\":{\"outlinewidth\":0,\"ticks\":\"\"},\"colorscale\":[[0.0,\"#0d0887\"],[0.1111111111111111,\"#46039f\"],[0.2222222222222222,\"#7201a8\"],[0.3333333333333333,\"#9c179e\"],[0.4444444444444444,\"#bd3786\"],[0.5555555555555556,\"#d8576b\"],[0.6666666666666666,\"#ed7953\"],[0.7777777777777778,\"#fb9f3a\"],[0.8888888888888888,\"#fdca26\"],[1.0,\"#f0f921\"]]}],\"heatmap\":[{\"type\":\"heatmap\",\"colorbar\":{\"outlinewidth\":0,\"ticks\":\"\"},\"colorscale\":[[0.0,\"#0d0887\"],[0.1111111111111111,\"#46039f\"],[0.2222222222222222,\"#7201a8\"],[0.3333333333333333,\"#9c179e\"],[0.4444444444444444,\"#bd3786\"],[0.5555555555555556,\"#d8576b\"],[0.6666666666666666,\"#ed7953\"],[0.7777777777777778,\"#fb9f3a\"],[0.8888888888888888,\"#fdca26\"],[1.0,\"#f0f921\"]]}],\"heatmapgl\":[{\"type\":\"heatmapgl\",\"colorbar\":{\"outlinewidth\":0,\"ticks\":\"\"},\"colorscale\":[[0.0,\"#0d0887\"],[0.1111111111111111,\"#46039f\"],[0.2222222222222222,\"#7201a8\"],[0.3333333333333333,\"#9c179e\"],[0.4444444444444444,\"#bd3786\"],[0.5555555555555556,\"#d8576b\"],[0.6666666666666666,\"#ed7953\"],[0.7777777777777778,\"#fb9f3a\"],[0.8888888888888888,\"#fdca26\"],[1.0,\"#f0f921\"]]}],\"contourcarpet\":[{\"type\":\"contourcarpet\",\"colorbar\":{\"outlinewidth\":0,\"ticks\":\"\"}}],\"contour\":[{\"type\":\"contour\",\"colorbar\":{\"outlinewidth\":0,\"ticks\":\"\"},\"colorscale\":[[0.0,\"#0d0887\"],[0.1111111111111111,\"#46039f\"],[0.2222222222222222,\"#7201a8\"],[0.3333333333333333,\"#9c179e\"],[0.4444444444444444,\"#bd3786\"],[0.5555555555555556,\"#d8576b\"],[0.6666666666666666,\"#ed7953\"],[0.7777777777777778,\"#fb9f3a\"],[0.8888888888888888,\"#fdca26\"],[1.0,\"#f0f921\"]]}],\"surface\":[{\"type\":\"surface\",\"colorbar\":{\"outlinewidth\":0,\"ticks\":\"\"},\"colorscale\":[[0.0,\"#0d0887\"],[0.1111111111111111,\"#46039f\"],[0.2222222222222222,\"#7201a8\"],[0.3333333333333333,\"#9c179e\"],[0.4444444444444444,\"#bd3786\"],[0.5555555555555556,\"#d8576b\"],[0.6666666666666666,\"#ed7953\"],[0.7777777777777778,\"#fb9f3a\"],[0.8888888888888888,\"#fdca26\"],[1.0,\"#f0f921\"]]}],\"mesh3d\":[{\"type\":\"mesh3d\",\"colorbar\":{\"outlinewidth\":0,\"ticks\":\"\"}}],\"scatter\":[{\"fillpattern\":{\"fillmode\":\"overlay\",\"size\":10,\"solidity\":0.2},\"type\":\"scatter\"}],\"parcoords\":[{\"type\":\"parcoords\",\"line\":{\"colorbar\":{\"outlinewidth\":0,\"ticks\":\"\"}}}],\"scatterpolargl\":[{\"type\":\"scatterpolargl\",\"marker\":{\"colorbar\":{\"outlinewidth\":0,\"ticks\":\"\"}}}],\"bar\":[{\"error_x\":{\"color\":\"#2a3f5f\"},\"error_y\":{\"color\":\"#2a3f5f\"},\"marker\":{\"line\":{\"color\":\"#E5ECF6\",\"width\":0.5},\"pattern\":{\"fillmode\":\"overlay\",\"size\":10,\"solidity\":0.2}},\"type\":\"bar\"}],\"scattergeo\":[{\"type\":\"scattergeo\",\"marker\":{\"colorbar\":{\"outlinewidth\":0,\"ticks\":\"\"}}}],\"scatterpolar\":[{\"type\":\"scatterpolar\",\"marker\":{\"colorbar\":{\"outlinewidth\":0,\"ticks\":\"\"}}}],\"histogram\":[{\"marker\":{\"pattern\":{\"fillmode\":\"overlay\",\"size\":10,\"solidity\":0.2}},\"type\":\"histogram\"}],\"scattergl\":[{\"type\":\"scattergl\",\"marker\":{\"colorbar\":{\"outlinewidth\":0,\"ticks\":\"\"}}}],\"scatter3d\":[{\"type\":\"scatter3d\",\"line\":{\"colorbar\":{\"outlinewidth\":0,\"ticks\":\"\"}},\"marker\":{\"colorbar\":{\"outlinewidth\":0,\"ticks\":\"\"}}}],\"scattermapbox\":[{\"type\":\"scattermapbox\",\"marker\":{\"colorbar\":{\"outlinewidth\":0,\"ticks\":\"\"}}}],\"scatterternary\":[{\"type\":\"scatterternary\",\"marker\":{\"colorbar\":{\"outlinewidth\":0,\"ticks\":\"\"}}}],\"scattercarpet\":[{\"type\":\"scattercarpet\",\"marker\":{\"colorbar\":{\"outlinewidth\":0,\"ticks\":\"\"}}}],\"carpet\":[{\"aaxis\":{\"endlinecolor\":\"#2a3f5f\",\"gridcolor\":\"white\",\"linecolor\":\"white\",\"minorgridcolor\":\"white\",\"startlinecolor\":\"#2a3f5f\"},\"baxis\":{\"endlinecolor\":\"#2a3f5f\",\"gridcolor\":\"white\",\"linecolor\":\"white\",\"minorgridcolor\":\"white\",\"startlinecolor\":\"#2a3f5f\"},\"type\":\"carpet\"}],\"table\":[{\"cells\":{\"fill\":{\"color\":\"#EBF0F8\"},\"line\":{\"color\":\"white\"}},\"header\":{\"fill\":{\"color\":\"#C8D4E3\"},\"line\":{\"color\":\"white\"}},\"type\":\"table\"}],\"barpolar\":[{\"marker\":{\"line\":{\"color\":\"#E5ECF6\",\"width\":0.5},\"pattern\":{\"fillmode\":\"overlay\",\"size\":10,\"solidity\":0.2}},\"type\":\"barpolar\"}],\"pie\":[{\"automargin\":true,\"type\":\"pie\"}]},\"layout\":{\"autotypenumbers\":\"strict\",\"colorway\":[\"#636efa\",\"#EF553B\",\"#00cc96\",\"#ab63fa\",\"#FFA15A\",\"#19d3f3\",\"#FF6692\",\"#B6E880\",\"#FF97FF\",\"#FECB52\"],\"font\":{\"color\":\"#2a3f5f\"},\"hovermode\":\"closest\",\"hoverlabel\":{\"align\":\"left\"},\"paper_bgcolor\":\"white\",\"plot_bgcolor\":\"#E5ECF6\",\"polar\":{\"bgcolor\":\"#E5ECF6\",\"angularaxis\":{\"gridcolor\":\"white\",\"linecolor\":\"white\",\"ticks\":\"\"},\"radialaxis\":{\"gridcolor\":\"white\",\"linecolor\":\"white\",\"ticks\":\"\"}},\"ternary\":{\"bgcolor\":\"#E5ECF6\",\"aaxis\":{\"gridcolor\":\"white\",\"linecolor\":\"white\",\"ticks\":\"\"},\"baxis\":{\"gridcolor\":\"white\",\"linecolor\":\"white\",\"ticks\":\"\"},\"caxis\":{\"gridcolor\":\"white\",\"linecolor\":\"white\",\"ticks\":\"\"}},\"coloraxis\":{\"colorbar\":{\"outlinewidth\":0,\"ticks\":\"\"}},\"colorscale\":{\"sequential\":[[0.0,\"#0d0887\"],[0.1111111111111111,\"#46039f\"],[0.2222222222222222,\"#7201a8\"],[0.3333333333333333,\"#9c179e\"],[0.4444444444444444,\"#bd3786\"],[0.5555555555555556,\"#d8576b\"],[0.6666666666666666,\"#ed7953\"],[0.7777777777777778,\"#fb9f3a\"],[0.8888888888888888,\"#fdca26\"],[1.0,\"#f0f921\"]],\"sequentialminus\":[[0.0,\"#0d0887\"],[0.1111111111111111,\"#46039f\"],[0.2222222222222222,\"#7201a8\"],[0.3333333333333333,\"#9c179e\"],[0.4444444444444444,\"#bd3786\"],[0.5555555555555556,\"#d8576b\"],[0.6666666666666666,\"#ed7953\"],[0.7777777777777778,\"#fb9f3a\"],[0.8888888888888888,\"#fdca26\"],[1.0,\"#f0f921\"]],\"diverging\":[[0,\"#8e0152\"],[0.1,\"#c51b7d\"],[0.2,\"#de77ae\"],[0.3,\"#f1b6da\"],[0.4,\"#fde0ef\"],[0.5,\"#f7f7f7\"],[0.6,\"#e6f5d0\"],[0.7,\"#b8e186\"],[0.8,\"#7fbc41\"],[0.9,\"#4d9221\"],[1,\"#276419\"]]},\"xaxis\":{\"gridcolor\":\"white\",\"linecolor\":\"white\",\"ticks\":\"\",\"title\":{\"standoff\":15},\"zerolinecolor\":\"white\",\"automargin\":true,\"zerolinewidth\":2},\"yaxis\":{\"gridcolor\":\"white\",\"linecolor\":\"white\",\"ticks\":\"\",\"title\":{\"standoff\":15},\"zerolinecolor\":\"white\",\"automargin\":true,\"zerolinewidth\":2},\"scene\":{\"xaxis\":{\"backgroundcolor\":\"#E5ECF6\",\"gridcolor\":\"white\",\"linecolor\":\"white\",\"showbackground\":true,\"ticks\":\"\",\"zerolinecolor\":\"white\",\"gridwidth\":2},\"yaxis\":{\"backgroundcolor\":\"#E5ECF6\",\"gridcolor\":\"white\",\"linecolor\":\"white\",\"showbackground\":true,\"ticks\":\"\",\"zerolinecolor\":\"white\",\"gridwidth\":2},\"zaxis\":{\"backgroundcolor\":\"#E5ECF6\",\"gridcolor\":\"white\",\"linecolor\":\"white\",\"showbackground\":true,\"ticks\":\"\",\"zerolinecolor\":\"white\",\"gridwidth\":2}},\"shapedefaults\":{\"line\":{\"color\":\"#2a3f5f\"}},\"annotationdefaults\":{\"arrowcolor\":\"#2a3f5f\",\"arrowhead\":0,\"arrowwidth\":1},\"geo\":{\"bgcolor\":\"white\",\"landcolor\":\"#E5ECF6\",\"subunitcolor\":\"white\",\"showland\":true,\"showlakes\":true,\"lakecolor\":\"white\"},\"title\":{\"x\":0.05},\"mapbox\":{\"style\":\"light\"}}},\"xaxis\":{\"anchor\":\"y\",\"domain\":[0.0,1.0],\"title\":{\"text\":\"Length\"}},\"yaxis\":{\"anchor\":\"x\",\"domain\":[0.0,0.8316],\"title\":{\"text\":\"count\"}},\"xaxis2\":{\"anchor\":\"y2\",\"domain\":[0.0,1.0],\"matches\":\"x\",\"showticklabels\":false,\"showgrid\":true},\"yaxis2\":{\"anchor\":\"x2\",\"domain\":[0.8416,1.0],\"matches\":\"y2\",\"showticklabels\":false,\"showline\":false,\"ticks\":\"\",\"showgrid\":false},\"legend\":{\"tracegroupgap\":0},\"title\":{\"text\":\"Length of tweets text for class 0\"},\"barmode\":\"relative\",\"bargap\":0.1},                        {\"responsive\": true}                    ).then(function(){\n",
              "                            \n",
              "var gd = document.getElementById('d6f02ed8-7b20-472c-a55f-238bae23a4a7');\n",
              "var x = new MutationObserver(function (mutations, observer) {{\n",
              "        var display = window.getComputedStyle(gd).display;\n",
              "        if (!display || display === 'none') {{\n",
              "            console.log([gd, 'removed!']);\n",
              "            Plotly.purge(gd);\n",
              "            observer.disconnect();\n",
              "        }}\n",
              "}});\n",
              "\n",
              "// Listen for the removal of the full notebook cells\n",
              "var notebookContainer = gd.closest('#notebook-container');\n",
              "if (notebookContainer) {{\n",
              "    x.observe(notebookContainer, {childList: true});\n",
              "}}\n",
              "\n",
              "// Listen for the clearing of the current output cell\n",
              "var outputEl = gd.closest('.output');\n",
              "if (outputEl) {{\n",
              "    x.observe(outputEl, {childList: true});\n",
              "}}\n",
              "\n",
              "                        })                };                            </script>        </div>\n",
              "</body>\n",
              "</html>"
            ]
          },
          "metadata": {}
        },
        {
          "output_type": "display_data",
          "data": {
            "text/html": [
              "<html>\n",
              "<head><meta charset=\"utf-8\" /></head>\n",
              "<body>\n",
              "    <div>            <script src=\"https://cdnjs.cloudflare.com/ajax/libs/mathjax/2.7.5/MathJax.js?config=TeX-AMS-MML_SVG\"></script><script type=\"text/javascript\">if (window.MathJax && window.MathJax.Hub && window.MathJax.Hub.Config) {window.MathJax.Hub.Config({SVG: {font: \"STIX-Web\"}});}</script>                <script type=\"text/javascript\">window.PlotlyConfig = {MathJaxConfig: 'local'};</script>\n",
              "        <script charset=\"utf-8\" src=\"https://cdn.plot.ly/plotly-2.35.2.min.js\"></script>                <div id=\"0a24701c-230d-4e05-909a-9b6b18357764\" class=\"plotly-graph-div\" style=\"height:525px; width:100%;\"></div>            <script type=\"text/javascript\">                                    window.PLOTLYENV=window.PLOTLYENV || {};                                    if (document.getElementById(\"0a24701c-230d-4e05-909a-9b6b18357764\")) {                    Plotly.newPlot(                        \"0a24701c-230d-4e05-909a-9b6b18357764\",                        [{\"alignmentgroup\":\"True\",\"bingroup\":\"x\",\"hovertemplate\":\"Length=%{x}\\u003cbr\\u003ecount=%{y}\\u003cextra\\u003e\\u003c\\u002fextra\\u003e\",\"legendgroup\":\"\",\"marker\":{\"color\":\"rgb(77,175,74)\",\"pattern\":{\"shape\":\"\"}},\"name\":\"\",\"offsetgroup\":\"\",\"orientation\":\"v\",\"showlegend\":false,\"x\":[18,14,5,19,17,12,4,11,26,26,17,16,15,16,13,9,16,18,21,18,21,10,13,22,24,22,5,9,27,17,14,2,24,15,14,21,20,9,9,18,24,5,17,24,24,22,16,12,24,17,10,6,16,9,11,22,18,7,22,7,10,7,16,6,23,9,9,18,26,7,15,25,18,21,11,19,6,15,11,21,25,11,21,15,22,24,29,24,16,7,15,3,10,12,25,18,20,19,12,4,6,10,9,24,16,9,12,10,22,17,20,20,26,11,10,5,23,3,15,24,21,8,16,18,18,6,6,23,21,13,9,23,21,6,8,23,8,29,23,17,21,7,6,7,10,8,23,12,19,22,3,25,12,14,12,25,11,23,25,14,19,11,6,20,13,14,12,12,20,28,8,12,10,18,25,10,18,6,22,9,14,5,22,9,21,8,21,18,14,12,20,26,9,18,16,4,24,12,25,10,21,14,4,23,7,23,10,7,26,19,26,14,8,5,15,16,11,4,13,8,26,26,10,25,9,25,16,14,28,9,14,17,23,12,27,14,21,9,9,24,13,19,12,14,15,17,11,22,12,21,26,26,11,28,9,25,10,10,6,9,21,19,26,15,10,9,19,9,9,9,14,9,27,17,9,18,14,9,7,8,8,23,10,20,12,5,17,18,23,21,15,5,6,23,10,21,19,26,14,19,7,22,6,18,15,13,4,8,22,12,9,9,22,19,22,9,26,23,5,27,26,9,23,10,23,8,9,8,21,12,18,7,9,30,14,23,2,15,12,14,16,24,11,5,22,13,6,13,21,23,17,5,21,17,18,19,15,22,26,22,16,23,12,22,20,9,17,22,14,16,21,7,20,7,17,15,3,12,19,5,14,26,8,15,9,10,7,21,10,19,5,14,25,14,10,12,17,18,8,7,12,11,17,7,3,14,11,29,16,12,8,14,15,17,7,23,15,5,10,26,23,25,25,26,22,9,24,26,14,13,13,28,8,15,9,29,19,11,19,12,10,25,14,8,17,18,22,22,19,5,8,14,25,19,9,13,7,15,21,13,26,1,12,26,14,7,10,6,24,7,8,9,12,8,21,16,15,28,12,13,21,13,5,3,9,16,14,9,5,12,7,20,12,10,22,22,27,15,8,11,24,17,9,18,11,14,9,21,11,12,15,16,4,7,5,13,18,24,10,3,20,8,16,20,22,9,6,23,6,13,18,18,27,12,18,14,19,13,12,23,7,20,6,11,18,9,20,25,20,11,18,23,23,9,11,16,20,9,9,11,14,8,23,11,21,12,17,20,21,25,6,18,16,30,14,12,15,13,15,30,25,28,22,8,27,22,15,25,11,8,14,4,18,8,14,10,15,20,16,19,17,12,25,5,24,9,22,22,25,13,25,26,7,16,22,12,22,17,28,19,14,22,5,4,20,12,12,25,21,13,18,25,9,3,8,22,21,24,9,27,8,7,18,6,16,15,20,16,27,6,11,15,27,6,9,14,7,11,13,11,23,11,8,16,21,23,7,24,17,15,3,13,19,8,20,14,19,20,12,16,17,8,9,14,28,12,17,19,14,14,18,17,18,10,16,12,21,9,18,23,21,22,24,24,9,11,17,18],\"xaxis\":\"x\",\"yaxis\":\"y\",\"type\":\"histogram\"},{\"alignmentgroup\":\"True\",\"hovertemplate\":\"Length=%{x}\\u003cextra\\u003e\\u003c\\u002fextra\\u003e\",\"legendgroup\":\"\",\"marker\":{\"color\":\"rgb(77,175,74)\"},\"name\":\"\",\"notched\":true,\"offsetgroup\":\"\",\"showlegend\":false,\"x\":[18,14,5,19,17,12,4,11,26,26,17,16,15,16,13,9,16,18,21,18,21,10,13,22,24,22,5,9,27,17,14,2,24,15,14,21,20,9,9,18,24,5,17,24,24,22,16,12,24,17,10,6,16,9,11,22,18,7,22,7,10,7,16,6,23,9,9,18,26,7,15,25,18,21,11,19,6,15,11,21,25,11,21,15,22,24,29,24,16,7,15,3,10,12,25,18,20,19,12,4,6,10,9,24,16,9,12,10,22,17,20,20,26,11,10,5,23,3,15,24,21,8,16,18,18,6,6,23,21,13,9,23,21,6,8,23,8,29,23,17,21,7,6,7,10,8,23,12,19,22,3,25,12,14,12,25,11,23,25,14,19,11,6,20,13,14,12,12,20,28,8,12,10,18,25,10,18,6,22,9,14,5,22,9,21,8,21,18,14,12,20,26,9,18,16,4,24,12,25,10,21,14,4,23,7,23,10,7,26,19,26,14,8,5,15,16,11,4,13,8,26,26,10,25,9,25,16,14,28,9,14,17,23,12,27,14,21,9,9,24,13,19,12,14,15,17,11,22,12,21,26,26,11,28,9,25,10,10,6,9,21,19,26,15,10,9,19,9,9,9,14,9,27,17,9,18,14,9,7,8,8,23,10,20,12,5,17,18,23,21,15,5,6,23,10,21,19,26,14,19,7,22,6,18,15,13,4,8,22,12,9,9,22,19,22,9,26,23,5,27,26,9,23,10,23,8,9,8,21,12,18,7,9,30,14,23,2,15,12,14,16,24,11,5,22,13,6,13,21,23,17,5,21,17,18,19,15,22,26,22,16,23,12,22,20,9,17,22,14,16,21,7,20,7,17,15,3,12,19,5,14,26,8,15,9,10,7,21,10,19,5,14,25,14,10,12,17,18,8,7,12,11,17,7,3,14,11,29,16,12,8,14,15,17,7,23,15,5,10,26,23,25,25,26,22,9,24,26,14,13,13,28,8,15,9,29,19,11,19,12,10,25,14,8,17,18,22,22,19,5,8,14,25,19,9,13,7,15,21,13,26,1,12,26,14,7,10,6,24,7,8,9,12,8,21,16,15,28,12,13,21,13,5,3,9,16,14,9,5,12,7,20,12,10,22,22,27,15,8,11,24,17,9,18,11,14,9,21,11,12,15,16,4,7,5,13,18,24,10,3,20,8,16,20,22,9,6,23,6,13,18,18,27,12,18,14,19,13,12,23,7,20,6,11,18,9,20,25,20,11,18,23,23,9,11,16,20,9,9,11,14,8,23,11,21,12,17,20,21,25,6,18,16,30,14,12,15,13,15,30,25,28,22,8,27,22,15,25,11,8,14,4,18,8,14,10,15,20,16,19,17,12,25,5,24,9,22,22,25,13,25,26,7,16,22,12,22,17,28,19,14,22,5,4,20,12,12,25,21,13,18,25,9,3,8,22,21,24,9,27,8,7,18,6,16,15,20,16,27,6,11,15,27,6,9,14,7,11,13,11,23,11,8,16,21,23,7,24,17,15,3,13,19,8,20,14,19,20,12,16,17,8,9,14,28,12,17,19,14,14,18,17,18,10,16,12,21,9,18,23,21,22,24,24,9,11,17,18],\"xaxis\":\"x2\",\"yaxis\":\"y2\",\"type\":\"box\"}],                        {\"template\":{\"data\":{\"histogram2dcontour\":[{\"type\":\"histogram2dcontour\",\"colorbar\":{\"outlinewidth\":0,\"ticks\":\"\"},\"colorscale\":[[0.0,\"#0d0887\"],[0.1111111111111111,\"#46039f\"],[0.2222222222222222,\"#7201a8\"],[0.3333333333333333,\"#9c179e\"],[0.4444444444444444,\"#bd3786\"],[0.5555555555555556,\"#d8576b\"],[0.6666666666666666,\"#ed7953\"],[0.7777777777777778,\"#fb9f3a\"],[0.8888888888888888,\"#fdca26\"],[1.0,\"#f0f921\"]]}],\"choropleth\":[{\"type\":\"choropleth\",\"colorbar\":{\"outlinewidth\":0,\"ticks\":\"\"}}],\"histogram2d\":[{\"type\":\"histogram2d\",\"colorbar\":{\"outlinewidth\":0,\"ticks\":\"\"},\"colorscale\":[[0.0,\"#0d0887\"],[0.1111111111111111,\"#46039f\"],[0.2222222222222222,\"#7201a8\"],[0.3333333333333333,\"#9c179e\"],[0.4444444444444444,\"#bd3786\"],[0.5555555555555556,\"#d8576b\"],[0.6666666666666666,\"#ed7953\"],[0.7777777777777778,\"#fb9f3a\"],[0.8888888888888888,\"#fdca26\"],[1.0,\"#f0f921\"]]}],\"heatmap\":[{\"type\":\"heatmap\",\"colorbar\":{\"outlinewidth\":0,\"ticks\":\"\"},\"colorscale\":[[0.0,\"#0d0887\"],[0.1111111111111111,\"#46039f\"],[0.2222222222222222,\"#7201a8\"],[0.3333333333333333,\"#9c179e\"],[0.4444444444444444,\"#bd3786\"],[0.5555555555555556,\"#d8576b\"],[0.6666666666666666,\"#ed7953\"],[0.7777777777777778,\"#fb9f3a\"],[0.8888888888888888,\"#fdca26\"],[1.0,\"#f0f921\"]]}],\"heatmapgl\":[{\"type\":\"heatmapgl\",\"colorbar\":{\"outlinewidth\":0,\"ticks\":\"\"},\"colorscale\":[[0.0,\"#0d0887\"],[0.1111111111111111,\"#46039f\"],[0.2222222222222222,\"#7201a8\"],[0.3333333333333333,\"#9c179e\"],[0.4444444444444444,\"#bd3786\"],[0.5555555555555556,\"#d8576b\"],[0.6666666666666666,\"#ed7953\"],[0.7777777777777778,\"#fb9f3a\"],[0.8888888888888888,\"#fdca26\"],[1.0,\"#f0f921\"]]}],\"contourcarpet\":[{\"type\":\"contourcarpet\",\"colorbar\":{\"outlinewidth\":0,\"ticks\":\"\"}}],\"contour\":[{\"type\":\"contour\",\"colorbar\":{\"outlinewidth\":0,\"ticks\":\"\"},\"colorscale\":[[0.0,\"#0d0887\"],[0.1111111111111111,\"#46039f\"],[0.2222222222222222,\"#7201a8\"],[0.3333333333333333,\"#9c179e\"],[0.4444444444444444,\"#bd3786\"],[0.5555555555555556,\"#d8576b\"],[0.6666666666666666,\"#ed7953\"],[0.7777777777777778,\"#fb9f3a\"],[0.8888888888888888,\"#fdca26\"],[1.0,\"#f0f921\"]]}],\"surface\":[{\"type\":\"surface\",\"colorbar\":{\"outlinewidth\":0,\"ticks\":\"\"},\"colorscale\":[[0.0,\"#0d0887\"],[0.1111111111111111,\"#46039f\"],[0.2222222222222222,\"#7201a8\"],[0.3333333333333333,\"#9c179e\"],[0.4444444444444444,\"#bd3786\"],[0.5555555555555556,\"#d8576b\"],[0.6666666666666666,\"#ed7953\"],[0.7777777777777778,\"#fb9f3a\"],[0.8888888888888888,\"#fdca26\"],[1.0,\"#f0f921\"]]}],\"mesh3d\":[{\"type\":\"mesh3d\",\"colorbar\":{\"outlinewidth\":0,\"ticks\":\"\"}}],\"scatter\":[{\"fillpattern\":{\"fillmode\":\"overlay\",\"size\":10,\"solidity\":0.2},\"type\":\"scatter\"}],\"parcoords\":[{\"type\":\"parcoords\",\"line\":{\"colorbar\":{\"outlinewidth\":0,\"ticks\":\"\"}}}],\"scatterpolargl\":[{\"type\":\"scatterpolargl\",\"marker\":{\"colorbar\":{\"outlinewidth\":0,\"ticks\":\"\"}}}],\"bar\":[{\"error_x\":{\"color\":\"#2a3f5f\"},\"error_y\":{\"color\":\"#2a3f5f\"},\"marker\":{\"line\":{\"color\":\"#E5ECF6\",\"width\":0.5},\"pattern\":{\"fillmode\":\"overlay\",\"size\":10,\"solidity\":0.2}},\"type\":\"bar\"}],\"scattergeo\":[{\"type\":\"scattergeo\",\"marker\":{\"colorbar\":{\"outlinewidth\":0,\"ticks\":\"\"}}}],\"scatterpolar\":[{\"type\":\"scatterpolar\",\"marker\":{\"colorbar\":{\"outlinewidth\":0,\"ticks\":\"\"}}}],\"histogram\":[{\"marker\":{\"pattern\":{\"fillmode\":\"overlay\",\"size\":10,\"solidity\":0.2}},\"type\":\"histogram\"}],\"scattergl\":[{\"type\":\"scattergl\",\"marker\":{\"colorbar\":{\"outlinewidth\":0,\"ticks\":\"\"}}}],\"scatter3d\":[{\"type\":\"scatter3d\",\"line\":{\"colorbar\":{\"outlinewidth\":0,\"ticks\":\"\"}},\"marker\":{\"colorbar\":{\"outlinewidth\":0,\"ticks\":\"\"}}}],\"scattermapbox\":[{\"type\":\"scattermapbox\",\"marker\":{\"colorbar\":{\"outlinewidth\":0,\"ticks\":\"\"}}}],\"scatterternary\":[{\"type\":\"scatterternary\",\"marker\":{\"colorbar\":{\"outlinewidth\":0,\"ticks\":\"\"}}}],\"scattercarpet\":[{\"type\":\"scattercarpet\",\"marker\":{\"colorbar\":{\"outlinewidth\":0,\"ticks\":\"\"}}}],\"carpet\":[{\"aaxis\":{\"endlinecolor\":\"#2a3f5f\",\"gridcolor\":\"white\",\"linecolor\":\"white\",\"minorgridcolor\":\"white\",\"startlinecolor\":\"#2a3f5f\"},\"baxis\":{\"endlinecolor\":\"#2a3f5f\",\"gridcolor\":\"white\",\"linecolor\":\"white\",\"minorgridcolor\":\"white\",\"startlinecolor\":\"#2a3f5f\"},\"type\":\"carpet\"}],\"table\":[{\"cells\":{\"fill\":{\"color\":\"#EBF0F8\"},\"line\":{\"color\":\"white\"}},\"header\":{\"fill\":{\"color\":\"#C8D4E3\"},\"line\":{\"color\":\"white\"}},\"type\":\"table\"}],\"barpolar\":[{\"marker\":{\"line\":{\"color\":\"#E5ECF6\",\"width\":0.5},\"pattern\":{\"fillmode\":\"overlay\",\"size\":10,\"solidity\":0.2}},\"type\":\"barpolar\"}],\"pie\":[{\"automargin\":true,\"type\":\"pie\"}]},\"layout\":{\"autotypenumbers\":\"strict\",\"colorway\":[\"#636efa\",\"#EF553B\",\"#00cc96\",\"#ab63fa\",\"#FFA15A\",\"#19d3f3\",\"#FF6692\",\"#B6E880\",\"#FF97FF\",\"#FECB52\"],\"font\":{\"color\":\"#2a3f5f\"},\"hovermode\":\"closest\",\"hoverlabel\":{\"align\":\"left\"},\"paper_bgcolor\":\"white\",\"plot_bgcolor\":\"#E5ECF6\",\"polar\":{\"bgcolor\":\"#E5ECF6\",\"angularaxis\":{\"gridcolor\":\"white\",\"linecolor\":\"white\",\"ticks\":\"\"},\"radialaxis\":{\"gridcolor\":\"white\",\"linecolor\":\"white\",\"ticks\":\"\"}},\"ternary\":{\"bgcolor\":\"#E5ECF6\",\"aaxis\":{\"gridcolor\":\"white\",\"linecolor\":\"white\",\"ticks\":\"\"},\"baxis\":{\"gridcolor\":\"white\",\"linecolor\":\"white\",\"ticks\":\"\"},\"caxis\":{\"gridcolor\":\"white\",\"linecolor\":\"white\",\"ticks\":\"\"}},\"coloraxis\":{\"colorbar\":{\"outlinewidth\":0,\"ticks\":\"\"}},\"colorscale\":{\"sequential\":[[0.0,\"#0d0887\"],[0.1111111111111111,\"#46039f\"],[0.2222222222222222,\"#7201a8\"],[0.3333333333333333,\"#9c179e\"],[0.4444444444444444,\"#bd3786\"],[0.5555555555555556,\"#d8576b\"],[0.6666666666666666,\"#ed7953\"],[0.7777777777777778,\"#fb9f3a\"],[0.8888888888888888,\"#fdca26\"],[1.0,\"#f0f921\"]],\"sequentialminus\":[[0.0,\"#0d0887\"],[0.1111111111111111,\"#46039f\"],[0.2222222222222222,\"#7201a8\"],[0.3333333333333333,\"#9c179e\"],[0.4444444444444444,\"#bd3786\"],[0.5555555555555556,\"#d8576b\"],[0.6666666666666666,\"#ed7953\"],[0.7777777777777778,\"#fb9f3a\"],[0.8888888888888888,\"#fdca26\"],[1.0,\"#f0f921\"]],\"diverging\":[[0,\"#8e0152\"],[0.1,\"#c51b7d\"],[0.2,\"#de77ae\"],[0.3,\"#f1b6da\"],[0.4,\"#fde0ef\"],[0.5,\"#f7f7f7\"],[0.6,\"#e6f5d0\"],[0.7,\"#b8e186\"],[0.8,\"#7fbc41\"],[0.9,\"#4d9221\"],[1,\"#276419\"]]},\"xaxis\":{\"gridcolor\":\"white\",\"linecolor\":\"white\",\"ticks\":\"\",\"title\":{\"standoff\":15},\"zerolinecolor\":\"white\",\"automargin\":true,\"zerolinewidth\":2},\"yaxis\":{\"gridcolor\":\"white\",\"linecolor\":\"white\",\"ticks\":\"\",\"title\":{\"standoff\":15},\"zerolinecolor\":\"white\",\"automargin\":true,\"zerolinewidth\":2},\"scene\":{\"xaxis\":{\"backgroundcolor\":\"#E5ECF6\",\"gridcolor\":\"white\",\"linecolor\":\"white\",\"showbackground\":true,\"ticks\":\"\",\"zerolinecolor\":\"white\",\"gridwidth\":2},\"yaxis\":{\"backgroundcolor\":\"#E5ECF6\",\"gridcolor\":\"white\",\"linecolor\":\"white\",\"showbackground\":true,\"ticks\":\"\",\"zerolinecolor\":\"white\",\"gridwidth\":2},\"zaxis\":{\"backgroundcolor\":\"#E5ECF6\",\"gridcolor\":\"white\",\"linecolor\":\"white\",\"showbackground\":true,\"ticks\":\"\",\"zerolinecolor\":\"white\",\"gridwidth\":2}},\"shapedefaults\":{\"line\":{\"color\":\"#2a3f5f\"}},\"annotationdefaults\":{\"arrowcolor\":\"#2a3f5f\",\"arrowhead\":0,\"arrowwidth\":1},\"geo\":{\"bgcolor\":\"white\",\"landcolor\":\"#E5ECF6\",\"subunitcolor\":\"white\",\"showland\":true,\"showlakes\":true,\"lakecolor\":\"white\"},\"title\":{\"x\":0.05},\"mapbox\":{\"style\":\"light\"}}},\"xaxis\":{\"anchor\":\"y\",\"domain\":[0.0,1.0],\"title\":{\"text\":\"Length\"}},\"yaxis\":{\"anchor\":\"x\",\"domain\":[0.0,0.8316],\"title\":{\"text\":\"count\"}},\"xaxis2\":{\"anchor\":\"y2\",\"domain\":[0.0,1.0],\"matches\":\"x\",\"showticklabels\":false,\"showgrid\":true},\"yaxis2\":{\"anchor\":\"x2\",\"domain\":[0.8416,1.0],\"matches\":\"y2\",\"showticklabels\":false,\"showline\":false,\"ticks\":\"\",\"showgrid\":false},\"legend\":{\"tracegroupgap\":0},\"title\":{\"text\":\"Length of tweets text for class 1\"},\"barmode\":\"relative\",\"bargap\":0.1},                        {\"responsive\": true}                    ).then(function(){\n",
              "                            \n",
              "var gd = document.getElementById('0a24701c-230d-4e05-909a-9b6b18357764');\n",
              "var x = new MutationObserver(function (mutations, observer) {{\n",
              "        var display = window.getComputedStyle(gd).display;\n",
              "        if (!display || display === 'none') {{\n",
              "            console.log([gd, 'removed!']);\n",
              "            Plotly.purge(gd);\n",
              "            observer.disconnect();\n",
              "        }}\n",
              "}});\n",
              "\n",
              "// Listen for the removal of the full notebook cells\n",
              "var notebookContainer = gd.closest('#notebook-container');\n",
              "if (notebookContainer) {{\n",
              "    x.observe(notebookContainer, {childList: true});\n",
              "}}\n",
              "\n",
              "// Listen for the clearing of the current output cell\n",
              "var outputEl = gd.closest('.output');\n",
              "if (outputEl) {{\n",
              "    x.observe(outputEl, {childList: true});\n",
              "}}\n",
              "\n",
              "                        })                };                            </script>        </div>\n",
              "</body>\n",
              "</html>"
            ]
          },
          "metadata": {}
        },
        {
          "output_type": "display_data",
          "data": {
            "text/html": [
              "<html>\n",
              "<head><meta charset=\"utf-8\" /></head>\n",
              "<body>\n",
              "    <div>            <script src=\"https://cdnjs.cloudflare.com/ajax/libs/mathjax/2.7.5/MathJax.js?config=TeX-AMS-MML_SVG\"></script><script type=\"text/javascript\">if (window.MathJax && window.MathJax.Hub && window.MathJax.Hub.Config) {window.MathJax.Hub.Config({SVG: {font: \"STIX-Web\"}});}</script>                <script type=\"text/javascript\">window.PlotlyConfig = {MathJaxConfig: 'local'};</script>\n",
              "        <script charset=\"utf-8\" src=\"https://cdn.plot.ly/plotly-2.35.2.min.js\"></script>                <div id=\"ae3f5502-a93e-4389-aa7f-9af246289028\" class=\"plotly-graph-div\" style=\"height:525px; width:100%;\"></div>            <script type=\"text/javascript\">                                    window.PLOTLYENV=window.PLOTLYENV || {};                                    if (document.getElementById(\"ae3f5502-a93e-4389-aa7f-9af246289028\")) {                    Plotly.newPlot(                        \"ae3f5502-a93e-4389-aa7f-9af246289028\",                        [{\"alignmentgroup\":\"True\",\"bingroup\":\"x\",\"hovertemplate\":\"Length=%{x}\\u003cbr\\u003ecount=%{y}\\u003cextra\\u003e\\u003c\\u002fextra\\u003e\",\"legendgroup\":\"\",\"marker\":{\"color\":\"rgb(152,78,163)\",\"pattern\":{\"shape\":\"\"}},\"name\":\"\",\"offsetgroup\":\"\",\"orientation\":\"v\",\"showlegend\":false,\"x\":[11,16,19,23,27,13,13,23,23,16,21,5,24,16,17,24,21,8,18,4,5,25,9,6,27,24,21,7,23,16,14,9,26,18,16,21,19,9,20,11,21,5,12,19,20,19,18,22,22,24,21,9,21,2,7,21,26,9,5,21,23,10,22,22,13,11,16,9,8,13,13,8,19,19,23,12,11,15,14,20,24,15,22,19,25,16,6,7,17,27,7,19,26,11,26,9,20,23,4,26,25,20,17,6,19,14,9,26,26,26,18,15,26,23,23,8,5,22,20,8,8,18,22,15,11,5,15,24,12,15,12,24,7,19,26,23,9,11,5,23,19,6,26,10,8,27,15,10,10,5,11,10,13,21,19,20,24,15,19,11,25,7,15,6,5,16,19,7,25,8,23,8,11,12,21,13,20,21,18,8,25,8,24,23,21,10,26,22,21,7,20,18,26,12,21,4,20,19,21,12,21,13,7,16,13,17,24,5,4,10,21,23,27,18,23,17,4,8,30,23,9,2,24,6,10,11,6,28,13,23,13,23,18,22,28,14,4,25,4,8,18,4,20,20,21,12,3,22,18,10,21,25,25,28,21,9,14,21,28,23,22,29,14,18,26,11,18,4,15,5,21,30,12,18,9,25,27,5,7,16,7,20,9,14,12,11,27,27,9,13,20,21,15,9,6,11,22,20,14,16,13,23,15,19,18,17,17,18,11,23,21,17,13,13,16,13,18,26,27,11,16,25,13,10,16,17,2,3,23,19,14,17,23,17,23,10,18,12,22,10,23,7,27,4,21,17,19,7,26,10,10,19,8,27,13,7,6,11,25,23,17,14,4,10,24,22,17,9,23,5,26,22,9,22,29,18,26,16,17,19,26,8,18,24,14,26,22,9,13,16,19,10,23,23,21,29,24,7,24,23,24,20,26,25,6,11,7,19,22,11,7,25,7,19,4,13,24,26,21,19,15,14,8,9,25,9,24,6,6,24,25,26,17,11,7,12,10,19,16,6,19,21,11,16,13,12,22,13,19,24,16,4,2,7,12,21,9,4,8,10,15,17,19,18,10,23,24,5,6,25,29,22,10,18,29,25,17,3,26,11,14,6,11,23,12,6,11,16,11,7,15,8,16,14,28,26,26,19,19,24,12,21,3,22,23,14,16,15,15,22,8,3,2,27,15,19,16,24,18,24,24,5,13,11,22,22,17,26,10,12,27,23,24,21,23,23,28,24,6,14,28,13,26,7,24,14,20,21,13,21,17,6,11,11,12,5,19,6,7,14,25,9,3,20,10,15,21,20,26,27,12,10,14,4,15,20,9,11,23,11,27,18,7,14,3,19,10,24,17,5,12,11,20,11,24,6,20,8,11,20,5,22,17,3,6,10,9,21,25,31,6,8,22,11,17,18,5,18,4,7,3,20,22,11,20,24,24,23,20,24,5,17,14,25,9,15,10,5,12,28,8,18,13,17,17,30,6,10,22,28,26,18,20,11,7,24,7,6,14,14,17,19,12,8,29,13,5,15,22,23,9,22,17,27,20,7,14,19,3,7,23,11,18,8,9,11,10,14,15,6,9,22,5,8,25,22,18,5,18,10,7,14,7,12,7,19,21,25,25,15,17,10,15,15,23,12,14,10,24,17,18,11,17,17,21,8,15,23,20,14,4,8,22,16,20,23,10,27,8,12,17,13,17,19,17,8,4,15,9,24,12,9,11,15,26,27,24,14,8,16,23,19,13,16,25,28,10,21,2,16,5,7,27,7,22,2,19,14,6,15,4,20,12,27,18,4,10,11,18,20,6,12,17,13,10,15,7,15,15,28,23,33,7,3,10,23,24,14,18,25,24,21,15,16,27,4,8,25,9,10,6,8,10,23,21,29,4,25,17,4,16,12,15,16,13,8,19,7,14,21,14,7,28,24,8,13,15,16,17,22,10,16,17,27,14],\"xaxis\":\"x\",\"yaxis\":\"y\",\"type\":\"histogram\"},{\"alignmentgroup\":\"True\",\"hovertemplate\":\"Length=%{x}\\u003cextra\\u003e\\u003c\\u002fextra\\u003e\",\"legendgroup\":\"\",\"marker\":{\"color\":\"rgb(152,78,163)\"},\"name\":\"\",\"notched\":true,\"offsetgroup\":\"\",\"showlegend\":false,\"x\":[11,16,19,23,27,13,13,23,23,16,21,5,24,16,17,24,21,8,18,4,5,25,9,6,27,24,21,7,23,16,14,9,26,18,16,21,19,9,20,11,21,5,12,19,20,19,18,22,22,24,21,9,21,2,7,21,26,9,5,21,23,10,22,22,13,11,16,9,8,13,13,8,19,19,23,12,11,15,14,20,24,15,22,19,25,16,6,7,17,27,7,19,26,11,26,9,20,23,4,26,25,20,17,6,19,14,9,26,26,26,18,15,26,23,23,8,5,22,20,8,8,18,22,15,11,5,15,24,12,15,12,24,7,19,26,23,9,11,5,23,19,6,26,10,8,27,15,10,10,5,11,10,13,21,19,20,24,15,19,11,25,7,15,6,5,16,19,7,25,8,23,8,11,12,21,13,20,21,18,8,25,8,24,23,21,10,26,22,21,7,20,18,26,12,21,4,20,19,21,12,21,13,7,16,13,17,24,5,4,10,21,23,27,18,23,17,4,8,30,23,9,2,24,6,10,11,6,28,13,23,13,23,18,22,28,14,4,25,4,8,18,4,20,20,21,12,3,22,18,10,21,25,25,28,21,9,14,21,28,23,22,29,14,18,26,11,18,4,15,5,21,30,12,18,9,25,27,5,7,16,7,20,9,14,12,11,27,27,9,13,20,21,15,9,6,11,22,20,14,16,13,23,15,19,18,17,17,18,11,23,21,17,13,13,16,13,18,26,27,11,16,25,13,10,16,17,2,3,23,19,14,17,23,17,23,10,18,12,22,10,23,7,27,4,21,17,19,7,26,10,10,19,8,27,13,7,6,11,25,23,17,14,4,10,24,22,17,9,23,5,26,22,9,22,29,18,26,16,17,19,26,8,18,24,14,26,22,9,13,16,19,10,23,23,21,29,24,7,24,23,24,20,26,25,6,11,7,19,22,11,7,25,7,19,4,13,24,26,21,19,15,14,8,9,25,9,24,6,6,24,25,26,17,11,7,12,10,19,16,6,19,21,11,16,13,12,22,13,19,24,16,4,2,7,12,21,9,4,8,10,15,17,19,18,10,23,24,5,6,25,29,22,10,18,29,25,17,3,26,11,14,6,11,23,12,6,11,16,11,7,15,8,16,14,28,26,26,19,19,24,12,21,3,22,23,14,16,15,15,22,8,3,2,27,15,19,16,24,18,24,24,5,13,11,22,22,17,26,10,12,27,23,24,21,23,23,28,24,6,14,28,13,26,7,24,14,20,21,13,21,17,6,11,11,12,5,19,6,7,14,25,9,3,20,10,15,21,20,26,27,12,10,14,4,15,20,9,11,23,11,27,18,7,14,3,19,10,24,17,5,12,11,20,11,24,6,20,8,11,20,5,22,17,3,6,10,9,21,25,31,6,8,22,11,17,18,5,18,4,7,3,20,22,11,20,24,24,23,20,24,5,17,14,25,9,15,10,5,12,28,8,18,13,17,17,30,6,10,22,28,26,18,20,11,7,24,7,6,14,14,17,19,12,8,29,13,5,15,22,23,9,22,17,27,20,7,14,19,3,7,23,11,18,8,9,11,10,14,15,6,9,22,5,8,25,22,18,5,18,10,7,14,7,12,7,19,21,25,25,15,17,10,15,15,23,12,14,10,24,17,18,11,17,17,21,8,15,23,20,14,4,8,22,16,20,23,10,27,8,12,17,13,17,19,17,8,4,15,9,24,12,9,11,15,26,27,24,14,8,16,23,19,13,16,25,28,10,21,2,16,5,7,27,7,22,2,19,14,6,15,4,20,12,27,18,4,10,11,18,20,6,12,17,13,10,15,7,15,15,28,23,33,7,3,10,23,24,14,18,25,24,21,15,16,27,4,8,25,9,10,6,8,10,23,21,29,4,25,17,4,16,12,15,16,13,8,19,7,14,21,14,7,28,24,8,13,15,16,17,22,10,16,17,27,14],\"xaxis\":\"x2\",\"yaxis\":\"y2\",\"type\":\"box\"}],                        {\"template\":{\"data\":{\"histogram2dcontour\":[{\"type\":\"histogram2dcontour\",\"colorbar\":{\"outlinewidth\":0,\"ticks\":\"\"},\"colorscale\":[[0.0,\"#0d0887\"],[0.1111111111111111,\"#46039f\"],[0.2222222222222222,\"#7201a8\"],[0.3333333333333333,\"#9c179e\"],[0.4444444444444444,\"#bd3786\"],[0.5555555555555556,\"#d8576b\"],[0.6666666666666666,\"#ed7953\"],[0.7777777777777778,\"#fb9f3a\"],[0.8888888888888888,\"#fdca26\"],[1.0,\"#f0f921\"]]}],\"choropleth\":[{\"type\":\"choropleth\",\"colorbar\":{\"outlinewidth\":0,\"ticks\":\"\"}}],\"histogram2d\":[{\"type\":\"histogram2d\",\"colorbar\":{\"outlinewidth\":0,\"ticks\":\"\"},\"colorscale\":[[0.0,\"#0d0887\"],[0.1111111111111111,\"#46039f\"],[0.2222222222222222,\"#7201a8\"],[0.3333333333333333,\"#9c179e\"],[0.4444444444444444,\"#bd3786\"],[0.5555555555555556,\"#d8576b\"],[0.6666666666666666,\"#ed7953\"],[0.7777777777777778,\"#fb9f3a\"],[0.8888888888888888,\"#fdca26\"],[1.0,\"#f0f921\"]]}],\"heatmap\":[{\"type\":\"heatmap\",\"colorbar\":{\"outlinewidth\":0,\"ticks\":\"\"},\"colorscale\":[[0.0,\"#0d0887\"],[0.1111111111111111,\"#46039f\"],[0.2222222222222222,\"#7201a8\"],[0.3333333333333333,\"#9c179e\"],[0.4444444444444444,\"#bd3786\"],[0.5555555555555556,\"#d8576b\"],[0.6666666666666666,\"#ed7953\"],[0.7777777777777778,\"#fb9f3a\"],[0.8888888888888888,\"#fdca26\"],[1.0,\"#f0f921\"]]}],\"heatmapgl\":[{\"type\":\"heatmapgl\",\"colorbar\":{\"outlinewidth\":0,\"ticks\":\"\"},\"colorscale\":[[0.0,\"#0d0887\"],[0.1111111111111111,\"#46039f\"],[0.2222222222222222,\"#7201a8\"],[0.3333333333333333,\"#9c179e\"],[0.4444444444444444,\"#bd3786\"],[0.5555555555555556,\"#d8576b\"],[0.6666666666666666,\"#ed7953\"],[0.7777777777777778,\"#fb9f3a\"],[0.8888888888888888,\"#fdca26\"],[1.0,\"#f0f921\"]]}],\"contourcarpet\":[{\"type\":\"contourcarpet\",\"colorbar\":{\"outlinewidth\":0,\"ticks\":\"\"}}],\"contour\":[{\"type\":\"contour\",\"colorbar\":{\"outlinewidth\":0,\"ticks\":\"\"},\"colorscale\":[[0.0,\"#0d0887\"],[0.1111111111111111,\"#46039f\"],[0.2222222222222222,\"#7201a8\"],[0.3333333333333333,\"#9c179e\"],[0.4444444444444444,\"#bd3786\"],[0.5555555555555556,\"#d8576b\"],[0.6666666666666666,\"#ed7953\"],[0.7777777777777778,\"#fb9f3a\"],[0.8888888888888888,\"#fdca26\"],[1.0,\"#f0f921\"]]}],\"surface\":[{\"type\":\"surface\",\"colorbar\":{\"outlinewidth\":0,\"ticks\":\"\"},\"colorscale\":[[0.0,\"#0d0887\"],[0.1111111111111111,\"#46039f\"],[0.2222222222222222,\"#7201a8\"],[0.3333333333333333,\"#9c179e\"],[0.4444444444444444,\"#bd3786\"],[0.5555555555555556,\"#d8576b\"],[0.6666666666666666,\"#ed7953\"],[0.7777777777777778,\"#fb9f3a\"],[0.8888888888888888,\"#fdca26\"],[1.0,\"#f0f921\"]]}],\"mesh3d\":[{\"type\":\"mesh3d\",\"colorbar\":{\"outlinewidth\":0,\"ticks\":\"\"}}],\"scatter\":[{\"fillpattern\":{\"fillmode\":\"overlay\",\"size\":10,\"solidity\":0.2},\"type\":\"scatter\"}],\"parcoords\":[{\"type\":\"parcoords\",\"line\":{\"colorbar\":{\"outlinewidth\":0,\"ticks\":\"\"}}}],\"scatterpolargl\":[{\"type\":\"scatterpolargl\",\"marker\":{\"colorbar\":{\"outlinewidth\":0,\"ticks\":\"\"}}}],\"bar\":[{\"error_x\":{\"color\":\"#2a3f5f\"},\"error_y\":{\"color\":\"#2a3f5f\"},\"marker\":{\"line\":{\"color\":\"#E5ECF6\",\"width\":0.5},\"pattern\":{\"fillmode\":\"overlay\",\"size\":10,\"solidity\":0.2}},\"type\":\"bar\"}],\"scattergeo\":[{\"type\":\"scattergeo\",\"marker\":{\"colorbar\":{\"outlinewidth\":0,\"ticks\":\"\"}}}],\"scatterpolar\":[{\"type\":\"scatterpolar\",\"marker\":{\"colorbar\":{\"outlinewidth\":0,\"ticks\":\"\"}}}],\"histogram\":[{\"marker\":{\"pattern\":{\"fillmode\":\"overlay\",\"size\":10,\"solidity\":0.2}},\"type\":\"histogram\"}],\"scattergl\":[{\"type\":\"scattergl\",\"marker\":{\"colorbar\":{\"outlinewidth\":0,\"ticks\":\"\"}}}],\"scatter3d\":[{\"type\":\"scatter3d\",\"line\":{\"colorbar\":{\"outlinewidth\":0,\"ticks\":\"\"}},\"marker\":{\"colorbar\":{\"outlinewidth\":0,\"ticks\":\"\"}}}],\"scattermapbox\":[{\"type\":\"scattermapbox\",\"marker\":{\"colorbar\":{\"outlinewidth\":0,\"ticks\":\"\"}}}],\"scatterternary\":[{\"type\":\"scatterternary\",\"marker\":{\"colorbar\":{\"outlinewidth\":0,\"ticks\":\"\"}}}],\"scattercarpet\":[{\"type\":\"scattercarpet\",\"marker\":{\"colorbar\":{\"outlinewidth\":0,\"ticks\":\"\"}}}],\"carpet\":[{\"aaxis\":{\"endlinecolor\":\"#2a3f5f\",\"gridcolor\":\"white\",\"linecolor\":\"white\",\"minorgridcolor\":\"white\",\"startlinecolor\":\"#2a3f5f\"},\"baxis\":{\"endlinecolor\":\"#2a3f5f\",\"gridcolor\":\"white\",\"linecolor\":\"white\",\"minorgridcolor\":\"white\",\"startlinecolor\":\"#2a3f5f\"},\"type\":\"carpet\"}],\"table\":[{\"cells\":{\"fill\":{\"color\":\"#EBF0F8\"},\"line\":{\"color\":\"white\"}},\"header\":{\"fill\":{\"color\":\"#C8D4E3\"},\"line\":{\"color\":\"white\"}},\"type\":\"table\"}],\"barpolar\":[{\"marker\":{\"line\":{\"color\":\"#E5ECF6\",\"width\":0.5},\"pattern\":{\"fillmode\":\"overlay\",\"size\":10,\"solidity\":0.2}},\"type\":\"barpolar\"}],\"pie\":[{\"automargin\":true,\"type\":\"pie\"}]},\"layout\":{\"autotypenumbers\":\"strict\",\"colorway\":[\"#636efa\",\"#EF553B\",\"#00cc96\",\"#ab63fa\",\"#FFA15A\",\"#19d3f3\",\"#FF6692\",\"#B6E880\",\"#FF97FF\",\"#FECB52\"],\"font\":{\"color\":\"#2a3f5f\"},\"hovermode\":\"closest\",\"hoverlabel\":{\"align\":\"left\"},\"paper_bgcolor\":\"white\",\"plot_bgcolor\":\"#E5ECF6\",\"polar\":{\"bgcolor\":\"#E5ECF6\",\"angularaxis\":{\"gridcolor\":\"white\",\"linecolor\":\"white\",\"ticks\":\"\"},\"radialaxis\":{\"gridcolor\":\"white\",\"linecolor\":\"white\",\"ticks\":\"\"}},\"ternary\":{\"bgcolor\":\"#E5ECF6\",\"aaxis\":{\"gridcolor\":\"white\",\"linecolor\":\"white\",\"ticks\":\"\"},\"baxis\":{\"gridcolor\":\"white\",\"linecolor\":\"white\",\"ticks\":\"\"},\"caxis\":{\"gridcolor\":\"white\",\"linecolor\":\"white\",\"ticks\":\"\"}},\"coloraxis\":{\"colorbar\":{\"outlinewidth\":0,\"ticks\":\"\"}},\"colorscale\":{\"sequential\":[[0.0,\"#0d0887\"],[0.1111111111111111,\"#46039f\"],[0.2222222222222222,\"#7201a8\"],[0.3333333333333333,\"#9c179e\"],[0.4444444444444444,\"#bd3786\"],[0.5555555555555556,\"#d8576b\"],[0.6666666666666666,\"#ed7953\"],[0.7777777777777778,\"#fb9f3a\"],[0.8888888888888888,\"#fdca26\"],[1.0,\"#f0f921\"]],\"sequentialminus\":[[0.0,\"#0d0887\"],[0.1111111111111111,\"#46039f\"],[0.2222222222222222,\"#7201a8\"],[0.3333333333333333,\"#9c179e\"],[0.4444444444444444,\"#bd3786\"],[0.5555555555555556,\"#d8576b\"],[0.6666666666666666,\"#ed7953\"],[0.7777777777777778,\"#fb9f3a\"],[0.8888888888888888,\"#fdca26\"],[1.0,\"#f0f921\"]],\"diverging\":[[0,\"#8e0152\"],[0.1,\"#c51b7d\"],[0.2,\"#de77ae\"],[0.3,\"#f1b6da\"],[0.4,\"#fde0ef\"],[0.5,\"#f7f7f7\"],[0.6,\"#e6f5d0\"],[0.7,\"#b8e186\"],[0.8,\"#7fbc41\"],[0.9,\"#4d9221\"],[1,\"#276419\"]]},\"xaxis\":{\"gridcolor\":\"white\",\"linecolor\":\"white\",\"ticks\":\"\",\"title\":{\"standoff\":15},\"zerolinecolor\":\"white\",\"automargin\":true,\"zerolinewidth\":2},\"yaxis\":{\"gridcolor\":\"white\",\"linecolor\":\"white\",\"ticks\":\"\",\"title\":{\"standoff\":15},\"zerolinecolor\":\"white\",\"automargin\":true,\"zerolinewidth\":2},\"scene\":{\"xaxis\":{\"backgroundcolor\":\"#E5ECF6\",\"gridcolor\":\"white\",\"linecolor\":\"white\",\"showbackground\":true,\"ticks\":\"\",\"zerolinecolor\":\"white\",\"gridwidth\":2},\"yaxis\":{\"backgroundcolor\":\"#E5ECF6\",\"gridcolor\":\"white\",\"linecolor\":\"white\",\"showbackground\":true,\"ticks\":\"\",\"zerolinecolor\":\"white\",\"gridwidth\":2},\"zaxis\":{\"backgroundcolor\":\"#E5ECF6\",\"gridcolor\":\"white\",\"linecolor\":\"white\",\"showbackground\":true,\"ticks\":\"\",\"zerolinecolor\":\"white\",\"gridwidth\":2}},\"shapedefaults\":{\"line\":{\"color\":\"#2a3f5f\"}},\"annotationdefaults\":{\"arrowcolor\":\"#2a3f5f\",\"arrowhead\":0,\"arrowwidth\":1},\"geo\":{\"bgcolor\":\"white\",\"landcolor\":\"#E5ECF6\",\"subunitcolor\":\"white\",\"showland\":true,\"showlakes\":true,\"lakecolor\":\"white\"},\"title\":{\"x\":0.05},\"mapbox\":{\"style\":\"light\"}}},\"xaxis\":{\"anchor\":\"y\",\"domain\":[0.0,1.0],\"title\":{\"text\":\"Length\"}},\"yaxis\":{\"anchor\":\"x\",\"domain\":[0.0,0.8316],\"title\":{\"text\":\"count\"}},\"xaxis2\":{\"anchor\":\"y2\",\"domain\":[0.0,1.0],\"matches\":\"x\",\"showticklabels\":false,\"showgrid\":true},\"yaxis2\":{\"anchor\":\"x2\",\"domain\":[0.8416,1.0],\"matches\":\"y2\",\"showticklabels\":false,\"showline\":false,\"ticks\":\"\",\"showgrid\":false},\"legend\":{\"tracegroupgap\":0},\"title\":{\"text\":\"Length of tweets text for class 3\"},\"barmode\":\"relative\",\"bargap\":0.1},                        {\"responsive\": true}                    ).then(function(){\n",
              "                            \n",
              "var gd = document.getElementById('ae3f5502-a93e-4389-aa7f-9af246289028');\n",
              "var x = new MutationObserver(function (mutations, observer) {{\n",
              "        var display = window.getComputedStyle(gd).display;\n",
              "        if (!display || display === 'none') {{\n",
              "            console.log([gd, 'removed!']);\n",
              "            Plotly.purge(gd);\n",
              "            observer.disconnect();\n",
              "        }}\n",
              "}});\n",
              "\n",
              "// Listen for the removal of the full notebook cells\n",
              "var notebookContainer = gd.closest('#notebook-container');\n",
              "if (notebookContainer) {{\n",
              "    x.observe(notebookContainer, {childList: true});\n",
              "}}\n",
              "\n",
              "// Listen for the clearing of the current output cell\n",
              "var outputEl = gd.closest('.output');\n",
              "if (outputEl) {{\n",
              "    x.observe(outputEl, {childList: true});\n",
              "}}\n",
              "\n",
              "                        })                };                            </script>        </div>\n",
              "</body>\n",
              "</html>"
            ]
          },
          "metadata": {}
        }
      ]
    },
    {
      "cell_type": "markdown",
      "source": [
        "Rappresentiamo gli istogrammi del numero di parole nel testo per ogni classe, cercando di identificare se il sentimento che si prova impatta nella lunghezza del testo. Sembrerebbe che le persone nervose tendino a scrivere testi più lunghi. Le persone felici testi un pochino più corti."
      ],
      "metadata": {
        "id": "QPv_bM4Y4yW4"
      }
    },
    {
      "cell_type": "markdown",
      "source": [
        "### **Data Processing**"
      ],
      "metadata": {
        "id": "q6JdwvQm66x4"
      }
    },
    {
      "cell_type": "markdown",
      "source": [
        "Remove stop words, digits, and punctuation and lowercase a given collection of texts"
      ],
      "metadata": {
        "id": "QYvdcykX9w72"
      }
    },
    {
      "cell_type": "code",
      "source": [
        "from collections import defaultdict\n",
        "\n",
        "def count_repeated_hashtags(text_lines):\n",
        "    \"\"\"\n",
        "    Funzione che estrae e conta gli hashtag ripetuti almeno 5 volte da una lista di righe di testo.\n",
        "\n",
        "    Args:\n",
        "    text_lines (list of str): Lista contenente le righe di testo.\n",
        "\n",
        "    Returns:\n",
        "    dict: Dizionario con gli hashtag ripetuti almeno 5 volte e il loro conteggio.\n",
        "    \"\"\"\n",
        "    hashtag_counter = defaultdict(int)  # Dizionario per contare le occorrenze degli hashtag\n",
        "\n",
        "    # Itera attraverso le righe del testo\n",
        "    for line in text_lines:\n",
        "        # Trova tutti gli hashtag in ogni riga\n",
        "        hashtags = re.findall(r'#\\w+', line)\n",
        "        # Aggiorna il conteggio degli hashtag trovati\n",
        "        for hashtag in hashtags:\n",
        "            hashtag_counter[hashtag] += 1\n",
        "\n",
        "    # Filtra gli hashtag che si ripetono almeno 5 volte\n",
        "    frequent_hashtags = {hashtag: count for hashtag, count in hashtag_counter.items() if count >= 5}\n",
        "\n",
        "    return frequent_hashtags\n",
        "\n",
        "\n",
        "# Chiamata alla funzione\n",
        "repeated_hashtags = count_repeated_hashtags(df_train[\"text\"])\n",
        "\n",
        "# Stampa gli hashtag che si ripetono almeno 5 volte\n",
        "print(repeated_hashtags)\n"
      ],
      "metadata": {
        "colab": {
          "base_uri": "https://localhost:8080/"
        },
        "id": "VkFADTbGvcj9",
        "outputId": "12311279-a71e-4089-d7d2-7c5d0b23a6a3"
      },
      "execution_count": 135,
      "outputs": [
        {
          "output_type": "stream",
          "name": "stdout",
          "text": [
            "{'#leadership': 5, '#worry': 9, '#terrible': 26, '#angry': 32, '#horrible': 25, '#joke': 5, '#terror': 21, '#bully': 21, '#rage': 24, '#glee': 6, '#sad': 49, '#GBBO': 25, '#hilarious': 24, '#lost': 24, '#depression': 41, '#blues': 29, '#rock': 5, '#music': 8, '#horror': 17, '#MHChat': 6, '#awful': 31, '#anxiety': 27, '#nightmare': 27, '#terrorism': 33, '#sadness': 38, '#unhappy': 6, '#smile': 12, '#snap': 9, '#dark': 10, '#afraid': 11, '#bitter': 18, '#serious': 15, '#fear': 33, '#optimism': 10, '#quote': 12, '#fuming': 30, '#anger': 24, '#musically': 27, '#war': 5, '#shocking': 28, '#revenge': 14, '#happy': 11, '#nervous': 12, '#cry': 6, '#life': 9, '#funny': 8, '#Trump': 12, '#Hillary': 5, '#Charlotte': 5, '#UNGA': 6, '#India': 7, '#Pakistan': 13, '#fuck': 5, '#pun': 5, '#punny': 5, '#lol': 11, '#mufc': 5, '#relentless': 5, '#panic': 12, '#love': 9, '#outrage': 13, '#bb18': 9, '#restless': 8, '#offended': 11, '#faith': 7, '#BB18': 6, '#racism': 5, '#grim': 5, '#CharlotteProtest': 7, '#depressing': 15, '#lively': 14, '#kikme': 5, '#snapchat': 6, '#start': 6, '#revolting': 5, '#excited': 5, '#emo': 5, '#sober': 8, '#cantsleep': 5, '#shy': 6}\n"
          ]
        }
      ]
    },
    {
      "cell_type": "code",
      "source": [
        "import string\n",
        "\n",
        "def handle_negations(text):\n",
        "    tokens = text.split()\n",
        "    negations = {\"not\", \"no\", \"never\", \"n't\"}\n",
        "    result = []\n",
        "    negate = False\n",
        "    for token in tokens:\n",
        "        lower_token = token.lower()\n",
        "        if negate and token not in string.punctuation:\n",
        "            result.append(token + \"_NEG\")\n",
        "        else:\n",
        "            result.append(token)\n",
        "        negate = lower_token in negations\n",
        "    return ' '.join(result)"
      ],
      "metadata": {
        "id": "gVaefIXAwdoT"
      },
      "execution_count": 136,
      "outputs": []
    },
    {
      "cell_type": "code",
      "source": [
        "import re\n",
        "import spacy\n",
        "import html\n",
        "from nltk.corpus import stopwords\n",
        "from contractions import fix\n",
        "import wordsegment\n",
        "wordsegment.load()\n",
        "import emoji\n",
        "import unicodedata\n",
        "\n",
        "# Initialize spaCy model\n",
        "nlp = spacy.load('en_core_web_sm')\n",
        "\n",
        "# Define stopwords\n",
        "mystopwords = set(stopwords.words(\"english\"))\n",
        "negation_words = {\"not\", \"no\", \"nor\", \"never\", \"n't\"}\n",
        "additional_words_to_keep = {\"but\", \"against\", \"without\", \"won\", \"don't\", \"can't\", \"couldn't\"}\n",
        "words_to_keep = negation_words.union(additional_words_to_keep)\n",
        "\n",
        "# Remove these words from the stopword list\n",
        "mystopwords = mystopwords - words_to_keep\n",
        "\n",
        "\n",
        "def normalize_text(text):\n",
        "    \"\"\"\n",
        "    Removes URLs, processes mentions and hashtags, handles HTML entities,\n",
        "    expands contractions, replaces slang, handles emojis, and converts everything to lowercase.\n",
        "    \"\"\"\n",
        "    # Remove URLs\n",
        "    text = re.sub(r'http\\S+|www\\S+|https\\S+', '', text, flags=re.MULTILINE)\n",
        "\n",
        "    # Replace HTML entities with their corresponding characters\n",
        "    text = html.unescape(text)\n",
        "\n",
        "    # Remove punctuation but keep repeated question marks and exclamation points\n",
        "    text = re.sub(r'(?<!\\?)\\?(?!\\?)|(?<!\\!)\\!(?!\\!)', '', text)\n",
        "\n",
        "\n",
        "    # Normalize unicode characters\n",
        "    text = unicodedata.normalize('NFKD', text)\n",
        "\n",
        "    # Expand contractions\n",
        "    text = fix(text)\n",
        "\n",
        "    # Handle negations by appending _NEG to the following word\n",
        "    text = handle_negations(text)\n",
        "\n",
        "    important_hashtags = repeated_hashtags\n",
        "    text = re.sub(r'#(\\w+)', lambda m: m.group(0) if m.group(0) in important_hashtags else ' '.join(wordsegment.segment(m.group(0)[1:])), text)\n",
        "\n",
        "    # Replace mentions with placeholder\n",
        "    text = re.sub(r'@\\w+', '<USER>', text)\n",
        "\n",
        "    # Replace slang terms\n",
        "    slang_dict = {\n",
        "        \"u\": \"you\",\n",
        "        \"bcuz\": \"because\",\n",
        "        \"gonna\": \"going to\",\n",
        "        \"prolly\": \"probably\",\n",
        "        \"tho\": \"though\",\n",
        "        \"tbh\": \"to be honest\",\n",
        "        \"idk\": \"I do not know\",\n",
        "        \"im\": \"I am\",\n",
        "        \"cant\": \"cannot\",\n",
        "        \"wanna\": \"want to\",\n",
        "        \"gimme\": \"give me\",\n",
        "        \"gotta\": \"got to\",\n",
        "        \"kinda\": \"kind of\",\n",
        "        \"luv\": \"love\",\n",
        "        \"yall\": \"you all\",\n",
        "        \"ya\": \"you\",\n",
        "        \"dunno\": \"do not know\",\n",
        "        \"btw\": \"by the way\",\n",
        "        \"thx\": \"thanks\",\n",
        "        \"omg\": \"oh my god\",\n",
        "\n",
        "    }\n",
        "    def replace_slang(text):\n",
        "        tokens = text.split()\n",
        "        tokens = [slang_dict.get(token.lower(), token) for token in tokens]\n",
        "        return ' '.join(tokens)\n",
        "\n",
        "    text = replace_slang(text)\n",
        "\n",
        "    # Handle emojis: convert emojis to text\n",
        "    text = emoji.demojize(text, delimiters=(' ', ' '))\n",
        "\n",
        "    # Remove punctuation (except for emoji descriptions)\n",
        "    text = re.sub(r'[^\\w\\s_]', '', text)\n",
        "\n",
        "    # Remove extra whitespace and newlines\n",
        "    text = text.strip()\n",
        "    text = re.sub(r'\\s+', ' ', text)\n",
        "\n",
        "    return text.lower()\n",
        "\n",
        "def preprocess_text(text):\n",
        "    \"\"\"\n",
        "    Performs text preprocessing with normalization, stopword removal,\n",
        "    and lemmatization.\n",
        "    \"\"\"\n",
        "    text = normalize_text(text)\n",
        "\n",
        "    # Process text with spaCy\n",
        "    doc = nlp(text)\n",
        "\n",
        "    # Tokenization and lemmatization\n",
        "    tokens = [\n",
        "        token.lemma_ for token in doc\n",
        "        if token.text.lower() not in mystopwords and not token.is_punct and not token.like_num\n",
        "    ]\n",
        "\n",
        "    return ' '.join(tokens)"
      ],
      "metadata": {
        "id": "4MbiDwbV9HC0"
      },
      "execution_count": 137,
      "outputs": []
    },
    {
      "cell_type": "markdown",
      "source": [
        "#### Data agumentation"
      ],
      "metadata": {
        "id": "fykkUDGLkjer"
      }
    },
    {
      "cell_type": "code",
      "source": [
        "synonym_aug = naw.SynonymAug(aug_src='wordnet')\n",
        "\n",
        "def augment_dataset(df, label_column, text_column, augmenter, n=1):\n",
        "    augmented_texts = []\n",
        "    augmented_labels = []\n",
        "\n",
        "    for index, row in df.iterrows():\n",
        "        text = row[text_column]\n",
        "        label = row[label_column]\n",
        "\n",
        "        augmented_versions = augment_text(text, augmenter, n)\n",
        "        augmented_texts.extend(augmented_versions)\n",
        "        augmented_labels.extend([label] * len(augmented_versions))\n",
        "\n",
        "    augmented_df = pd.DataFrame({\n",
        "        text_column: augmented_texts,\n",
        "        label_column: augmented_labels\n",
        "    })\n",
        "\n",
        "    return augmented_df\n",
        "\n",
        "# Applica l'augmentation al dataset\n",
        "def augment_text(text, augmenter, n=1):\n",
        "    # Genera n versioni aumentate del testo\n",
        "    augmented_texts = augmenter.augment(text, n=n)\n",
        "\n",
        "    # Assicurati che augmented_texts sia una lista di stringhe\n",
        "    if isinstance(augmented_texts, str):\n",
        "        augmented_texts = [augmented_texts]\n",
        "    elif isinstance(augmented_texts, list):\n",
        "        # Verifica che tutti gli elementi siano stringhe\n",
        "        augmented_texts = [str(t) for t in augmented_texts]\n",
        "    else:\n",
        "        # In caso di tipi inattesi, convertili in stringhe\n",
        "        augmented_texts = [str(t) for t in augmented_texts]\n",
        "\n",
        "    return augmented_texts\n",
        "\n",
        "\n",
        "df_train = pd.concat([df_train, Y_train], axis=1)\n",
        "df_train.columns = ['processed_text', \"label\"]\n",
        "\n",
        "# Applica l'augmentation solo alle classi minoritarie\n",
        "class_counts = df_train['label'].value_counts()\n",
        "max_count = class_counts.max()\n",
        "minority_classes = class_counts[class_counts < max_count].index.tolist()  # Esclude la classe maggioritaria\n",
        "df_minority = df_train[df_train['label'].isin(minority_classes)]\n",
        "\n",
        "# Applica l'augmentation\n",
        "augmented_df = augment_dataset(df_minority, 'label', 'processed_text', synonym_aug, n=1)\n",
        "\n",
        "# Unisci il dataset originale con quello aumentato\n",
        "df_train_augmented = pd.concat([df_train, augmented_df]).reset_index(drop=True)\n",
        "print(df_train_augmented['label'].value_counts())"
      ],
      "metadata": {
        "colab": {
          "base_uri": "https://localhost:8080/"
        },
        "id": "h3yPxKTokWo3",
        "outputId": "980d4e48-c1c3-49df-c13f-1e6977016a26"
      },
      "execution_count": 138,
      "outputs": [
        {
          "output_type": "stream",
          "name": "stdout",
          "text": [
            "label\n",
            "3    1710\n",
            "1    1416\n",
            "0    1400\n",
            "2     588\n",
            "Name: count, dtype: int64\n"
          ]
        }
      ]
    },
    {
      "cell_type": "markdown",
      "source": [
        "#### Applichiamo il pre processing"
      ],
      "metadata": {
        "id": "h4J6U83hh3jh"
      }
    },
    {
      "cell_type": "code",
      "source": [
        "def preprocess_corpus(texts):\n",
        "    return [preprocess_text(text) for text in texts]\n",
        "\n",
        "\n",
        "df_train_augmented['processed_text'] = df_train_augmented['processed_text'].apply(preprocess_text)\n",
        "#df_train.drop('text', axis=1, inplace=True)\n",
        "\n",
        "df_valid['processed_text'] = df_valid['text'].apply(preprocess_text)\n",
        "df_valid.drop('text', axis=1, inplace=True)\n",
        "\n",
        "df_test['processed_text'] = df_test['text'].apply(preprocess_text)\n",
        "df_test.drop('text', axis=1, inplace=True)\n",
        "\n",
        "#df_train = pd.concat([df_train, Y_train], axis=1)\n",
        "#df_train.columns = ['processed_text', 'label']"
      ],
      "metadata": {
        "id": "mFWUH0i5CYlE"
      },
      "execution_count": 139,
      "outputs": []
    },
    {
      "cell_type": "code",
      "source": [
        "df_train.tail()"
      ],
      "metadata": {
        "id": "-WxfBtR8FpxL",
        "colab": {
          "base_uri": "https://localhost:8080/",
          "height": 0
        },
        "outputId": "a1a2d283-eca0-454e-ca93-43cc43d49354"
      },
      "execution_count": 140,
      "outputs": [
        {
          "output_type": "execute_result",
          "data": {
            "text/plain": [
              "                                         processed_text  label\n",
              "3252  I get discouraged because I try for 5 fucking ...      3\n",
              "3253  The @user are in contention and hosting @user ...      3\n",
              "3254  @user @user @user @user @user as a fellow UP g...      0\n",
              "3255  You have a #problem? Yes! Can you do #somethin...      0\n",
              "3256  @user @user i will fight this guy! Don't insul...      0"
            ],
            "text/html": [
              "\n",
              "  <div id=\"df-f69b31e0-e119-4a6b-9a4c-7ea874b67024\" class=\"colab-df-container\">\n",
              "    <div>\n",
              "<style scoped>\n",
              "    .dataframe tbody tr th:only-of-type {\n",
              "        vertical-align: middle;\n",
              "    }\n",
              "\n",
              "    .dataframe tbody tr th {\n",
              "        vertical-align: top;\n",
              "    }\n",
              "\n",
              "    .dataframe thead th {\n",
              "        text-align: right;\n",
              "    }\n",
              "</style>\n",
              "<table border=\"1\" class=\"dataframe\">\n",
              "  <thead>\n",
              "    <tr style=\"text-align: right;\">\n",
              "      <th></th>\n",
              "      <th>processed_text</th>\n",
              "      <th>label</th>\n",
              "    </tr>\n",
              "  </thead>\n",
              "  <tbody>\n",
              "    <tr>\n",
              "      <th>3252</th>\n",
              "      <td>I get discouraged because I try for 5 fucking ...</td>\n",
              "      <td>3</td>\n",
              "    </tr>\n",
              "    <tr>\n",
              "      <th>3253</th>\n",
              "      <td>The @user are in contention and hosting @user ...</td>\n",
              "      <td>3</td>\n",
              "    </tr>\n",
              "    <tr>\n",
              "      <th>3254</th>\n",
              "      <td>@user @user @user @user @user as a fellow UP g...</td>\n",
              "      <td>0</td>\n",
              "    </tr>\n",
              "    <tr>\n",
              "      <th>3255</th>\n",
              "      <td>You have a #problem? Yes! Can you do #somethin...</td>\n",
              "      <td>0</td>\n",
              "    </tr>\n",
              "    <tr>\n",
              "      <th>3256</th>\n",
              "      <td>@user @user i will fight this guy! Don't insul...</td>\n",
              "      <td>0</td>\n",
              "    </tr>\n",
              "  </tbody>\n",
              "</table>\n",
              "</div>\n",
              "    <div class=\"colab-df-buttons\">\n",
              "\n",
              "  <div class=\"colab-df-container\">\n",
              "    <button class=\"colab-df-convert\" onclick=\"convertToInteractive('df-f69b31e0-e119-4a6b-9a4c-7ea874b67024')\"\n",
              "            title=\"Convert this dataframe to an interactive table.\"\n",
              "            style=\"display:none;\">\n",
              "\n",
              "  <svg xmlns=\"http://www.w3.org/2000/svg\" height=\"24px\" viewBox=\"0 -960 960 960\">\n",
              "    <path d=\"M120-120v-720h720v720H120Zm60-500h600v-160H180v160Zm220 220h160v-160H400v160Zm0 220h160v-160H400v160ZM180-400h160v-160H180v160Zm440 0h160v-160H620v160ZM180-180h160v-160H180v160Zm440 0h160v-160H620v160Z\"/>\n",
              "  </svg>\n",
              "    </button>\n",
              "\n",
              "  <style>\n",
              "    .colab-df-container {\n",
              "      display:flex;\n",
              "      gap: 12px;\n",
              "    }\n",
              "\n",
              "    .colab-df-convert {\n",
              "      background-color: #E8F0FE;\n",
              "      border: none;\n",
              "      border-radius: 50%;\n",
              "      cursor: pointer;\n",
              "      display: none;\n",
              "      fill: #1967D2;\n",
              "      height: 32px;\n",
              "      padding: 0 0 0 0;\n",
              "      width: 32px;\n",
              "    }\n",
              "\n",
              "    .colab-df-convert:hover {\n",
              "      background-color: #E2EBFA;\n",
              "      box-shadow: 0px 1px 2px rgba(60, 64, 67, 0.3), 0px 1px 3px 1px rgba(60, 64, 67, 0.15);\n",
              "      fill: #174EA6;\n",
              "    }\n",
              "\n",
              "    .colab-df-buttons div {\n",
              "      margin-bottom: 4px;\n",
              "    }\n",
              "\n",
              "    [theme=dark] .colab-df-convert {\n",
              "      background-color: #3B4455;\n",
              "      fill: #D2E3FC;\n",
              "    }\n",
              "\n",
              "    [theme=dark] .colab-df-convert:hover {\n",
              "      background-color: #434B5C;\n",
              "      box-shadow: 0px 1px 3px 1px rgba(0, 0, 0, 0.15);\n",
              "      filter: drop-shadow(0px 1px 2px rgba(0, 0, 0, 0.3));\n",
              "      fill: #FFFFFF;\n",
              "    }\n",
              "  </style>\n",
              "\n",
              "    <script>\n",
              "      const buttonEl =\n",
              "        document.querySelector('#df-f69b31e0-e119-4a6b-9a4c-7ea874b67024 button.colab-df-convert');\n",
              "      buttonEl.style.display =\n",
              "        google.colab.kernel.accessAllowed ? 'block' : 'none';\n",
              "\n",
              "      async function convertToInteractive(key) {\n",
              "        const element = document.querySelector('#df-f69b31e0-e119-4a6b-9a4c-7ea874b67024');\n",
              "        const dataTable =\n",
              "          await google.colab.kernel.invokeFunction('convertToInteractive',\n",
              "                                                    [key], {});\n",
              "        if (!dataTable) return;\n",
              "\n",
              "        const docLinkHtml = 'Like what you see? Visit the ' +\n",
              "          '<a target=\"_blank\" href=https://colab.research.google.com/notebooks/data_table.ipynb>data table notebook</a>'\n",
              "          + ' to learn more about interactive tables.';\n",
              "        element.innerHTML = '';\n",
              "        dataTable['output_type'] = 'display_data';\n",
              "        await google.colab.output.renderOutput(dataTable, element);\n",
              "        const docLink = document.createElement('div');\n",
              "        docLink.innerHTML = docLinkHtml;\n",
              "        element.appendChild(docLink);\n",
              "      }\n",
              "    </script>\n",
              "  </div>\n",
              "\n",
              "\n",
              "<div id=\"df-70ede32b-e819-40e8-ae47-83e36e9c0c7a\">\n",
              "  <button class=\"colab-df-quickchart\" onclick=\"quickchart('df-70ede32b-e819-40e8-ae47-83e36e9c0c7a')\"\n",
              "            title=\"Suggest charts\"\n",
              "            style=\"display:none;\">\n",
              "\n",
              "<svg xmlns=\"http://www.w3.org/2000/svg\" height=\"24px\"viewBox=\"0 0 24 24\"\n",
              "     width=\"24px\">\n",
              "    <g>\n",
              "        <path d=\"M19 3H5c-1.1 0-2 .9-2 2v14c0 1.1.9 2 2 2h14c1.1 0 2-.9 2-2V5c0-1.1-.9-2-2-2zM9 17H7v-7h2v7zm4 0h-2V7h2v10zm4 0h-2v-4h2v4z\"/>\n",
              "    </g>\n",
              "</svg>\n",
              "  </button>\n",
              "\n",
              "<style>\n",
              "  .colab-df-quickchart {\n",
              "      --bg-color: #E8F0FE;\n",
              "      --fill-color: #1967D2;\n",
              "      --hover-bg-color: #E2EBFA;\n",
              "      --hover-fill-color: #174EA6;\n",
              "      --disabled-fill-color: #AAA;\n",
              "      --disabled-bg-color: #DDD;\n",
              "  }\n",
              "\n",
              "  [theme=dark] .colab-df-quickchart {\n",
              "      --bg-color: #3B4455;\n",
              "      --fill-color: #D2E3FC;\n",
              "      --hover-bg-color: #434B5C;\n",
              "      --hover-fill-color: #FFFFFF;\n",
              "      --disabled-bg-color: #3B4455;\n",
              "      --disabled-fill-color: #666;\n",
              "  }\n",
              "\n",
              "  .colab-df-quickchart {\n",
              "    background-color: var(--bg-color);\n",
              "    border: none;\n",
              "    border-radius: 50%;\n",
              "    cursor: pointer;\n",
              "    display: none;\n",
              "    fill: var(--fill-color);\n",
              "    height: 32px;\n",
              "    padding: 0;\n",
              "    width: 32px;\n",
              "  }\n",
              "\n",
              "  .colab-df-quickchart:hover {\n",
              "    background-color: var(--hover-bg-color);\n",
              "    box-shadow: 0 1px 2px rgba(60, 64, 67, 0.3), 0 1px 3px 1px rgba(60, 64, 67, 0.15);\n",
              "    fill: var(--button-hover-fill-color);\n",
              "  }\n",
              "\n",
              "  .colab-df-quickchart-complete:disabled,\n",
              "  .colab-df-quickchart-complete:disabled:hover {\n",
              "    background-color: var(--disabled-bg-color);\n",
              "    fill: var(--disabled-fill-color);\n",
              "    box-shadow: none;\n",
              "  }\n",
              "\n",
              "  .colab-df-spinner {\n",
              "    border: 2px solid var(--fill-color);\n",
              "    border-color: transparent;\n",
              "    border-bottom-color: var(--fill-color);\n",
              "    animation:\n",
              "      spin 1s steps(1) infinite;\n",
              "  }\n",
              "\n",
              "  @keyframes spin {\n",
              "    0% {\n",
              "      border-color: transparent;\n",
              "      border-bottom-color: var(--fill-color);\n",
              "      border-left-color: var(--fill-color);\n",
              "    }\n",
              "    20% {\n",
              "      border-color: transparent;\n",
              "      border-left-color: var(--fill-color);\n",
              "      border-top-color: var(--fill-color);\n",
              "    }\n",
              "    30% {\n",
              "      border-color: transparent;\n",
              "      border-left-color: var(--fill-color);\n",
              "      border-top-color: var(--fill-color);\n",
              "      border-right-color: var(--fill-color);\n",
              "    }\n",
              "    40% {\n",
              "      border-color: transparent;\n",
              "      border-right-color: var(--fill-color);\n",
              "      border-top-color: var(--fill-color);\n",
              "    }\n",
              "    60% {\n",
              "      border-color: transparent;\n",
              "      border-right-color: var(--fill-color);\n",
              "    }\n",
              "    80% {\n",
              "      border-color: transparent;\n",
              "      border-right-color: var(--fill-color);\n",
              "      border-bottom-color: var(--fill-color);\n",
              "    }\n",
              "    90% {\n",
              "      border-color: transparent;\n",
              "      border-bottom-color: var(--fill-color);\n",
              "    }\n",
              "  }\n",
              "</style>\n",
              "\n",
              "  <script>\n",
              "    async function quickchart(key) {\n",
              "      const quickchartButtonEl =\n",
              "        document.querySelector('#' + key + ' button');\n",
              "      quickchartButtonEl.disabled = true;  // To prevent multiple clicks.\n",
              "      quickchartButtonEl.classList.add('colab-df-spinner');\n",
              "      try {\n",
              "        const charts = await google.colab.kernel.invokeFunction(\n",
              "            'suggestCharts', [key], {});\n",
              "      } catch (error) {\n",
              "        console.error('Error during call to suggestCharts:', error);\n",
              "      }\n",
              "      quickchartButtonEl.classList.remove('colab-df-spinner');\n",
              "      quickchartButtonEl.classList.add('colab-df-quickchart-complete');\n",
              "    }\n",
              "    (() => {\n",
              "      let quickchartButtonEl =\n",
              "        document.querySelector('#df-70ede32b-e819-40e8-ae47-83e36e9c0c7a button');\n",
              "      quickchartButtonEl.style.display =\n",
              "        google.colab.kernel.accessAllowed ? 'block' : 'none';\n",
              "    })();\n",
              "  </script>\n",
              "</div>\n",
              "\n",
              "    </div>\n",
              "  </div>\n"
            ],
            "application/vnd.google.colaboratory.intrinsic+json": {
              "type": "dataframe",
              "summary": "{\n  \"name\": \"df_train\",\n  \"rows\": 5,\n  \"fields\": [\n    {\n      \"column\": \"processed_text\",\n      \"properties\": {\n        \"dtype\": \"string\",\n        \"num_unique_values\": 5,\n        \"samples\": [\n          \"The @user are in contention and hosting @user nation and Camden is empty #sad\",\n          \"@user @user i will fight this guy! Don't insult the lions like that! But seriously they kinda are.Wasted some of the best players\",\n          \"@user @user @user @user @user as a fellow UP grad, i shiver at the shallowness of his arguments\"\n        ],\n        \"semantic_type\": \"\",\n        \"description\": \"\"\n      }\n    },\n    {\n      \"column\": \"label\",\n      \"properties\": {\n        \"dtype\": \"number\",\n        \"std\": 1,\n        \"min\": 0,\n        \"max\": 3,\n        \"num_unique_values\": 2,\n        \"samples\": [\n          0,\n          3\n        ],\n        \"semantic_type\": \"\",\n        \"description\": \"\"\n      }\n    }\n  ]\n}"
            }
          },
          "metadata": {},
          "execution_count": 140
        }
      ]
    },
    {
      "cell_type": "markdown",
      "source": [
        "## **Step 3: Model**"
      ],
      "metadata": {
        "id": "h5CBsnRw4hFL"
      }
    },
    {
      "cell_type": "code",
      "source": [
        "df_valid['label'] = Y_valid\n",
        "df_combined = pd.concat([df_train, df_valid], axis=0).reset_index(drop=True)\n",
        "X = df_combined['processed_text']\n",
        "y = df_combined['label'].astype(int)"
      ],
      "metadata": {
        "id": "UnoAsO50UVci"
      },
      "execution_count": 141,
      "outputs": []
    },
    {
      "cell_type": "code",
      "source": [
        "print(df_combined['label'].value_counts())"
      ],
      "metadata": {
        "colab": {
          "base_uri": "https://localhost:8080/"
        },
        "id": "y499JemW7wCZ",
        "outputId": "2b2a182c-d80a-47af-f791-33333d32aeb8"
      },
      "execution_count": 108,
      "outputs": [
        {
          "output_type": "stream",
          "name": "stdout",
          "text": [
            "label\n",
            "3    2565\n",
            "1    2124\n",
            "0    1400\n",
            "2     882\n",
            "Name: count, dtype: int64\n"
          ]
        }
      ]
    },
    {
      "cell_type": "markdown",
      "source": [
        "Vettorizzazione"
      ],
      "metadata": {
        "id": "60hlbdkRRXdc"
      }
    },
    {
      "cell_type": "markdown",
      "source": [
        "### TFIDF"
      ],
      "metadata": {
        "id": "hkN0oqB2lHDd"
      }
    },
    {
      "cell_type": "code",
      "source": [
        "X_test = df_test['processed_text']\n",
        "\n",
        "from sklearn.feature_extraction.text import TfidfVectorizer\n",
        "\n",
        "vectorizer = TfidfVectorizer()\n",
        "\n",
        "X_train_vect = vectorizer.fit_transform(X)\n",
        "X_test_vect = vectorizer.transform(X_test)\n"
      ],
      "metadata": {
        "id": "wcSQAzL7lAvQ"
      },
      "execution_count": 142,
      "outputs": []
    },
    {
      "cell_type": "markdown",
      "source": [
        "### Word2Vec"
      ],
      "metadata": {
        "id": "E02NaXCslLrw"
      }
    },
    {
      "cell_type": "code",
      "source": [
        "\"\"\"\n",
        "from gensim.models import Word2Vec\n",
        "from gensim.utils import simple_preprocess\n",
        "\n",
        "X_test = df_test['processed_text']\n",
        "\n",
        "# Assuming X and X_test are pandas Series containing your processed text\n",
        "X_tokenized = X.apply(lambda x: simple_preprocess(x))\n",
        "X_test_tokenized = X_test.apply(lambda x: simple_preprocess(x))\n",
        "\n",
        "# Combine all tokenized documents for training\n",
        "sentences = X_tokenized.tolist()\n",
        "\n",
        "# Train the model\n",
        "w2v_model = Word2Vec(\n",
        "    sentences=sentences,\n",
        "    vector_size=100,    # Dimensionality of the word vectors\n",
        "    window=5,           # Maximum distance between the current and predicted word\n",
        "    min_count=1,        # Ignores all words with total frequency lower than this\n",
        "    workers=4,          # Number of worker threads to train the model\n",
        "    sg=1                # Use skip-gram; set to 0 for CBOW\n",
        ")\n",
        "\n",
        "def document_vector(doc):\n",
        "    # Filter out words that are not in the vocabulary\n",
        "    doc = [word for word in doc if word in w2v_model.wv.key_to_index]\n",
        "    # If the document is empty after filtering, return a zero vector\n",
        "    if not doc:\n",
        "        return np.zeros(w2v_model.vector_size)\n",
        "    # Compute the mean of word vectors\n",
        "    return np.mean(w2v_model.wv[doc], axis=0)\n",
        "\n",
        "X_train_vect = X_tokenized.apply(document_vector)\n",
        "X_test_vect = X_test_tokenized.apply(document_vector)\n",
        "\n",
        "X_train_vect = np.stack(X_train_vect.values)\n",
        "X_test_vect = np.stack(X_test_vect.values)\n",
        "\"\"\""
      ],
      "metadata": {
        "id": "LYrOMnDcWmcU"
      },
      "execution_count": 39,
      "outputs": []
    },
    {
      "cell_type": "markdown",
      "source": [
        "### Pre trained embedding"
      ],
      "metadata": {
        "id": "tO_wBcj9rN0u"
      }
    },
    {
      "cell_type": "code",
      "source": [
        "\"\"\"\n",
        "from transformers import AutoTokenizer, AutoModel\n",
        "X_test = df_test['processed_text']\n",
        "model_name = 'distilbert-base-uncased'\n",
        "tokenizer = AutoTokenizer.from_pretrained(model_name)\n",
        "model = AutoModel.from_pretrained(model_name)\n",
        "def get_document_embedding(text):\n",
        "    # Tokenizzazione\n",
        "    inputs = tokenizer(text, return_tensors='pt', truncation=True, padding=True)\n",
        "    # Ottieni le ultime hidden states dal modello\n",
        "    with torch.no_grad():\n",
        "        outputs = model(**inputs)\n",
        "    # Prendi l'embedding del token [CLS] (il primo token)\n",
        "    embeddings = outputs.last_hidden_state[:, 0, :].numpy()\n",
        "    return embeddings.squeeze()\n",
        "# Applica la funzione ai dati di addestramento\n",
        "X_train_vect = X.apply(get_document_embedding)\n",
        "\n",
        "# Applica la funzione ai dati di test\n",
        "X_test_vect = X_test.apply(get_document_embedding)\n",
        "X_train_vect = np.vstack(X_train_vect.values)\n",
        "X_test_vect = np.vstack(X_test_vect.values)\n",
        "\"\"\""
      ],
      "metadata": {
        "colab": {
          "base_uri": "https://localhost:8080/",
          "height": 342,
          "referenced_widgets": [
            "969bb2323a3c4404befeb8b0727380bd",
            "274690cbef344beabf79d5e4ab12e0a7",
            "726a332bb18d49948046f46b7f76a2d6",
            "013a7b04a1e942d3917316edbf2b8724",
            "4b2f1149041646c3ab48cb1f42aa5d88",
            "d55f97bff0364ec1b94c09dccab7d71d",
            "c40a054c247f47c1a506abfce1c1e851",
            "9c001662242e443ca0af19e7bbc08202",
            "bc8d16bc57d4490b8475490ebb4eadfc",
            "b0ec7c3f0da94d9c8d6d8036b253664e",
            "69f4fef413074cab91cd89b273369ace",
            "fc55f43646a7461895fb4b8f467e5904",
            "4c4f9f0da4a94e108e3f4e39b3f2162e",
            "7ed6a7069d9c4a529228af18903ea54e",
            "fc5ece1ae1124dbbb3eecc027769e9b4",
            "1e2a51f2a64b4230ab1e94154bb3095d",
            "b939c7379bfe453b85cf0259eb6bb6c7",
            "86d5e672b91c4cea9f11134252b6470d",
            "eb993e8a8242404887fcdcce51877284",
            "6542646a92904f9cbdb15cc761447e21",
            "682e390aa14a440a8c8656168c443751",
            "b0885763bccc426ab40990aa6d811da0",
            "b876fcce89d14255a40002b988315b5e",
            "151e368ac01346948c9e302c55e0f3f9",
            "b32ec7dfc1694ead89173bd77447774a",
            "40f792c32096479096505bc0582c2236",
            "f0d34c4280e54c598d07e2aece9a819e",
            "e0c5e04eba9543db970c2ec6574e197d",
            "929b93002b5b42749aa0aa2d794634f9",
            "4d42490724334a5ca68659d7d054de03",
            "60ed34e2d4ca4b86aa66b9e256b2efc2",
            "8849e63bf9ec4f8b9d86ec363747b620",
            "2756447c79d34e12aa234a67ccbdeb6c",
            "9dac28c83d7e43be9a2c119e75beed23",
            "3313c2913ba04e758d86ebc9de3c9a77",
            "3855e28aa34d4886b9a76c49a9acd0cf",
            "7bb1ce4578e140958a8d63f7e9fea909",
            "e50106e6a14a46e291711a52c9b794a3",
            "ab56059eed46411b9bac259d0bcc1c93",
            "81d7a18ab359441e9a404232e7f7706a",
            "41461172d2bb474ea1cfe14718e698a8",
            "a729b23be1b5429e8325f6d6c6fb82fc",
            "b26727d759324335aba17e2288d82a6d",
            "07cf92a1d9404b7282f9510704326f03",
            "67d369cf710d4242b3170bf7f567484a",
            "36817c001ad0475d857ab561cf65b8a1",
            "b2c0b663ca56455fbcf7866c5f5f29e7",
            "d65e594daf934b13915f0870f682a251",
            "425c0190ca3f465a8c488816f8849aeb",
            "81ed28f128b546029c3ce9e9f94e7821",
            "27cdd617cfd142e9aa12284d7f1b2d94",
            "5a45c66b1ef444fabeffb534bbdd1ecb",
            "1dffa3ea486845f8ba345d19946a7cb9",
            "619a60169f20465c8377b3df26f84d31",
            "bfda2a3262674d93b1fa8a3d5d56f2d8"
          ]
        },
        "id": "kiquGS29muRR",
        "outputId": "12355a62-23b2-4783-dc98-555cf74165fd"
      },
      "execution_count": 47,
      "outputs": [
        {
          "output_type": "stream",
          "name": "stderr",
          "text": [
            "/usr/local/lib/python3.10/dist-packages/huggingface_hub/utils/_token.py:89: UserWarning: \n",
            "The secret `HF_TOKEN` does not exist in your Colab secrets.\n",
            "To authenticate with the Hugging Face Hub, create a token in your settings tab (https://huggingface.co/settings/tokens), set it as secret in your Google Colab and restart your session.\n",
            "You will be able to reuse this secret in all of your notebooks.\n",
            "Please note that authentication is recommended but still optional to access public models or datasets.\n",
            "  warnings.warn(\n"
          ]
        },
        {
          "output_type": "display_data",
          "data": {
            "text/plain": [
              "tokenizer_config.json:   0%|          | 0.00/48.0 [00:00<?, ?B/s]"
            ],
            "application/vnd.jupyter.widget-view+json": {
              "version_major": 2,
              "version_minor": 0,
              "model_id": "969bb2323a3c4404befeb8b0727380bd"
            }
          },
          "metadata": {}
        },
        {
          "output_type": "display_data",
          "data": {
            "text/plain": [
              "config.json:   0%|          | 0.00/483 [00:00<?, ?B/s]"
            ],
            "application/vnd.jupyter.widget-view+json": {
              "version_major": 2,
              "version_minor": 0,
              "model_id": "fc55f43646a7461895fb4b8f467e5904"
            }
          },
          "metadata": {}
        },
        {
          "output_type": "display_data",
          "data": {
            "text/plain": [
              "vocab.txt:   0%|          | 0.00/232k [00:00<?, ?B/s]"
            ],
            "application/vnd.jupyter.widget-view+json": {
              "version_major": 2,
              "version_minor": 0,
              "model_id": "b876fcce89d14255a40002b988315b5e"
            }
          },
          "metadata": {}
        },
        {
          "output_type": "display_data",
          "data": {
            "text/plain": [
              "tokenizer.json:   0%|          | 0.00/466k [00:00<?, ?B/s]"
            ],
            "application/vnd.jupyter.widget-view+json": {
              "version_major": 2,
              "version_minor": 0,
              "model_id": "9dac28c83d7e43be9a2c119e75beed23"
            }
          },
          "metadata": {}
        },
        {
          "output_type": "stream",
          "name": "stderr",
          "text": [
            "/usr/local/lib/python3.10/dist-packages/transformers/tokenization_utils_base.py:1601: FutureWarning: `clean_up_tokenization_spaces` was not set. It will be set to `True` by default. This behavior will be depracted in transformers v4.45, and will be then set to `False` by default. For more details check this issue: https://github.com/huggingface/transformers/issues/31884\n",
            "  warnings.warn(\n"
          ]
        },
        {
          "output_type": "display_data",
          "data": {
            "text/plain": [
              "model.safetensors:   0%|          | 0.00/268M [00:00<?, ?B/s]"
            ],
            "application/vnd.jupyter.widget-view+json": {
              "version_major": 2,
              "version_minor": 0,
              "model_id": "67d369cf710d4242b3170bf7f567484a"
            }
          },
          "metadata": {}
        }
      ]
    },
    {
      "cell_type": "markdown",
      "source": [
        "### Logistic regression"
      ],
      "metadata": {
        "id": "RhcCHwl_XcOa"
      }
    },
    {
      "cell_type": "code",
      "source": [
        "# Train the logistic regression model\n",
        "from sklearn.linear_model import LogisticRegression\n",
        "\n",
        "model = LogisticRegression(max_iter=1000, class_weight=\"balanced\", )\n",
        "model.fit(X_train_vect, y)\n",
        "\n",
        "# Make predictions on the test set\n",
        "y_pred = model.predict(X_test_vect)\n",
        "\n",
        "# Save the predictions to a CSV file\n",
        "df_predictions = pd.DataFrame(y_pred, columns=['label'])\n",
        "df_predictions.to_csv('previsioni_migliori_LR.csv', index=False)\n",
        "\n",
        "print(\"Predictions saved to 'test_predictions.csv'\")"
      ],
      "metadata": {
        "colab": {
          "base_uri": "https://localhost:8080/"
        },
        "id": "CeAm9BGI4flo",
        "outputId": "6072c626-c880-4d2c-90b0-6b8c5c78281c"
      },
      "execution_count": 143,
      "outputs": [
        {
          "output_type": "stream",
          "name": "stdout",
          "text": [
            "Predictions saved to 'test_predictions.csv'\n"
          ]
        }
      ]
    },
    {
      "cell_type": "markdown",
      "source": [
        "### Multinomial Naive Bayes"
      ],
      "metadata": {
        "id": "63c6QxVqyE8N"
      }
    },
    {
      "cell_type": "code",
      "source": [
        "from sklearn.naive_bayes import MultinomialNB\n",
        "\n",
        "# Allena il modello Naive Bayes\n",
        "nb_model = MultinomialNB()\n",
        "nb_model.fit(X_train_vect, y)\n",
        "\n",
        "# Make predictions on the test set\n",
        "y_pred = nb_model.predict(X_test_vect)\n",
        "\n",
        "# Save the predictions to a CSV file\n",
        "df_predictions = pd.DataFrame(y_pred, columns=['label'])\n",
        "df_predictions.to_csv('previsioni_migliori_NB.csv', index=False)\n",
        "\n",
        "print(\"Predictions saved to 'test_predictions.csv'\")"
      ],
      "metadata": {
        "colab": {
          "base_uri": "https://localhost:8080/"
        },
        "id": "FMKpakUp1i4J",
        "outputId": "53c87655-05b8-418e-d2cb-e57e685bdc88"
      },
      "execution_count": 117,
      "outputs": [
        {
          "output_type": "stream",
          "name": "stdout",
          "text": [
            "Predictions saved to 'test_predictions.csv'\n"
          ]
        }
      ]
    },
    {
      "cell_type": "markdown",
      "source": [
        "### XGB"
      ],
      "metadata": {
        "id": "9kYd3Mu8RZYr"
      }
    },
    {
      "cell_type": "code",
      "source": [
        "import xgboost as xgb\n",
        "from xgboost import XGBClassifier\n",
        "\n",
        "# Allena il modello XGBoost\n",
        "xgb_model = XGBClassifier(use_label_encoder=False, eval_metric='mlogloss', class_weight=\"balanced\")\n",
        "xgb_model.fit(X_train_vect, y)\n",
        "\n",
        "# Make predictions on the test set\n",
        "y_pred = xgb_model.predict(X_test_vect)\n",
        "\n",
        "# Save the predictions to a CSV file\n",
        "df_predictions = pd.DataFrame(y_pred, columns=['label'])\n",
        "df_predictions.to_csv('previsioni_migliori_XGB.csv', index=False)\n",
        "\n",
        "print(\"Predictions saved to 'test_predictions.csv'\")\n"
      ],
      "metadata": {
        "colab": {
          "base_uri": "https://localhost:8080/"
        },
        "id": "ZQ0zkZOnRRTA",
        "outputId": "0bb46df5-cae4-4621-bd97-fe1544e1d434"
      },
      "execution_count": null,
      "outputs": [
        {
          "output_type": "stream",
          "name": "stderr",
          "text": [
            "/usr/local/lib/python3.10/dist-packages/xgboost/core.py:158: UserWarning: [21:50:05] WARNING: /workspace/src/learner.cc:740: \n",
            "Parameters: { \"class_weight\", \"use_label_encoder\" } are not used.\n",
            "\n",
            "  warnings.warn(smsg, UserWarning)\n"
          ]
        },
        {
          "output_type": "stream",
          "name": "stdout",
          "text": [
            "Predictions saved to 'test_predictions.csv'\n"
          ]
        }
      ]
    },
    {
      "cell_type": "markdown",
      "source": [
        "### Random Forest"
      ],
      "metadata": {
        "id": "sREPWOOlmEBo"
      }
    },
    {
      "cell_type": "code",
      "source": [
        "from sklearn.ensemble import RandomForestClassifier\n",
        "\n",
        "# Allena il modello Random Forest\n",
        "rf_model = RandomForestClassifier(n_estimators=100, random_state=42, class_weight=\"balanced\")\n",
        "rf_model.fit(X_train_vect, y)\n",
        "\n",
        "# Make predictions on the test set\n",
        "y_pred = rf_model.predict(X_test_vect)\n",
        "\n",
        "# Save the predictions to a CSV file\n",
        "df_predictions = pd.DataFrame(y_pred, columns=['label'])\n",
        "df_predictions.to_csv('previsioni_migliori_RF.csv', index=False)\n",
        "\n",
        "print(\"Predictions saved to 'test_predictions.csv'\")\n"
      ],
      "metadata": {
        "colab": {
          "base_uri": "https://localhost:8080/"
        },
        "id": "Cj4x550RdmD-",
        "outputId": "2f384d1c-4ff9-4885-9597-e7846084ae70"
      },
      "execution_count": 118,
      "outputs": [
        {
          "output_type": "stream",
          "name": "stdout",
          "text": [
            "Predictions saved to 'test_predictions.csv'\n"
          ]
        }
      ]
    },
    {
      "cell_type": "markdown",
      "source": [
        "### Support Vector Machine"
      ],
      "metadata": {
        "id": "JjQe8ctymF-n"
      }
    },
    {
      "cell_type": "code",
      "source": [
        "from sklearn.svm import SVC\n",
        "\n",
        "# Allena il modello SVM\n",
        "svm_model = SVC(kernel='linear', probability=True, class_weight=\"balanced\")\n",
        "svm_model.fit(X_train_vect, y)\n",
        "\n",
        "# Make predictions on the test set\n",
        "y_pred = svm_model.predict(X_test_vect)\n",
        "\n",
        "# Save the predictions to a CSV file\n",
        "df_predictions = pd.DataFrame(y_pred, columns=['label'])\n",
        "df_predictions.to_csv('previsioni_migliori_SVM.csv', index=False)\n",
        "\n",
        "print(\"Predictions saved to 'test_predictions.csv'\")"
      ],
      "metadata": {
        "id": "Tv-_zp3fgn0O",
        "colab": {
          "base_uri": "https://localhost:8080/"
        },
        "outputId": "945aea35-cd47-4421-967d-3716cc0851d6"
      },
      "execution_count": null,
      "outputs": [
        {
          "output_type": "stream",
          "name": "stdout",
          "text": [
            "Predictions saved to 'test_predictions.csv'\n"
          ]
        }
      ]
    },
    {
      "cell_type": "markdown",
      "source": [
        "### Multi layer perceptron"
      ],
      "metadata": {
        "id": "Z475nHXRms7h"
      }
    },
    {
      "cell_type": "code",
      "source": [
        "from sklearn.neural_network import MLPClassifier\n",
        "\n",
        "# Allena il modello MLP\n",
        "mlp_model = MLPClassifier(hidden_layer_sizes=(100,), max_iter=300, random_state=42)\n",
        "mlp_model.fit(X_train_vect, y)\n",
        "\n",
        "# Make predictions on the test set\n",
        "y_pred = mlp_model.predict(X_test_vect)\n",
        "\n",
        "# Save the predictions to a CSV file\n",
        "df_predictions = pd.DataFrame(y_pred, columns=['label'])\n",
        "df_predictions.to_csv('previsioni_migliori_MLP.csv', index=False)\n",
        "\n",
        "print(\"Predictions saved to 'test_predictions.csv'\")"
      ],
      "metadata": {
        "id": "96Iws0_TmMmw",
        "colab": {
          "base_uri": "https://localhost:8080/"
        },
        "outputId": "50a75893-24d2-4484-f333-f95b29d08748"
      },
      "execution_count": null,
      "outputs": [
        {
          "output_type": "stream",
          "name": "stdout",
          "text": [
            "Predictions saved to 'test_predictions.csv'\n"
          ]
        }
      ]
    },
    {
      "cell_type": "markdown",
      "source": [
        "### LightGBM"
      ],
      "metadata": {
        "id": "IdI1JE8dyMJe"
      }
    },
    {
      "cell_type": "code",
      "source": [
        "import lightgbm as lgb\n",
        "lgb_model = lgb.LGBMClassifier(class_weight=\"balanced\")\n",
        "lgb_model.fit(X_train_vect, y)\n",
        "\n",
        "# Make predictions on the test set\n",
        "y_pred = lgb_model.predict(X_test_vect)\n",
        "\n",
        "# Save the predictions to a CSV file\n",
        "df_predictions = pd.DataFrame(y_pred, columns=['label'])\n",
        "df_predictions.to_csv('previsioni_migliori_LGB.csv', index=False)\n",
        "\n",
        "print(\"Predictions saved to 'test_predictions.csv'\")"
      ],
      "metadata": {
        "colab": {
          "base_uri": "https://localhost:8080/"
        },
        "id": "RT8HDGVM2RZ-",
        "outputId": "9bb54993-1ac9-43fc-fc5c-4678ae33b1f0"
      },
      "execution_count": null,
      "outputs": [
        {
          "output_type": "stream",
          "name": "stderr",
          "text": [
            "/usr/local/lib/python3.10/dist-packages/dask/dataframe/__init__.py:42: FutureWarning: \n",
            "Dask dataframe query planning is disabled because dask-expr is not installed.\n",
            "\n",
            "You can install it with `pip install dask[dataframe]` or `conda install dask`.\n",
            "This will raise in a future version.\n",
            "\n",
            "  warnings.warn(msg, FutureWarning)\n"
          ]
        },
        {
          "output_type": "stream",
          "name": "stdout",
          "text": [
            "[LightGBM] [Info] Auto-choosing row-wise multi-threading, the overhead of testing was 0.027976 seconds.\n",
            "You can set `force_row_wise=true` to remove the overhead.\n",
            "And if memory is not enough, you can set `force_col_wise=true`.\n",
            "[LightGBM] [Info] Total Bins 8530\n",
            "[LightGBM] [Info] Number of data points in the train set: 5488, number of used features: 448\n",
            "[LightGBM] [Info] Start training from score -1.386294\n",
            "[LightGBM] [Info] Start training from score -1.386294\n",
            "[LightGBM] [Info] Start training from score -1.386294\n",
            "[LightGBM] [Info] Start training from score -1.386294\n",
            "Predictions saved to 'test_predictions.csv'\n"
          ]
        }
      ]
    },
    {
      "cell_type": "markdown",
      "source": [
        "### ADABoost"
      ],
      "metadata": {
        "id": "ctb9dJQayO-X"
      }
    },
    {
      "cell_type": "code",
      "source": [
        "from sklearn.ensemble import AdaBoostClassifier\n",
        "model_ada = AdaBoostClassifier(n_estimators=100, random_state=42)\n",
        "model_ada.fit(X_train_vect, y)\n",
        "\n",
        "# Make predictions on the test set\n",
        "y_pred = model_ada.predict(X_test_vect)\n",
        "\n",
        "# Save the predictions to a CSV file\n",
        "df_predictions = pd.DataFrame(y_pred, columns=['label'])\n",
        "df_predictions.to_csv('previsioni_migliori_ADA.csv', index=False)\n",
        "\n",
        "print(\"Predictions saved to 'test_predictions.csv'\")"
      ],
      "metadata": {
        "colab": {
          "base_uri": "https://localhost:8080/"
        },
        "id": "mCQfRY_X2aIt",
        "outputId": "4867cea1-5d9b-4877-efa2-4828e78d2470"
      },
      "execution_count": null,
      "outputs": [
        {
          "output_type": "stream",
          "name": "stderr",
          "text": [
            "/usr/local/lib/python3.10/dist-packages/sklearn/ensemble/_weight_boosting.py:527: FutureWarning: The SAMME.R algorithm (the default) is deprecated and will be removed in 1.6. Use the SAMME algorithm to circumvent this warning.\n",
            "  warnings.warn(\n"
          ]
        },
        {
          "output_type": "stream",
          "name": "stdout",
          "text": [
            "Predictions saved to 'test_predictions.csv'\n"
          ]
        }
      ]
    },
    {
      "cell_type": "markdown",
      "source": [
        "### Passive Aggressive"
      ],
      "metadata": {
        "id": "3cw1fhhdyRjs"
      }
    },
    {
      "cell_type": "code",
      "source": [
        "from sklearn.linear_model import PassiveAggressiveClassifier\n",
        "model_PA = PassiveAggressiveClassifier(max_iter=1000, random_state=42,class_weight=\"balanced\")\n",
        "model_PA.fit(X_train_vect, y)\n",
        "\n",
        "# Make predictions on the test set\n",
        "y_pred = model_PA.predict(X_test_vect)\n",
        "\n",
        "# Save the predictions to a CSV file\n",
        "df_predictions = pd.DataFrame(y_pred, columns=['label'])\n",
        "df_predictions.to_csv('previsioni_migliori_PA.csv', index=False)\n",
        "\n",
        "print(\"Predictions saved to 'test_predictions.csv'\")"
      ],
      "metadata": {
        "colab": {
          "base_uri": "https://localhost:8080/"
        },
        "id": "DBbwbfF52myn",
        "outputId": "433af8f2-24a5-4fe1-f5d7-95be1433057b"
      },
      "execution_count": 52,
      "outputs": [
        {
          "output_type": "stream",
          "name": "stdout",
          "text": [
            "Predictions saved to 'test_predictions.csv'\n"
          ]
        }
      ]
    },
    {
      "cell_type": "markdown",
      "source": [
        "### Extra Tree Classify"
      ],
      "metadata": {
        "id": "oFSLIZvAyThL"
      }
    },
    {
      "cell_type": "code",
      "source": [
        "from sklearn.ensemble import ExtraTreesClassifier\n",
        "model_ETC = ExtraTreesClassifier(n_estimators=100, random_state=42,class_weight=\"balanced\")\n",
        "model_ETC.fit(X_train_vect, y)\n",
        "\n",
        "# Make predictions on the test set\n",
        "y_pred = model_ETC.predict(X_test_vect)\n",
        "\n",
        "# Save the predictions to a CSV file\n",
        "df_predictions = pd.DataFrame(y_pred, columns=['label'])\n",
        "df_predictions.to_csv('previsioni_migliori_ETC.csv', index=False)\n",
        "\n",
        "print(\"Predictions saved to 'test_predictions.csv'\")"
      ],
      "metadata": {
        "colab": {
          "base_uri": "https://localhost:8080/"
        },
        "id": "cQuY_Civ2wKJ",
        "outputId": "e295cfb0-5dd7-42ef-9504-4dfd66d37d00"
      },
      "execution_count": null,
      "outputs": [
        {
          "output_type": "stream",
          "name": "stdout",
          "text": [
            "Predictions saved to 'test_predictions.csv'\n"
          ]
        }
      ]
    },
    {
      "cell_type": "markdown",
      "source": [
        "## Voting"
      ],
      "metadata": {
        "id": "hJ5YdRaAQ5jm"
      }
    },
    {
      "cell_type": "markdown",
      "source": [
        "### Merge prediction in a single dataframe"
      ],
      "metadata": {
        "id": "XRjhOxDnm8Mh"
      }
    },
    {
      "cell_type": "code",
      "source": [
        "lr = pd.read_csv(\"/content/previsioni_migliori_LR.csv\")\n",
        "#nb = pd.read_csv(\"/content/previsioni_migliori_NB.csv\")\n",
        "#xgb = pd.read_csv(\"/content/previsioni_migliori_XGB.csv\")\n",
        "#rf = pd.read_csv(\"/content/previsioni_migliori_RF.csv\")\n",
        "#svm = pd.read_csv(\"/content/previsioni_migliori_SVM.csv\")\n",
        "#mlp = pd.read_csv(\"/content/previsioni_migliori_MLP.csv\")\n",
        "#lgb = pd.read_csv(\"/content/previsioni_migliori_LGB.csv\")\n",
        "#ada = pd.read_csv(\"/content/previsioni_migliori_ADA.csv\")\n",
        "#pa = pd.read_csv(\"/content/previsioni_migliori_PA.csv\")\n",
        "#etc = pd.read_csv(\"/content/previsioni_migliori_ETC.csv\")\n",
        "\n",
        "\n",
        "lr.rename(columns={'label': 'LR'}, inplace=True)\n",
        "#nb.rename(columns={'label': 'NB'}, inplace=True)\n",
        "#xgb.rename(columns={'label': 'XGB'}, inplace=True)\n",
        "#rf.rename(columns={'label': 'RF'}, inplace=True)\n",
        "#svm.rename(columns={'label': 'SVM'}, inplace=True)\n",
        "#mlp.rename(columns={'label': 'MLP'}, inplace=True)\n",
        "#lgb.rename(columns={'label': 'LGB'}, inplace=True)\n",
        "#ada.rename(columns={'label': 'ADA'}, inplace=True)\n",
        "#pa.rename(columns={'label': 'PA'}, inplace=True)\n",
        "#etc.rename(columns={'label': 'ETC'}, inplace=True)\n",
        "\n",
        "final_df = pd.concat([lr], axis=1)\n",
        "final_df.to_csv('merged_labels.csv', index=False)"
      ],
      "metadata": {
        "id": "HAmcpKKOSiHP"
      },
      "execution_count": 144,
      "outputs": []
    },
    {
      "cell_type": "markdown",
      "source": [
        "### make the final prediction"
      ],
      "metadata": {
        "id": "qzbJMizmnAdD"
      }
    },
    {
      "cell_type": "code",
      "source": [
        "labels = final_df.mode(axis=1).iloc[:, 0].astype(int)\n",
        "output_df = pd.DataFrame({'label': labels})\n",
        "\n",
        "output_df.to_csv('previsioni_finali_lr_terminato.csv', index=False)\n",
        "\n",
        "print(\"Predictions saved to 'test_predictions.csv, daje'\")"
      ],
      "metadata": {
        "id": "mOSeYci8S2M7",
        "colab": {
          "base_uri": "https://localhost:8080/"
        },
        "outputId": "9266a5d0-11c3-4ee3-a3e9-265e43d2bcf0"
      },
      "execution_count": 145,
      "outputs": [
        {
          "output_type": "stream",
          "name": "stdout",
          "text": [
            "Predictions saved to 'test_predictions.csv, daje'\n"
          ]
        }
      ]
    }
  ]
}